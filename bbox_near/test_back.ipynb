{
 "cells": [
  {
   "cell_type": "code",
   "execution_count": 1,
   "metadata": {},
   "outputs": [],
   "source": [
    "import os\n",
    "import random\n",
    "import math\n",
    "import kornia\n",
    "import numpy as np\n",
    "from shapely.geometry import Polygon\n",
    "import pandas as pd\n",
    "import pdb\n",
    "from collections import OrderedDict\n",
    "import matplotlib\n",
    "import matplotlib.pyplot as plt\n",
    "from matplotlib import collections  as mc\n",
    "matplotlib.rcParams['figure.figsize'] = [6, 6]\n",
    "matplotlib.rcParams['figure.dpi'] = 200\n",
    "\n",
    "import torch\n",
    "import torch.nn as nn\n",
    "import torch.nn.functional as F\n",
    "import torchvision\n",
    "from torchvision import transforms\n",
    "\n",
    "from data_helper import UnlabeledDataset, LabeledDataset\n",
    "from helper import draw_box\n",
    "\n",
    "# random.seed(0)\n",
    "# np.random.seed(0)\n",
    "# torch.manual_seed(0);\n",
    "\n",
    "# All the images are saved in image_folder\n",
    "# All the labels are saved in the annotation_csv file\n",
    "image_folder = '/scratch/brs426/data'\n",
    "annotation_csv = '/scratch/brs426/data/annotation.csv'\n",
    "\n",
    "# You shouldn't change the unlabeled_scene_index\n",
    "# The first 106 scenes are unlabeled\n",
    "unlabeled_scene_index = np.arange(106)\n",
    "# The scenes from 106 - 133 are labeled\n",
    "# You should devide the labeled_scene_index into two subsets (training and validation)\n",
    "train_labeled_scene_index = np.arange(109, 134)\n",
    "val_labeled_scene_index = np.arange(106, 109)\n",
    "test_labeled_scene_index = np.arange(106, 109)\n",
    "\n",
    "from utils.angles import within_angles"
   ]
  },
  {
   "cell_type": "code",
   "execution_count": 2,
   "metadata": {},
   "outputs": [],
   "source": [
    "VERT_BLOCK_SIZE = 10\n",
    "HORIZ_BLOCK_SIZE = 10\n",
    "BLOCK_AREA = VERT_BLOCK_SIZE * HORIZ_BLOCK_SIZE"
   ]
  },
  {
   "cell_type": "code",
   "execution_count": 3,
   "metadata": {},
   "outputs": [],
   "source": [
    "def collate_fn(batch):\n",
    "    left_images = []\n",
    "    target = []\n",
    "    road_maps = []\n",
    "    bbox_maps = []\n",
    "    bbox_bins = []\n",
    "    bbs = []\n",
    "    target_counts = []\n",
    "    for x in batch:\n",
    "        \n",
    "        # Get road_image and cast it to float\n",
    "        road_image = torch.as_tensor(x[2]).float()\n",
    "        road_maps.append(road_image)\n",
    "        \n",
    "        # Collect six images for this sample. \n",
    "        # TODO: Try cutting off the top 100 pixels (that can lead to overfitting)\n",
    "        image = torch.Tensor(x[0][4])[:, 130:, :]\n",
    "        left_images.append(image)\n",
    "        \n",
    "        # target\n",
    "        bb_tens = x[1]['bounding_box']\n",
    "        current_bbs = []\n",
    "        bbox_map = torch.zeros((800, 800))\n",
    "        counts = np.zeros(28)\n",
    "        count = 0\n",
    "        \n",
    "        # Create the bounding box map. \n",
    "        for i, corners in enumerate(bb_tens):\n",
    "            \n",
    "            # Grab the current bounding box. \n",
    "            current_bbs.append(corners)\n",
    "            \n",
    "            # Get its four bird's-eye view coordinates. \n",
    "            point_squence = torch.stack([corners[:, 0], corners[:, 1], corners[:, 3], corners[:, 2]])\n",
    "            xs = point_squence.T[0] * 10 + 400\n",
    "            ys = -point_squence.T[1] * 10 + 400\n",
    "            \n",
    "            # xs is horizontal, ys is vertical through. \n",
    "            # But we're doing things row, column way. \n",
    "            \n",
    "            # Only get the bounding boxes that are close-by. On the same road. \n",
    "            # We want to see if the model can fucking predict cars that are close by. \n",
    "            \n",
    "            center_x, center_y = torch.mean(xs).item(), torch.mean(ys).item()\n",
    "            if within_angles(xs, ys, angle1=148, angle2=215) and center_y > 290 and center_y < 525 and center_x > 140:\n",
    "            \n",
    "                # Grab the top-left coordinates. \n",
    "                r, c = int(torch.min(ys).item()), int(torch.min(xs).item())\n",
    "                r_len, c_len = int(torch.max(ys).item()) - r, int(torch.max(xs).item()) - c\n",
    "\n",
    "                # Fill in the bbox. \n",
    "                bbox_map[r:r+r_len, c:c+c_len] = 1.0\n",
    "\n",
    "                count += 1\n",
    "            \n",
    "        # Convert the bounding box map into classes (5px by 5px bins)\n",
    "        bbox_grid = []\n",
    "        for x_ in range(0, 800, VERT_BLOCK_SIZE):\n",
    "            for y in range(0, 800, HORIZ_BLOCK_SIZE):\n",
    "                block = bbox_map[x_:x_+VERT_BLOCK_SIZE, y:y+HORIZ_BLOCK_SIZE]\n",
    "                score = torch.sum(block).item()\n",
    "                # If more than have the pixels are 1, classify as bbox car\n",
    "                if score > 0.5 * (BLOCK_AREA):\n",
    "                    bbox_grid.append(1.0)\n",
    "                else:\n",
    "                    bbox_grid.append(0.0)\n",
    "                    \n",
    "        bbox_bins.append(torch.Tensor(bbox_grid))\n",
    "              \n",
    "        counts[count] = 1\n",
    "\n",
    "        # Label Smoothing #\n",
    "#         if count > 15 and count < 88:\n",
    "#             counts[count+1] = 0.2\n",
    "#             counts[count-1] = 0.2\n",
    "            \n",
    "        target_counts.append(torch.Tensor(counts))\n",
    "        \n",
    "        bbox_maps.append(bbox_map)\n",
    "\n",
    "        bbs.append(current_bbs)\n",
    "                \n",
    "    boom = torch.stack(left_images), torch.stack(bbox_bins), torch.stack(road_maps), bbs, torch.stack(target_counts), torch.stack(bbox_maps) \n",
    "    return boom"
   ]
  },
  {
   "cell_type": "code",
   "execution_count": 4,
   "metadata": {},
   "outputs": [],
   "source": [
    "val_transform = transforms.ToTensor()\n",
    "\n",
    "labeled_valset = LabeledDataset(image_folder=image_folder,\n",
    "                                  annotation_file=annotation_csv,\n",
    "                                  scene_index=val_labeled_scene_index,\n",
    "                                  transform=val_transform,\n",
    "                                  extra_info=True\n",
    "                                 )"
   ]
  },
  {
   "cell_type": "code",
   "execution_count": 5,
   "metadata": {},
   "outputs": [],
   "source": [
    "# Compute threat scores\n",
    "def reconstruct_from_bins(bins, threshold):\n",
    "    road_map = torch.zeros((800, 800))\n",
    "    idx = 0\n",
    "    for x in range(0, 800, VERT_BLOCK_SIZE):\n",
    "        for y in range(0, 800, HORIZ_BLOCK_SIZE):\n",
    "            road_map[x:x+VERT_BLOCK_SIZE, y:y+HORIZ_BLOCK_SIZE] = bins[idx]\n",
    "            idx += 1\n",
    "    return road_map > threshold"
   ]
  },
  {
   "cell_type": "code",
   "execution_count": 6,
   "metadata": {},
   "outputs": [],
   "source": [
    "def draw_vish_box(ax, class_box, width, height, color):\n",
    "    box_xs = [class_box[1], class_box[1], class_box[1]+width, class_box[1]+width, class_box[1]]\n",
    "    box_ys = [class_box[0], class_box[0]+height, class_box[0]+height, class_box[0], class_box[0]]\n",
    "    ax.plot(box_xs, box_ys, color=color)"
   ]
  },
  {
   "cell_type": "code",
   "execution_count": 7,
   "metadata": {},
   "outputs": [],
   "source": [
    "class SimpleModel(nn.Module):\n",
    "    def __init__(self):\n",
    "        super(SimpleModel, self).__init__()\n",
    "        \n",
    "        self.encoder = torchvision.models.resnet18()\n",
    "        self.encoder.fc = nn.Identity()\n",
    "        self.concat_dim = 100\n",
    "        self.dropout = nn.Dropout(p = 0.2)\n",
    "        self.bn = nn.BatchNorm1d(self.concat_dim)\n",
    "        \n",
    "        self.compress = nn.Sequential(OrderedDict([\n",
    "            ('linear0', nn.Linear(512, 100)),\n",
    "            ('relu', nn.ReLU()),\n",
    "        ]))\n",
    "        \n",
    "        self.vehicle_map = nn.Sequential(OrderedDict([\n",
    "            ('linear1_vehicle', nn.Linear(self.concat_dim, 6400)),\n",
    "        ]))\n",
    "        \n",
    "        self.counts = nn.Sequential(OrderedDict([\n",
    "            ('count1', nn.Linear(self.concat_dim, 60))\n",
    "        ]))\n",
    "        \n",
    "    def forward(self, x):\n",
    "        \n",
    "        batch_size = x.shape[0]\n",
    "        channels = x.shape[1]\n",
    "        height = x.shape[2]\n",
    "        width = x.shape[3]\n",
    "        # Reshape here\n",
    "        x = x.view(-1, channels, height, width)\n",
    "        x = self.encoder(x)\n",
    "        x = self.compress(x)\n",
    "        x = x.view(-1, self.concat_dim)\n",
    "        x = self.bn(x)\n",
    "        x = self.dropout(x)\n",
    "    \n",
    "        return self.vehicle_map(x), self.counts(x)"
   ]
  },
  {
   "cell_type": "code",
   "execution_count": 8,
   "metadata": {},
   "outputs": [
    {
     "data": {
      "text/plain": [
       "<All keys matched successfully>"
      ]
     },
     "execution_count": 8,
     "metadata": {},
     "output_type": "execute_result"
    }
   ],
   "source": [
    "device = torch.device(\"cpu\")\n",
    "model = SimpleModel().to(device)\n",
    "model.load_state_dict(torch.load('/scratch/vr1059/back_image_resnet18_val_new_gauss_3_super_near.pt', map_location=device))\n"
   ]
  },
  {
   "cell_type": "code",
   "execution_count": 9,
   "metadata": {},
   "outputs": [
    {
     "name": "stdout",
     "output_type": "stream",
     "text": [
      "done.\n"
     ]
    }
   ],
   "source": [
    "model.eval()\n",
    "print('done.')"
   ]
  },
  {
   "cell_type": "code",
   "execution_count": 10,
   "metadata": {},
   "outputs": [],
   "source": [
    "val_loader = torch.utils.data.DataLoader(labeled_valset, batch_size=15, shuffle=True, collate_fn=collate_fn)"
   ]
  },
  {
   "cell_type": "code",
   "execution_count": 11,
   "metadata": {},
   "outputs": [],
   "source": [
    "sample, bbox_bins, road_maps, bbs, counts, bbox_maps = iter(val_loader).next()"
   ]
  },
  {
   "cell_type": "code",
   "execution_count": 12,
   "metadata": {},
   "outputs": [],
   "source": [
    "y_vehicle, y_count = model(sample)"
   ]
  },
  {
   "cell_type": "code",
   "execution_count": null,
   "metadata": {},
   "outputs": [],
   "source": []
  },
  {
   "cell_type": "code",
   "execution_count": null,
   "metadata": {},
   "outputs": [],
   "source": []
  },
  {
   "cell_type": "code",
   "execution_count": 13,
   "metadata": {},
   "outputs": [],
   "source": [
    "idx = -1"
   ]
  },
  {
   "cell_type": "code",
   "execution_count": 116,
   "metadata": {},
   "outputs": [],
   "source": [
    "idx += 1"
   ]
  },
  {
   "cell_type": "code",
   "execution_count": 117,
   "metadata": {},
   "outputs": [
    {
     "name": "stdout",
     "output_type": "stream",
     "text": [
      "tensor(1)\n"
     ]
    },
    {
     "data": {
      "image/png": "[encoded data removed]",
      "text/plain": [
       "<matplotlib.figure.Figure at 0x2ba1417b5dd8>"
      ]
     },
     "metadata": {
      "needs_background": "light"
     },
     "output_type": "display_data"
    }
   ],
   "source": [
    "print(torch.argmax(counts[idx]))\n",
    "matplotlib.rcParams['figure.figsize'] = [5,5]\n",
    "plt.imshow(sample[idx].numpy().transpose(1, 2, 0))\n",
    "plt.axis('off');"
   ]
  },
  {
   "cell_type": "code",
   "execution_count": 118,
   "metadata": {},
   "outputs": [
    {
     "data": {
      "image/png": "[encoded data removed]",
      "text/plain": [
       "<matplotlib.figure.Figure at 0x2ba1424559e8>"
      ]
     },
     "metadata": {
      "needs_background": "light"
     },
     "output_type": "display_data"
    }
   ],
   "source": [
    "%matplotlib inline\n",
    "matplotlib.rcParams['figure.figsize'] = [3,3]\n",
    "\n",
    "fig, ax = plt.subplots()\n",
    "ax.imshow(road_maps[idx], cmap ='binary');\n",
    "ax.plot(400, 400, 'x', color=\"red\")\n",
    "for bb in bbs[idx]:\n",
    "    draw_box(ax, bb, 'orange')"
   ]
  },
  {
   "cell_type": "code",
   "execution_count": 119,
   "metadata": {},
   "outputs": [
    {
     "data": {
      "text/plain": [
       "[<matplotlib.lines.Line2D at 0x2ba141889ba8>]"
      ]
     },
     "execution_count": 119,
     "metadata": {},
     "output_type": "execute_result"
    },
    {
     "data": {
      "image/png": "[encoded data removed]",
      "text/plain": [
       "<matplotlib.figure.Figure at 0x2ba141830128>"
      ]
     },
     "metadata": {
      "needs_background": "light"
     },
     "output_type": "display_data"
    }
   ],
   "source": [
    "matplotlib.rcParams['figure.figsize'] = [3,3]\n",
    "fig, ax = plt.subplots()\n",
    "ax.imshow(bbox_maps[idx], cmap ='binary');\n",
    "ax.plot(400, 400, 'x', color=\"red\")"
   ]
  },
  {
   "cell_type": "code",
   "execution_count": 120,
   "metadata": {},
   "outputs": [],
   "source": [
    "pred_bb_map = torch.sigmoid(y_vehicle[idx])"
   ]
  },
  {
   "cell_type": "code",
   "execution_count": 121,
   "metadata": {},
   "outputs": [
    {
     "name": "stdout",
     "output_type": "stream",
     "text": [
      "tensor(0.5748, grad_fn=<MaxBackward1>)\n"
     ]
    }
   ],
   "source": [
    "print(torch.max(pred_bb_map))"
   ]
  },
  {
   "cell_type": "code",
   "execution_count": 122,
   "metadata": {},
   "outputs": [
    {
     "data": {
      "text/plain": [
       "[<matplotlib.lines.Line2D at 0x2ba142483d68>]"
      ]
     },
     "execution_count": 122,
     "metadata": {},
     "output_type": "execute_result"
    },
    {
     "data": {
      "image/png": "[encoded data removed]",
      "text/plain": [
       "<matplotlib.figure.Figure at 0x2ba14164a128>"
      ]
     },
     "metadata": {
      "needs_background": "light"
     },
     "output_type": "display_data"
    }
   ],
   "source": [
    "%matplotlib inline\n",
    "matplotlib.rcParams['figure.figsize'] = [3,3]\n",
    "threshold = 0.1\n",
    "reconstructed_bb_map = reconstruct_from_bins(pred_bb_map, threshold).cpu()\n",
    "\n",
    "fig, ax = plt.subplots()\n",
    "ax.imshow(reconstructed_bb_map, cmap ='binary');\n",
    "ax.plot(400, 400, 'x', color=\"red\")"
   ]
  },
  {
   "cell_type": "code",
   "execution_count": 123,
   "metadata": {},
   "outputs": [],
   "source": [
    "# TODO: Change this to not transpose in the collate_fn and stuff. With the newest model. \n",
    "bb_map = reconstructed_bb_map.clone()\n",
    "\n",
    "def go(direction, top_left, width, height):\n",
    "    threshold = 0\n",
    "    r, c = top_left\n",
    "    delta = 10\n",
    "    if direction == 'right':\n",
    "        c = c + width \n",
    "        # now we're at the top-right coordinate. \n",
    "        while c + delta < 800:\n",
    "            block = bb_map[r:r+height, c:c+delta]\n",
    "            score = torch.sum(block).item()\n",
    "            if score > threshold * height * delta:\n",
    "                c = c + delta\n",
    "                width = width + delta\n",
    "            else:\n",
    "                break\n",
    "                \n",
    "        return top_left, width, height\n",
    "                \n",
    "    elif direction == 'left':\n",
    "        # At top-left coordinate. \n",
    "        while c - delta > 0:\n",
    "            block = bb_map[r:r+height, c-delta:c]\n",
    "            score = torch.sum(block).item()\n",
    "            if score > threshold * height * delta:\n",
    "                c = c - delta\n",
    "                width = width + delta\n",
    "            else:\n",
    "                break\n",
    "        \n",
    "        return (r, c), width, height\n",
    "    \n",
    "    elif direction == 'up':\n",
    "        # At top_left coordinate. \n",
    "        while r - delta > 0:\n",
    "            block = bb_map[r-delta:r, c:c+width]\n",
    "            score = torch.sum(block).item()\n",
    "            if score > threshold * width * delta:\n",
    "                r = r - delta\n",
    "                height = height + delta\n",
    "            else:\n",
    "                break\n",
    "        \n",
    "        return (r, c), width, height\n",
    "    \n",
    "    elif direction == 'down':\n",
    "        r = r + delta\n",
    "        # At bottom_left coordinate. \n",
    "        while r + delta < 800:\n",
    "            block = bb_map[r:r+delta, c:c+width]\n",
    "            score = torch.sum(block).item()\n",
    "            if score > threshold * width * delta:\n",
    "                r = r + delta\n",
    "                height = height + delta\n",
    "            else:\n",
    "                break\n",
    "        \n",
    "        return top_left, width, height\n",
    "        \n",
    "        \n",
    "bboxes = []\n",
    "score_threshold = 0\n",
    "for r in range(0, 800, 10):\n",
    "    for c in range(0, 800, 10):\n",
    "        \n",
    "        top_left = (r, c)\n",
    "        width = HORIZ_BLOCK_SIZE\n",
    "        height = VERT_BLOCK_SIZE\n",
    "        \n",
    "        block = bb_map[r:r+VERT_BLOCK_SIZE, c:c+HORIZ_BLOCK_SIZE]\n",
    "        score = torch.sum(block).item()\n",
    "        # If more than have the pixels are 1, classify as bbox car\n",
    "        if score > (BLOCK_AREA) * score_threshold:\n",
    "            top_left, width, height = go('right', top_left, width, height)\n",
    "            top_left, width, height = go('left', top_left, width, height)\n",
    "            top_left, width, height = go('up', top_left, width, height)\n",
    "            top_left, width, height = go('down', top_left, width, height)\n",
    "            \n",
    "            bboxes.append((top_left, width, height))\n",
    "            bb_map[top_left[0]:top_left[0] + height, top_left[1]:top_left[1] + width] = 0     "
   ]
  },
  {
   "cell_type": "code",
   "execution_count": 124,
   "metadata": {},
   "outputs": [
    {
     "name": "stdout",
     "output_type": "stream",
     "text": [
      "2\n",
      "1\n"
     ]
    }
   ],
   "source": [
    "print(len(bboxes))\n",
    "new_bboxes = []\n",
    "for x in bboxes:\n",
    "    _, width, height = x\n",
    "    if width * height > 300:\n",
    "        if width > 95:\n",
    "            new_bboxes.append((x[0], width * 0.5, height))\n",
    "            new_bboxes.append(((x[0][0], x[0][1] + (width * 0.5)), width * 0.5, height))\n",
    "        else:\n",
    "            new_bboxes.append(x)\n",
    "        \n",
    "bboxes = new_bboxes\n",
    "print(len(bboxes))"
   ]
  },
  {
   "cell_type": "code",
   "execution_count": 125,
   "metadata": {},
   "outputs": [
    {
     "data": {
      "image/png": "[encoded data removed]",
      "text/plain": [
       "<matplotlib.figure.Figure at 0x2ba142628fd0>"
      ]
     },
     "metadata": {
      "needs_background": "light"
     },
     "output_type": "display_data"
    }
   ],
   "source": [
    "matplotlib.rcParams['figure.figsize'] = [7,7]\n",
    "threshold = 0.2\n",
    "reconstructed_bb_map = reconstruct_from_bins(pred_bb_map, threshold).cpu()\n",
    "\n",
    "fig, ax = plt.subplots()\n",
    "ax.imshow(reconstructed_bb_map, cmap ='binary');\n",
    "ax.plot(400, 400, 'x', color=\"red\")\n",
    "for bb in bboxes:\n",
    "    draw_vish_box(ax, bb[0], bb[1], bb[2], 'orange')"
   ]
  },
  {
   "cell_type": "code",
   "execution_count": 126,
   "metadata": {},
   "outputs": [
    {
     "data": {
      "image/png": "[encoded data removed]",
      "text/plain": [
       "<matplotlib.figure.Figure at 0x2ba14265ea90>"
      ]
     },
     "metadata": {
      "needs_background": "light"
     },
     "output_type": "display_data"
    }
   ],
   "source": [
    "matplotlib.rcParams['figure.figsize'] = [7,7]\n",
    "fig, ax = plt.subplots()\n",
    "ax.imshow(bbox_maps[idx], cmap ='binary');\n",
    "ax.plot(400, 400, 'x', color=\"red\")\n",
    "for bb in bboxes:\n",
    "    draw_vish_box(ax, bb[0], bb[1], bb[2], 'orange')"
   ]
  },
  {
   "cell_type": "code",
   "execution_count": 127,
   "metadata": {},
   "outputs": [
    {
     "name": "stdout",
     "output_type": "stream",
     "text": [
      "tensor(0.4410)\n"
     ]
    },
    {
     "data": {
      "text/plain": [
       "tensor(0.)"
      ]
     },
     "execution_count": 127,
     "metadata": {},
     "output_type": "execute_result"
    }
   ],
   "source": [
    "compute_bbox_score(bboxes, bbs, idx, log=True)"
   ]
  },
  {
   "cell_type": "code",
   "execution_count": null,
   "metadata": {},
   "outputs": [],
   "source": []
  },
  {
   "cell_type": "code",
   "execution_count": null,
   "metadata": {},
   "outputs": [],
   "source": []
  },
  {
   "cell_type": "code",
   "execution_count": null,
   "metadata": {},
   "outputs": [],
   "source": []
  },
  {
   "cell_type": "code",
   "execution_count": 10,
   "metadata": {},
   "outputs": [],
   "source": [
    "def go(direction, top_left, width, height):\n",
    "    threshold = 0.0\n",
    "    r, c = top_left\n",
    "    delta = 10\n",
    "    if direction == 'right':\n",
    "        c = c + width \n",
    "        # now we're at the top-right coordinate. \n",
    "        while c + delta < 800:\n",
    "            block = bb_map[r:r+height, c:c+delta]\n",
    "            score = torch.sum(block).item()\n",
    "            if score > threshold * height * delta:\n",
    "                c = c + delta\n",
    "                width = width + delta\n",
    "            else:\n",
    "                break\n",
    "                \n",
    "        return top_left, width, height\n",
    "                \n",
    "    elif direction == 'left':\n",
    "        # At top-left coordinate. \n",
    "        while c - delta > 0:\n",
    "            block = bb_map[r:r+height, c-delta:c]\n",
    "            score = torch.sum(block).item()\n",
    "            if score > threshold * height * delta:\n",
    "                c = c - delta\n",
    "                width = width + delta\n",
    "            else:\n",
    "                break\n",
    "        \n",
    "        return (r, c), width, height\n",
    "    \n",
    "    elif direction == 'up':\n",
    "        # At top_left coordinate. \n",
    "        while r - delta > 0:\n",
    "            block = bb_map[r-delta:r, c:c+width]\n",
    "            score = torch.sum(block).item()\n",
    "            if score > threshold * width * delta:\n",
    "                r = r - delta\n",
    "                height = height + delta\n",
    "            else:\n",
    "                break\n",
    "        \n",
    "        return (r, c), width, height\n",
    "    \n",
    "    elif direction == 'down':\n",
    "        r = r + delta\n",
    "        # At bottom_left coordinate. \n",
    "        while r + delta < 800:\n",
    "            block = bb_map[r:r+delta, c:c+width]\n",
    "            score = torch.sum(block).item()\n",
    "            if score > threshold * width * delta:\n",
    "                r = r + delta\n",
    "                height = height + delta\n",
    "            else:\n",
    "                break\n",
    "        \n",
    "        return top_left, width, height"
   ]
  },
  {
   "cell_type": "code",
   "execution_count": 11,
   "metadata": {},
   "outputs": [],
   "source": [
    "def compute_ats_bounding_boxes(boxes1, boxes2, log=False):\n",
    "    num_boxes1 = boxes1.size(0)\n",
    "    num_boxes2 = boxes2.size(0)\n",
    "\n",
    "    boxes1_max_x = boxes1[:, 0].max(dim=1)[0]\n",
    "    boxes1_min_x = boxes1[:, 0].min(dim=1)[0]\n",
    "    boxes1_max_y = boxes1[:, 1].max(dim=1)[0]\n",
    "    boxes1_min_y = boxes1[:, 1].min(dim=1)[0]\n",
    "\n",
    "    boxes2_max_x = boxes2[:, 0].max(dim=1)[0]\n",
    "    boxes2_min_x = boxes2[:, 0].min(dim=1)[0]\n",
    "    boxes2_max_y = boxes2[:, 1].max(dim=1)[0]\n",
    "    boxes2_min_y = boxes2[:, 1].min(dim=1)[0]\n",
    "\n",
    "    condition1_matrix = (boxes1_max_x.unsqueeze(1) > boxes2_min_x.unsqueeze(0))\n",
    "    condition2_matrix = (boxes1_min_x.unsqueeze(1) < boxes2_max_x.unsqueeze(0))\n",
    "    condition3_matrix = (boxes1_max_y.unsqueeze(1) > boxes2_min_y.unsqueeze(0))\n",
    "    condition4_matrix = (boxes1_min_y.unsqueeze(1) < boxes2_max_y.unsqueeze(0))\n",
    "    condition_matrix = condition1_matrix * condition2_matrix * condition3_matrix * condition4_matrix\n",
    "\n",
    "    iou_matrix = torch.zeros(num_boxes1, num_boxes2)\n",
    "    for i in range(num_boxes1):\n",
    "        for j in range(num_boxes2):\n",
    "            if condition_matrix[i][j]:\n",
    "                iou_matrix[i][j] = compute_iou(boxes1[i], boxes2[j])\n",
    "\n",
    "    iou_max = iou_matrix.max(dim=0)[0]\n",
    "    if log:\n",
    "        print(torch.max(iou_max))\n",
    "    \n",
    "\n",
    "    iou_thresholds = [0.5, 0.6, 0.7, 0.8, 0.9]\n",
    "    total_threat_score = 0\n",
    "    total_weight = 0\n",
    "    for threshold in iou_thresholds:\n",
    "        tp = (iou_max > threshold).sum()\n",
    "        threat_score = tp * 1.0 / (num_boxes1 + num_boxes2 - tp)\n",
    "        total_threat_score += 1.0 / threshold * threat_score\n",
    "        total_weight += 1.0 / threshold\n",
    "\n",
    "    average_threat_score = total_threat_score / total_weight\n",
    "\n",
    "    return average_threat_score\n",
    "\n",
    "\n",
    "\n",
    "\n",
    "def compute_ts_road_map(road_map1, road_map2):\n",
    "    tp = (road_map1 * road_map2).sum()\n",
    "\n",
    "    return tp * 1.0 / (road_map1.sum() + road_map2.sum() - tp)\n",
    "\n",
    "def compute_iou(box1, box2):\n",
    "    a = Polygon(torch.t(box1)).convex_hull\n",
    "    b = Polygon(torch.t(box2)).convex_hull\n",
    "\n",
    "    return a.intersection(b).area / a.union(b).area"
   ]
  },
  {
   "cell_type": "code",
   "execution_count": 12,
   "metadata": {},
   "outputs": [],
   "source": [
    "def compute_bbox_score(bboxes, bbs, idx = False, log=False):\n",
    "    bb_samples = []\n",
    "\n",
    "    bounding_boxes = []\n",
    "    for bb in bboxes:\n",
    "        top_left, width, height = bb\n",
    "        r, c = top_left\n",
    "        xs = torch.Tensor([c, c+width, c+width, c])\n",
    "        ys = torch.Tensor([r, r, r+height, r+height])\n",
    "\n",
    "        xs = xs - 400\n",
    "        ys = 800 - ys # right-side up\n",
    "        ys = ys - 400\n",
    "\n",
    "        xs /= 10.\n",
    "        ys /= 10.\n",
    "\n",
    "        coords = torch.stack((xs, ys))\n",
    "        bounding_boxes.append(coords)\n",
    "\n",
    "    bounding_boxes = torch.stack(bounding_boxes).double()\n",
    "    bb_samples.append(bounding_boxes)\n",
    "    bb_samples = tuple(bb_samples)\n",
    "    \n",
    "    if type(idx) == int:\n",
    "        return compute_ats_bounding_boxes(bb_samples[0].cpu(), torch.stack(bbs[idx]).cpu(), log=True)\n",
    "    else:\n",
    "        return compute_ats_bounding_boxes(bb_samples[0].cpu(), torch.stack(bbs[0]).cpu(), log=False)"
   ]
  },
  {
   "cell_type": "code",
   "execution_count": null,
   "metadata": {},
   "outputs": [],
   "source": []
  },
  {
   "cell_type": "code",
   "execution_count": null,
   "metadata": {},
   "outputs": [],
   "source": []
  },
  {
   "cell_type": "code",
   "execution_count": 13,
   "metadata": {},
   "outputs": [
    {
     "name": "stdout",
     "output_type": "stream",
     "text": [
      "378\n",
      "\tAverage Threat Score so far, 0th iteration: 0.06599254906177521\n",
      "\tAverage Threat Score so far, 30th iteration: 0.022508155554533005\n",
      "\tAverage Threat Score so far, 60th iteration: 0.023718219250440598\n",
      "\tAverage Threat Score so far, 120th iteration: 0.02369922772049904\n",
      "\tAverage Threat Score so far, 150th iteration: 0.024390384554862976\n",
      "\tAverage Threat Score so far, 210th iteration: 0.02292528934776783\n",
      "\tAverage Threat Score so far, 300th iteration: 0.02505543641746044\n",
      "\tAverage Threat Score so far, 330th iteration: 0.025305425748229027\n",
      "\tAverage Threat Score so far, 360th iteration: 0.024940401315689087\n",
      "Threshold 0.1, Average threat score: 0.02496981807053089\n",
      "378\n",
      "\tAverage Threat Score so far, 0th iteration: 0.017562534660100937\n",
      "\tAverage Threat Score so far, 30th iteration: 0.05735844746232033\n",
      "\tAverage Threat Score so far, 60th iteration: 0.04410737752914429\n",
      "\tAverage Threat Score so far, 90th iteration: 0.03593159839510918\n",
      "\tAverage Threat Score so far, 120th iteration: 0.03805522248148918\n",
      "\tAverage Threat Score so far, 150th iteration: 0.035546086728572845\n",
      "\tAverage Threat Score so far, 180th iteration: 0.03466523811221123\n",
      "\tAverage Threat Score so far, 210th iteration: 0.03399137035012245\n",
      "\tAverage Threat Score so far, 240th iteration: 0.03445572406053543\n",
      "\tAverage Threat Score so far, 300th iteration: 0.03183026611804962\n",
      "\tAverage Threat Score so far, 360th iteration: 0.03254340589046478\n",
      "Threshold 0.15, Average threat score: 0.032067880034446716\n",
      "378\n",
      "\tAverage Threat Score so far, 0th iteration: 0.0\n",
      "\tAverage Threat Score so far, 30th iteration: 0.03437645360827446\n",
      "\tAverage Threat Score so far, 60th iteration: 0.038783442229032516\n",
      "\tAverage Threat Score so far, 90th iteration: 0.04113372787833214\n",
      "\tAverage Threat Score so far, 120th iteration: 0.037717726081609726\n",
      "\tAverage Threat Score so far, 150th iteration: 0.039576176553964615\n",
      "\tAverage Threat Score so far, 180th iteration: 0.03896962106227875\n",
      "\tAverage Threat Score so far, 210th iteration: 0.0405748076736927\n",
      "\tAverage Threat Score so far, 270th iteration: 0.03916778787970543\n",
      "\tAverage Threat Score so far, 300th iteration: 0.0394388847053051\n",
      "\tAverage Threat Score so far, 330th iteration: 0.03859631344676018\n",
      "\tAverage Threat Score so far, 360th iteration: 0.03806620463728905\n",
      "Threshold 0.2, Average threat score: 0.038042258471250534\n",
      "378\n",
      "\tAverage Threat Score so far, 0th iteration: 0.09835018962621689\n",
      "\tAverage Threat Score so far, 30th iteration: 0.04073413833975792\n",
      "\tAverage Threat Score so far, 60th iteration: 0.04314213991165161\n",
      "\tAverage Threat Score so far, 90th iteration: 0.043725475668907166\n",
      "\tAverage Threat Score so far, 120th iteration: 0.04257482662796974\n",
      "\tAverage Threat Score so far, 150th iteration: 0.03933579847216606\n",
      "\tAverage Threat Score so far, 180th iteration: 0.03785374015569687\n",
      "\tAverage Threat Score so far, 210th iteration: 0.039071280509233475\n",
      "\tAverage Threat Score so far, 240th iteration: 0.03765852376818657\n",
      "\tAverage Threat Score so far, 270th iteration: 0.04127475246787071\n",
      "\tAverage Threat Score so far, 300th iteration: 0.04212497919797897\n",
      "Threshold 0.25, Average threat score: 0.04159388318657875\n",
      "378\n",
      "\tAverage Threat Score so far, 0th iteration: 0.03746673837304115\n",
      "\tAverage Threat Score so far, 30th iteration: 0.03754301369190216\n",
      "\tAverage Threat Score so far, 60th iteration: 0.04724413901567459\n",
      "\tAverage Threat Score so far, 90th iteration: 0.04225160554051399\n",
      "\tAverage Threat Score so far, 120th iteration: 0.04153722524642944\n",
      "\tAverage Threat Score so far, 150th iteration: 0.04078294336795807\n",
      "\tAverage Threat Score so far, 180th iteration: 0.040553223341703415\n",
      "\tAverage Threat Score so far, 240th iteration: 0.03966387361288071\n",
      "\tAverage Threat Score so far, 300th iteration: 0.04018883779644966\n",
      "\tAverage Threat Score so far, 330th iteration: 0.0395813025534153\n",
      "\tAverage Threat Score so far, 360th iteration: 0.041420020163059235\n",
      "Threshold 0.3, Average threat score: 0.042141497135162354\n",
      "378\n",
      "\tAverage Threat Score so far, 0th iteration: 0.06146886199712753\n",
      "\tAverage Threat Score so far, 60th iteration: 0.04570121318101883\n",
      "\tAverage Threat Score so far, 90th iteration: 0.04388189688324928\n",
      "\tAverage Threat Score so far, 120th iteration: 0.046744707971811295\n",
      "\tAverage Threat Score so far, 180th iteration: 0.04477044567465782\n",
      "\tAverage Threat Score so far, 210th iteration: 0.04411960765719414\n",
      "\tAverage Threat Score so far, 240th iteration: 0.04374975338578224\n",
      "\tAverage Threat Score so far, 270th iteration: 0.04320931062102318\n",
      "\tAverage Threat Score so far, 330th iteration: 0.044306352734565735\n",
      "Threshold 0.35, Average threat score: 0.04433124139904976\n",
      "378\n",
      "\tAverage Threat Score so far, 0th iteration: 0.0\n",
      "\tAverage Threat Score so far, 30th iteration: 0.04086516425013542\n",
      "\tAverage Threat Score so far, 60th iteration: 0.04306361451745033\n",
      "\tAverage Threat Score so far, 90th iteration: 0.042068202048540115\n",
      "\tAverage Threat Score so far, 120th iteration: 0.04315780848264694\n",
      "\tAverage Threat Score so far, 150th iteration: 0.04323793575167656\n",
      "\tAverage Threat Score so far, 180th iteration: 0.04317036643624306\n",
      "\tAverage Threat Score so far, 240th iteration: 0.04399679973721504\n",
      "\tAverage Threat Score so far, 270th iteration: 0.04448915272951126\n",
      "\tAverage Threat Score so far, 300th iteration: 0.043578919023275375\n",
      "\tAverage Threat Score so far, 330th iteration: 0.042768631130456924\n",
      "\tAverage Threat Score so far, 360th iteration: 0.04312179610133171\n",
      "Threshold 0.4, Average threat score: 0.04339652135968208\n"
     ]
    }
   ],
   "source": [
    "thresholds = [0.1, 0.15, 0.2, 0.25, 0.3, 0.35, 0.4]\n",
    "score_threshold = 0\n",
    "for threshold in thresholds:\n",
    "    val_loader = torch.utils.data.DataLoader(labeled_valset, batch_size=1, shuffle=True, collate_fn=collate_fn)\n",
    "\n",
    "    model.eval()\n",
    "\n",
    "    threat_scores = 0\n",
    "    threats = []\n",
    "\n",
    "    print(len(val_loader))\n",
    "\n",
    "    with torch.no_grad():\n",
    "        for i, (sample, bbox_bins, road_maps, bbs, counts, bbox_maps) in enumerate(val_loader):\n",
    "\n",
    "            y_vehicle, y_count = model(sample)\n",
    "\n",
    "            pred_bb_map = torch.sigmoid(y_vehicle)\n",
    "\n",
    "            reconstructed_bb_map = reconstruct_from_bins(pred_bb_map[0], threshold).cpu()\n",
    "\n",
    "            bb_map = reconstructed_bb_map.clone()\n",
    "\n",
    "            bboxes = []\n",
    "            for r in range(0, 800, 10):\n",
    "                for c in range(0, 800, 10):\n",
    "\n",
    "                    top_left = (r, c)\n",
    "                    width = VERT_BLOCK_SIZE\n",
    "                    height = HORIZ_BLOCK_SIZE\n",
    "\n",
    "                    block = bb_map[r:r+VERT_BLOCK_SIZE, c:c+HORIZ_BLOCK_SIZE]\n",
    "                    score = torch.sum(block).item()\n",
    "                    # If more than have the pixels are 1, classify as bbox car\n",
    "                    if score > (BLOCK_AREA) * score_threshold:\n",
    "                        top_left, width, height = go('right', top_left, width, height)\n",
    "                        top_left, width, height = go('left', top_left, width, height)\n",
    "                        top_left, width, height = go('up', top_left, width, height)\n",
    "                        top_left, width, height = go('down', top_left, width, height)\n",
    "                        top_left, width, height = go('left', top_left, width, height)\n",
    "                        top_left, width, height = go('right', top_left, width, height)\n",
    "\n",
    "                        bboxes.append((top_left, width, height))\n",
    "                        bb_map[top_left[0]:top_left[0] + height, top_left[1]:top_left[1] + width] = 0    \n",
    "\n",
    "\n",
    "            new_bboxes = []\n",
    "            for x in bboxes:\n",
    "                _, width, height = x\n",
    "                if width * height > 300:\n",
    "                    if width > 150:\n",
    "                        car_width = 45\n",
    "                        dist = 0\n",
    "                        while dist < width:\n",
    "                            new_bboxes.append(((x[0][0], x[0][1] + dist), car_width, height))\n",
    "                            dist += car_width\n",
    "                    elif width > 120:\n",
    "                        new_bboxes.append((x[0], width * 0.5, height))\n",
    "                        new_bboxes.append(((x[0][0], x[0][1] + (width * 0.5)), width * 0.5, height))\n",
    "                    else:\n",
    "                        new_bboxes.append(x)\n",
    "\n",
    "            bboxes = new_bboxes\n",
    "\n",
    "            if len(bboxes) == 0:\n",
    "                continue\n",
    "\n",
    "            ts_bounding_box = compute_bbox_score(bboxes, bbs, log=False)\n",
    "\n",
    "            threat_scores += ts_bounding_box\n",
    "            threats.append(ts_bounding_box)\n",
    "\n",
    "            if i % 30 == 0:\n",
    "                print(\"\\tAverage Threat Score so far, {}th iteration: {}\".format(i, threat_scores/(i+1)))\n",
    "\n",
    "    print(\"Threshold {}, Average threat score: {}\".format(threshold, threat_scores/len(val_loader)))\n",
    "            \n",
    " "
   ]
  },
  {
   "cell_type": "code",
   "execution_count": null,
   "metadata": {},
   "outputs": [],
   "source": [
    "# Doing back. \n",
    "# It's not picking up the cars right behind it precisely. \n",
    "# I wonder if for the back, gaussian is too high. So it's fucking up the details. \n",
    "# Maybe do Guassian 1?\n",
    "\n",
    "# 0.029 best val --> 0.25 threshold. \n",
    "\n",
    "# 0.029 -> 0.044 best val. "
   ]
  },
  {
   "cell_type": "code",
   "execution_count": null,
   "metadata": {},
   "outputs": [],
   "source": []
  }
 ],
 "metadata": {
  "kernelspec": {
   "display_name": "Python 3",
   "language": "python",
   "name": "python3"
  },
  "language_info": {
   "codemirror_mode": {
    "name": "ipython",
    "version": 3
   },
   "file_extension": ".py",
   "mimetype": "text/x-python",
   "name": "python",
   "nbconvert_exporter": "python",
   "pygments_lexer": "ipython3",
   "version": "3.6.3"
  }
 },
 "nbformat": 4,
 "nbformat_minor": 2
}
