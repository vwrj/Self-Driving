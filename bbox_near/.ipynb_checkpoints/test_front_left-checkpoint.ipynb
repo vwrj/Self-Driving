{
 "cells": [
  {
   "cell_type": "code",
   "execution_count": 1,
   "metadata": {},
   "outputs": [],
   "source": [
    "import os\n",
    "import random\n",
    "import math\n",
    "import kornia\n",
    "import numpy as np\n",
    "from shapely.geometry import Polygon\n",
    "import pandas as pd\n",
    "import pdb\n",
    "from collections import OrderedDict\n",
    "import matplotlib\n",
    "import matplotlib.pyplot as plt\n",
    "from matplotlib import collections  as mc\n",
    "matplotlib.rcParams['figure.figsize'] = [6, 6]\n",
    "matplotlib.rcParams['figure.dpi'] = 200\n",
    "\n",
    "import torch\n",
    "import torch.nn as nn\n",
    "import torch.nn.functional as F\n",
    "import torchvision\n",
    "from torchvision import transforms\n",
    "\n",
    "from data_helper import UnlabeledDataset, LabeledDataset\n",
    "from helper import draw_box\n",
    "\n",
    "# random.seed(0)\n",
    "# np.random.seed(0)\n",
    "# torch.manual_seed(0);\n",
    "\n",
    "# All the images are saved in image_folder\n",
    "# All the labels are saved in the annotation_csv file\n",
    "image_folder = '/scratch/brs426/data'\n",
    "annotation_csv = '/scratch/brs426/data/annotation.csv'\n",
    "\n",
    "# You shouldn't change the unlabeled_scene_index\n",
    "# The first 106 scenes are unlabeled\n",
    "unlabeled_scene_index = np.arange(106)\n",
    "# The scenes from 106 - 133 are labeled\n",
    "# You should devide the labeled_scene_index into two subsets (training and validation)\n",
    "train_labeled_scene_index = np.arange(109, 134)\n",
    "val_labeled_scene_index = np.arange(106, 109)\n",
    "test_labeled_scene_index = np.arange(106, 109)\n",
    "\n",
    "from utils.angles import within_angles"
   ]
  },
  {
   "cell_type": "code",
   "execution_count": 2,
   "metadata": {},
   "outputs": [],
   "source": [
    "VERT_BLOCK_SIZE = 10\n",
    "HORIZ_BLOCK_SIZE = 10\n",
    "BLOCK_AREA = VERT_BLOCK_SIZE * HORIZ_BLOCK_SIZE"
   ]
  },
  {
   "cell_type": "code",
   "execution_count": 3,
   "metadata": {},
   "outputs": [],
   "source": [
    "def collate_fn(batch):\n",
    "    left_images = []\n",
    "    target = []\n",
    "    road_maps = []\n",
    "    bbox_maps = []\n",
    "    bbox_bins = []\n",
    "    bbs = []\n",
    "    target_counts = []\n",
    "    for x in batch:\n",
    "        \n",
    "        # Get road_image and cast it to float\n",
    "        road_image = torch.as_tensor(x[2]).float()\n",
    "        road_maps.append(road_image)\n",
    "        \n",
    "        # Collect six images for this sample. \n",
    "        # TODO: Try cutting off the top 100 pixels (that can lead to overfitting)\n",
    "        image = torch.Tensor(x[0][0])[:, 130:, :]\n",
    "        left_images.append(image)\n",
    "        \n",
    "        # target\n",
    "        bb_tens = x[1]['bounding_box']\n",
    "        current_bbs = []\n",
    "        bbox_map = torch.zeros((800, 800))\n",
    "        counts = np.zeros(28)\n",
    "        count = 0\n",
    "        \n",
    "        # Create the bounding box map. \n",
    "        for i, corners in enumerate(bb_tens):\n",
    "            \n",
    "            # Grab the current bounding box. \n",
    "            current_bbs.append(corners)\n",
    "            \n",
    "            # Get its four bird's-eye view coordinates. \n",
    "            point_squence = torch.stack([corners[:, 0], corners[:, 1], corners[:, 3], corners[:, 2]])\n",
    "            xs = point_squence.T[0] * 10 + 400\n",
    "            ys = -point_squence.T[1] * 10 + 400\n",
    "            \n",
    "            # xs is horizontal, ys is vertical through. \n",
    "            # But we're doing things row, column way. \n",
    "            \n",
    "            # Only get the bounding boxes that are close-by. On the same road. \n",
    "            # We want to see if the model can fucking predict cars that are close by. \n",
    "            \n",
    "            center_x, center_y = torch.mean(xs).item(), torch.mean(ys).item()\n",
    "            if within_angles(xs, ys, angle1=275, angle2=330) and \\\n",
    "                center_y > 290 and center_y < 525:\n",
    "            \n",
    "                # Grab the top-left coordinates. \n",
    "                r, c = int(torch.min(ys).item()), int(torch.min(xs).item())\n",
    "                r_len, c_len = int(torch.max(ys).item()) - r, int(torch.max(xs).item()) - c\n",
    "\n",
    "                # Fill in the bbox. \n",
    "                bbox_map[r:r+r_len, c:c+c_len] = 1.0\n",
    "\n",
    "                count += 1\n",
    "            \n",
    "        # Convert the bounding box map into classes (5px by 5px bins)\n",
    "        bbox_grid = []\n",
    "        for x_ in range(0, 800, VERT_BLOCK_SIZE):\n",
    "            for y in range(0, 800, HORIZ_BLOCK_SIZE):\n",
    "                block = bbox_map[x_:x_+VERT_BLOCK_SIZE, y:y+HORIZ_BLOCK_SIZE]\n",
    "                score = torch.sum(block).item()\n",
    "                # If more than have the pixels are 1, classify as bbox car\n",
    "                if score > 0.5 * (BLOCK_AREA):\n",
    "                    bbox_grid.append(1.0)\n",
    "                else:\n",
    "                    bbox_grid.append(0.0)\n",
    "                    \n",
    "        bbox_bins.append(torch.Tensor(bbox_grid))\n",
    "              \n",
    "        counts[count] = 1\n",
    "\n",
    "        # Label Smoothing #\n",
    "#         if count > 15 and count < 88:\n",
    "#             counts[count+1] = 0.2\n",
    "#             counts[count-1] = 0.2\n",
    "            \n",
    "        target_counts.append(torch.Tensor(counts))\n",
    "        \n",
    "        bbox_maps.append(bbox_map)\n",
    "\n",
    "        bbs.append(current_bbs)\n",
    "                \n",
    "    boom = torch.stack(left_images), torch.stack(bbox_bins), torch.stack(road_maps), bbs, torch.stack(target_counts), torch.stack(bbox_maps) \n",
    "    return boom"
   ]
  },
  {
   "cell_type": "code",
   "execution_count": 4,
   "metadata": {},
   "outputs": [],
   "source": [
    "val_transform = transforms.ToTensor()\n",
    "\n",
    "labeled_valset = LabeledDataset(image_folder=image_folder,\n",
    "                                  annotation_file=annotation_csv,\n",
    "                                  scene_index=val_labeled_scene_index,\n",
    "                                  transform=val_transform,\n",
    "                                  extra_info=True\n",
    "                                 )"
   ]
  },
  {
   "cell_type": "code",
   "execution_count": 5,
   "metadata": {},
   "outputs": [],
   "source": [
    "# Compute threat scores\n",
    "def reconstruct_from_bins(bins, threshold):\n",
    "    road_map = torch.zeros((800, 800))\n",
    "    idx = 0\n",
    "    for x in range(0, 800, VERT_BLOCK_SIZE):\n",
    "        for y in range(0, 800, HORIZ_BLOCK_SIZE):\n",
    "            road_map[x:x+VERT_BLOCK_SIZE, y:y+HORIZ_BLOCK_SIZE] = bins[idx]\n",
    "            idx += 1\n",
    "    return road_map > threshold"
   ]
  },
  {
   "cell_type": "code",
   "execution_count": 6,
   "metadata": {},
   "outputs": [],
   "source": [
    "def draw_vish_box(ax, class_box, width, height, color):\n",
    "    box_xs = [class_box[1], class_box[1], class_box[1]+width, class_box[1]+width, class_box[1]]\n",
    "    box_ys = [class_box[0], class_box[0]+height, class_box[0]+height, class_box[0], class_box[0]]\n",
    "    ax.plot(box_xs, box_ys, color=color)"
   ]
  },
  {
   "cell_type": "code",
   "execution_count": 7,
   "metadata": {},
   "outputs": [],
   "source": [
    "class SimpleModel(nn.Module):\n",
    "    def __init__(self):\n",
    "        super(SimpleModel, self).__init__()\n",
    "        \n",
    "        self.encoder = torchvision.models.resnet18()\n",
    "        self.encoder.fc = nn.Identity()\n",
    "        self.concat_dim = 100\n",
    "        self.dropout = nn.Dropout(p = 0.2)\n",
    "        self.bn = nn.BatchNorm1d(self.concat_dim)\n",
    "        \n",
    "        self.compress = nn.Sequential(OrderedDict([\n",
    "            ('linear0', nn.Linear(512, 100)),\n",
    "            ('relu', nn.ReLU()),\n",
    "        ]))\n",
    "        \n",
    "        self.vehicle_map = nn.Sequential(OrderedDict([\n",
    "            ('linear1_vehicle', nn.Linear(self.concat_dim, 6400)),\n",
    "        ]))\n",
    "        \n",
    "        self.counts = nn.Sequential(OrderedDict([\n",
    "            ('count1', nn.Linear(self.concat_dim, 28))\n",
    "        ]))\n",
    "        \n",
    "    def forward(self, x):\n",
    "        \n",
    "        batch_size = x.shape[0]\n",
    "        channels = x.shape[1]\n",
    "        height = x.shape[2]\n",
    "        width = x.shape[3]\n",
    "        # Reshape here\n",
    "        x = x.view(-1, channels, height, width)\n",
    "        x = self.encoder(x)\n",
    "        x = self.compress(x)\n",
    "        x = x.view(-1, self.concat_dim)\n",
    "        x = self.bn(x)\n",
    "        x = self.dropout(x)\n",
    "    \n",
    "        return self.vehicle_map(x), self.counts(x)"
   ]
  },
  {
   "cell_type": "code",
   "execution_count": 8,
   "metadata": {},
   "outputs": [
    {
     "data": {
      "text/plain": [
       "<All keys matched successfully>"
      ]
     },
     "execution_count": 8,
     "metadata": {},
     "output_type": "execute_result"
    }
   ],
   "source": [
    "device = torch.device(\"cpu\")\n",
    "model = SimpleModel().to(device)\n",
    "model.load_state_dict(torch.load('/scratch/vr1059/front_left_image_resnet18_val_new_closest.pt', map_location=device))"
   ]
  },
  {
   "cell_type": "code",
   "execution_count": 9,
   "metadata": {},
   "outputs": [
    {
     "name": "stdout",
     "output_type": "stream",
     "text": [
      "done.\n"
     ]
    }
   ],
   "source": [
    "model.eval()\n",
    "print('done.')"
   ]
  },
  {
   "cell_type": "code",
   "execution_count": 10,
   "metadata": {},
   "outputs": [],
   "source": [
    "val_loader = torch.utils.data.DataLoader(labeled_valset, batch_size=15, shuffle=True, collate_fn=collate_fn)"
   ]
  },
  {
   "cell_type": "code",
   "execution_count": 11,
   "metadata": {},
   "outputs": [],
   "source": [
    "sample, bbox_bins, road_maps, bbs, counts, bbox_maps = iter(val_loader).next()"
   ]
  },
  {
   "cell_type": "code",
   "execution_count": 12,
   "metadata": {},
   "outputs": [],
   "source": [
    "y_vehicle, y_count = model(sample)"
   ]
  },
  {
   "cell_type": "code",
   "execution_count": null,
   "metadata": {},
   "outputs": [],
   "source": []
  },
  {
   "cell_type": "code",
   "execution_count": null,
   "metadata": {},
   "outputs": [],
   "source": []
  },
  {
   "cell_type": "code",
   "execution_count": 13,
   "metadata": {},
   "outputs": [],
   "source": [
    "idx = -1"
   ]
  },
  {
   "cell_type": "code",
   "execution_count": 39,
   "metadata": {},
   "outputs": [],
   "source": [
    "idx += 1"
   ]
  },
  {
   "cell_type": "code",
   "execution_count": 40,
   "metadata": {},
   "outputs": [
    {
     "name": "stdout",
     "output_type": "stream",
     "text": [
      "tensor(1)\n"
     ]
    },
    {
     "data": {
      "image/png": "[encoded data removed]",
      "text/plain": [
       "<matplotlib.figure.Figure at 0x2ba53a97cb00>"
      ]
     },
     "metadata": {
      "needs_background": "light"
     },
     "output_type": "display_data"
    }
   ],
   "source": [
    "print(torch.argmax(counts[idx]))\n",
    "matplotlib.rcParams['figure.figsize'] = [5,5]\n",
    "plt.imshow(sample[idx].numpy().transpose(1, 2, 0))\n",
    "plt.axis('off');"
   ]
  },
  {
   "cell_type": "code",
   "execution_count": 41,
   "metadata": {},
   "outputs": [
    {
     "data": {
      "image/png": "[encoded data removed]",
      "text/plain": [
       "<matplotlib.figure.Figure at 0x2ba53a906668>"
      ]
     },
     "metadata": {
      "needs_background": "light"
     },
     "output_type": "display_data"
    }
   ],
   "source": [
    "%matplotlib inline\n",
    "matplotlib.rcParams['figure.figsize'] = [3,3]\n",
    "\n",
    "fig, ax = plt.subplots()\n",
    "ax.imshow(road_maps[idx], cmap ='binary');\n",
    "ax.plot(400, 400, 'x', color=\"red\")\n",
    "for bb in bbs[idx]:\n",
    "    draw_box(ax, bb, 'orange')"
   ]
  },
  {
   "cell_type": "code",
   "execution_count": 42,
   "metadata": {},
   "outputs": [
    {
     "data": {
      "text/plain": [
       "[<matplotlib.lines.Line2D at 0x2ba53ab600b8>]"
      ]
     },
     "execution_count": 42,
     "metadata": {},
     "output_type": "execute_result"
    },
    {
     "data": {
      "image/png": "[encoded data removed]",
      "text/plain": [
       "<matplotlib.figure.Figure at 0x2ba53aa57780>"
      ]
     },
     "metadata": {
      "needs_background": "light"
     },
     "output_type": "display_data"
    }
   ],
   "source": [
    "matplotlib.rcParams['figure.figsize'] = [3,3]\n",
    "fig, ax = plt.subplots()\n",
    "ax.imshow(bbox_maps[idx], cmap ='binary');\n",
    "ax.plot(400, 400, 'x', color=\"red\")"
   ]
  },
  {
   "cell_type": "code",
   "execution_count": 43,
   "metadata": {},
   "outputs": [],
   "source": [
    "pred_bb_map = torch.sigmoid(y_vehicle[idx])"
   ]
  },
  {
   "cell_type": "code",
   "execution_count": 44,
   "metadata": {},
   "outputs": [
    {
     "name": "stdout",
     "output_type": "stream",
     "text": [
      "tensor(0.9835, grad_fn=<MaxBackward1>)\n"
     ]
    }
   ],
   "source": [
    "print(torch.max(pred_bb_map))"
   ]
  },
  {
   "cell_type": "code",
   "execution_count": 58,
   "metadata": {},
   "outputs": [
    {
     "data": {
      "text/plain": [
       "[<matplotlib.lines.Line2D at 0x2ba53a8fe748>]"
      ]
     },
     "execution_count": 58,
     "metadata": {},
     "output_type": "execute_result"
    },
    {
     "data": {
      "image/png": "[encoded data removed]",
      "text/plain": [
       "<matplotlib.figure.Figure at 0x2ba53ac028d0>"
      ]
     },
     "metadata": {
      "needs_background": "light"
     },
     "output_type": "display_data"
    }
   ],
   "source": [
    "%matplotlib inline\n",
    "matplotlib.rcParams['figure.figsize'] = [3,3]\n",
    "threshold = 0.3\n",
    "reconstructed_bb_map = reconstruct_from_bins(pred_bb_map, threshold).cpu()\n",
    "\n",
    "fig, ax = plt.subplots()\n",
    "ax.imshow(reconstructed_bb_map, cmap ='binary');\n",
    "ax.plot(400, 400, 'x', color=\"red\")"
   ]
  },
  {
   "cell_type": "code",
   "execution_count": 59,
   "metadata": {},
   "outputs": [],
   "source": [
    "# TODO: Change this to not transpose in the collate_fn and stuff. With the newest model. \n",
    "bb_map = reconstructed_bb_map.clone()\n",
    "\n",
    "def go(direction, top_left, width, height):\n",
    "    threshold = 0\n",
    "    r, c = top_left\n",
    "    delta = 10\n",
    "    if direction == 'right':\n",
    "        c = c + width \n",
    "        # now we're at the top-right coordinate. \n",
    "        while c + delta < 800:\n",
    "            block = bb_map[r:r+height, c:c+delta]\n",
    "            score = torch.sum(block).item()\n",
    "            if score > threshold * height * delta:\n",
    "                c = c + delta\n",
    "                width = width + delta\n",
    "            else:\n",
    "                break\n",
    "                \n",
    "        return top_left, width, height\n",
    "                \n",
    "    elif direction == 'left':\n",
    "        # At top-left coordinate. \n",
    "        while c - delta > 0:\n",
    "            block = bb_map[r:r+height, c-delta:c]\n",
    "            score = torch.sum(block).item()\n",
    "            if score > threshold * height * delta:\n",
    "                c = c - delta\n",
    "                width = width + delta\n",
    "            else:\n",
    "                break\n",
    "        \n",
    "        return (r, c), width, height\n",
    "    \n",
    "    elif direction == 'up':\n",
    "        # At top_left coordinate. \n",
    "        while r - delta > 0:\n",
    "            block = bb_map[r-delta:r, c:c+width]\n",
    "            score = torch.sum(block).item()\n",
    "            if score > threshold * width * delta:\n",
    "                r = r - delta\n",
    "                height = height + delta\n",
    "            else:\n",
    "                break\n",
    "        \n",
    "        return (r, c), width, height\n",
    "    \n",
    "    elif direction == 'down':\n",
    "        r = r + delta\n",
    "        # At bottom_left coordinate. \n",
    "        while r + delta < 800:\n",
    "            block = bb_map[r:r+delta, c:c+width]\n",
    "            score = torch.sum(block).item()\n",
    "            if score > threshold * width * delta:\n",
    "                r = r + delta\n",
    "                height = height + delta\n",
    "            else:\n",
    "                break\n",
    "        \n",
    "        return top_left, width, height\n",
    "        \n",
    "        \n",
    "bboxes = []\n",
    "score_threshold = 0\n",
    "for r in range(0, 800, 10):\n",
    "    for c in range(0, 800, 10):\n",
    "        \n",
    "        top_left = (r, c)\n",
    "        width = HORIZ_BLOCK_SIZE\n",
    "        height = VERT_BLOCK_SIZE\n",
    "        \n",
    "        block = bb_map[r:r+VERT_BLOCK_SIZE, c:c+HORIZ_BLOCK_SIZE]\n",
    "        score = torch.sum(block).item()\n",
    "        # If more than have the pixels are 1, classify as bbox car\n",
    "        if score > (BLOCK_AREA) * score_threshold:\n",
    "            top_left, width, height = go('right', top_left, width, height)\n",
    "            top_left, width, height = go('left', top_left, width, height)\n",
    "            top_left, width, height = go('up', top_left, width, height)\n",
    "            top_left, width, height = go('down', top_left, width, height)\n",
    "            top_left, width, height = go('right', top_left, width, height)\n",
    "            top_left, width, height = go('left', top_left, width, height)\n",
    "            \n",
    "            bboxes.append((top_left, width, height))\n",
    "            bb_map[top_left[0]:top_left[0] + height, top_left[1]:top_left[1] + width] = 0     "
   ]
  },
  {
   "cell_type": "code",
   "execution_count": 60,
   "metadata": {},
   "outputs": [
    {
     "name": "stdout",
     "output_type": "stream",
     "text": [
      "1\n",
      "1\n"
     ]
    }
   ],
   "source": [
    "print(len(bboxes))\n",
    "new_bboxes = []\n",
    "for x in bboxes:\n",
    "    _, width, height = x\n",
    "    if width * height > 300:\n",
    "        if width > 95:\n",
    "            new_bboxes.append((x[0], width * 0.5, height))\n",
    "            new_bboxes.append(((x[0][0], x[0][1] + (width * 0.5)), width * 0.5, height))\n",
    "        else:\n",
    "            new_bboxes.append(x)\n",
    "        \n",
    "bboxes = new_bboxes\n",
    "print(len(bboxes))"
   ]
  },
  {
   "cell_type": "code",
   "execution_count": 61,
   "metadata": {},
   "outputs": [
    {
     "data": {
      "image/png": "[encoded data removed]",
      "text/plain": [
       "<matplotlib.figure.Figure at 0x2ba53a77ddd8>"
      ]
     },
     "metadata": {
      "needs_background": "light"
     },
     "output_type": "display_data"
    }
   ],
   "source": [
    "matplotlib.rcParams['figure.figsize'] = [7,7]\n",
    "threshold = 0.2\n",
    "reconstructed_bb_map = reconstruct_from_bins(pred_bb_map, threshold).cpu()\n",
    "\n",
    "fig, ax = plt.subplots()\n",
    "ax.imshow(reconstructed_bb_map, cmap ='binary');\n",
    "ax.plot(400, 400, 'x', color=\"red\")\n",
    "for bb in bboxes:\n",
    "    draw_vish_box(ax, bb[0], bb[1], bb[2], 'orange')"
   ]
  },
  {
   "cell_type": "code",
   "execution_count": 62,
   "metadata": {},
   "outputs": [
    {
     "data": {
      "image/png": "[encoded data removed]",
      "text/plain": [
       "<matplotlib.figure.Figure at 0x2ba53a55bb00>"
      ]
     },
     "metadata": {
      "needs_background": "light"
     },
     "output_type": "display_data"
    }
   ],
   "source": [
    "matplotlib.rcParams['figure.figsize'] = [7,7]\n",
    "fig, ax = plt.subplots()\n",
    "ax.imshow(bbox_maps[idx], cmap ='binary');\n",
    "ax.plot(400, 400, 'x', color=\"red\")\n",
    "for bb in bboxes:\n",
    "    draw_vish_box(ax, bb[0], bb[1], bb[2], 'orange')"
   ]
  },
  {
   "cell_type": "code",
   "execution_count": 63,
   "metadata": {},
   "outputs": [
    {
     "name": "stdout",
     "output_type": "stream",
     "text": [
      "tensor(0.7302)\n"
     ]
    },
    {
     "data": {
      "text/plain": [
       "tensor(0.0526)"
      ]
     },
     "execution_count": 63,
     "metadata": {},
     "output_type": "execute_result"
    }
   ],
   "source": [
    "compute_bbox_score(bboxes, bbs, idx, log=True)"
   ]
  },
  {
   "cell_type": "code",
   "execution_count": null,
   "metadata": {},
   "outputs": [],
   "source": []
  },
  {
   "cell_type": "code",
   "execution_count": null,
   "metadata": {},
   "outputs": [],
   "source": []
  },
  {
   "cell_type": "code",
   "execution_count": null,
   "metadata": {},
   "outputs": [],
   "source": []
  },
  {
   "cell_type": "code",
   "execution_count": 64,
   "metadata": {},
   "outputs": [],
   "source": [
    "def go(direction, top_left, width, height):\n",
    "    threshold = 0.0\n",
    "    r, c = top_left\n",
    "    delta = 10\n",
    "    if direction == 'right':\n",
    "        c = c + width \n",
    "        # now we're at the top-right coordinate. \n",
    "        while c + delta < 800:\n",
    "            block = bb_map[r:r+height, c:c+delta]\n",
    "            score = torch.sum(block).item()\n",
    "            if score > threshold * height * delta:\n",
    "                c = c + delta\n",
    "                width = width + delta\n",
    "            else:\n",
    "                break\n",
    "                \n",
    "        return top_left, width, height\n",
    "                \n",
    "    elif direction == 'left':\n",
    "        # At top-left coordinate. \n",
    "        while c - delta > 0:\n",
    "            block = bb_map[r:r+height, c-delta:c]\n",
    "            score = torch.sum(block).item()\n",
    "            if score > threshold * height * delta:\n",
    "                c = c - delta\n",
    "                width = width + delta\n",
    "            else:\n",
    "                break\n",
    "        \n",
    "        return (r, c), width, height\n",
    "    \n",
    "    elif direction == 'up':\n",
    "        # At top_left coordinate. \n",
    "        while r - delta > 0:\n",
    "            block = bb_map[r-delta:r, c:c+width]\n",
    "            score = torch.sum(block).item()\n",
    "            if score > threshold * width * delta:\n",
    "                r = r - delta\n",
    "                height = height + delta\n",
    "            else:\n",
    "                break\n",
    "        \n",
    "        return (r, c), width, height\n",
    "    \n",
    "    elif direction == 'down':\n",
    "        r = r + delta\n",
    "        # At bottom_left coordinate. \n",
    "        while r + delta < 800:\n",
    "            block = bb_map[r:r+delta, c:c+width]\n",
    "            score = torch.sum(block).item()\n",
    "            if score > threshold * width * delta:\n",
    "                r = r + delta\n",
    "                height = height + delta\n",
    "            else:\n",
    "                break\n",
    "        \n",
    "        return top_left, width, height"
   ]
  },
  {
   "cell_type": "code",
   "execution_count": 65,
   "metadata": {},
   "outputs": [],
   "source": [
    "def compute_ats_bounding_boxes(boxes1, boxes2, log=False):\n",
    "    num_boxes1 = boxes1.size(0)\n",
    "    num_boxes2 = boxes2.size(0)\n",
    "\n",
    "    boxes1_max_x = boxes1[:, 0].max(dim=1)[0]\n",
    "    boxes1_min_x = boxes1[:, 0].min(dim=1)[0]\n",
    "    boxes1_max_y = boxes1[:, 1].max(dim=1)[0]\n",
    "    boxes1_min_y = boxes1[:, 1].min(dim=1)[0]\n",
    "\n",
    "    boxes2_max_x = boxes2[:, 0].max(dim=1)[0]\n",
    "    boxes2_min_x = boxes2[:, 0].min(dim=1)[0]\n",
    "    boxes2_max_y = boxes2[:, 1].max(dim=1)[0]\n",
    "    boxes2_min_y = boxes2[:, 1].min(dim=1)[0]\n",
    "\n",
    "    condition1_matrix = (boxes1_max_x.unsqueeze(1) > boxes2_min_x.unsqueeze(0))\n",
    "    condition2_matrix = (boxes1_min_x.unsqueeze(1) < boxes2_max_x.unsqueeze(0))\n",
    "    condition3_matrix = (boxes1_max_y.unsqueeze(1) > boxes2_min_y.unsqueeze(0))\n",
    "    condition4_matrix = (boxes1_min_y.unsqueeze(1) < boxes2_max_y.unsqueeze(0))\n",
    "    condition_matrix = condition1_matrix * condition2_matrix * condition3_matrix * condition4_matrix\n",
    "\n",
    "    iou_matrix = torch.zeros(num_boxes1, num_boxes2)\n",
    "    for i in range(num_boxes1):\n",
    "        for j in range(num_boxes2):\n",
    "            if condition_matrix[i][j]:\n",
    "                iou_matrix[i][j] = compute_iou(boxes1[i], boxes2[j])\n",
    "\n",
    "    iou_max = iou_matrix.max(dim=0)[0]\n",
    "    if log:\n",
    "        print(torch.max(iou_max))\n",
    "    \n",
    "\n",
    "    iou_thresholds = [0.5, 0.6, 0.7, 0.8, 0.9]\n",
    "    total_threat_score = 0\n",
    "    total_weight = 0\n",
    "    for threshold in iou_thresholds:\n",
    "        tp = (iou_max > threshold).sum()\n",
    "        threat_score = tp * 1.0 / (num_boxes1 + num_boxes2 - tp)\n",
    "        total_threat_score += 1.0 / threshold * threat_score\n",
    "        total_weight += 1.0 / threshold\n",
    "\n",
    "    average_threat_score = total_threat_score / total_weight\n",
    "\n",
    "    return average_threat_score\n",
    "\n",
    "\n",
    "\n",
    "\n",
    "def compute_ts_road_map(road_map1, road_map2):\n",
    "    tp = (road_map1 * road_map2).sum()\n",
    "\n",
    "    return tp * 1.0 / (road_map1.sum() + road_map2.sum() - tp)\n",
    "\n",
    "def compute_iou(box1, box2):\n",
    "    a = Polygon(torch.t(box1)).convex_hull\n",
    "    b = Polygon(torch.t(box2)).convex_hull\n",
    "\n",
    "    return a.intersection(b).area / a.union(b).area"
   ]
  },
  {
   "cell_type": "code",
   "execution_count": 66,
   "metadata": {},
   "outputs": [],
   "source": [
    "def compute_bbox_score(bboxes, bbs, idx = False, log=False):\n",
    "    bb_samples = []\n",
    "\n",
    "    bounding_boxes = []\n",
    "    for bb in bboxes:\n",
    "        top_left, width, height = bb\n",
    "        r, c = top_left\n",
    "        xs = torch.Tensor([c, c+width, c+width, c])\n",
    "        ys = torch.Tensor([r, r, r+height, r+height])\n",
    "\n",
    "        xs = xs - 400\n",
    "        ys = 800 - ys # right-side up\n",
    "        ys = ys - 400\n",
    "\n",
    "        xs /= 10.\n",
    "        ys /= 10.\n",
    "\n",
    "        coords = torch.stack((xs, ys))\n",
    "        bounding_boxes.append(coords)\n",
    "\n",
    "    bounding_boxes = torch.stack(bounding_boxes).double()\n",
    "    bb_samples.append(bounding_boxes)\n",
    "    bb_samples = tuple(bb_samples)\n",
    "    \n",
    "    if type(idx) == int:\n",
    "        return compute_ats_bounding_boxes(bb_samples[0].cpu(), torch.stack(bbs[idx]).cpu(), log=True)\n",
    "    else:\n",
    "        return compute_ats_bounding_boxes(bb_samples[0].cpu(), torch.stack(bbs[0]).cpu(), log=False)"
   ]
  },
  {
   "cell_type": "code",
   "execution_count": null,
   "metadata": {},
   "outputs": [],
   "source": []
  },
  {
   "cell_type": "code",
   "execution_count": null,
   "metadata": {},
   "outputs": [],
   "source": []
  },
  {
   "cell_type": "code",
   "execution_count": null,
   "metadata": {},
   "outputs": [
    {
     "name": "stdout",
     "output_type": "stream",
     "text": [
      "378\n",
      "\tAverage Threat Score so far, 30th iteration: 0.009635351598262787\n",
      "\tAverage Threat Score so far, 60th iteration: 0.008217227645218372\n",
      "\tAverage Threat Score so far, 90th iteration: 0.011828148737549782\n",
      "\tAverage Threat Score so far, 180th iteration: 0.010159581899642944\n",
      "\tAverage Threat Score so far, 210th iteration: 0.009907298721373081\n",
      "\tAverage Threat Score so far, 240th iteration: 0.008913314901292324\n",
      "Threshold 0.1, Average threat score: 0.007878260686993599\n",
      "378\n",
      "\tAverage Threat Score so far, 120th iteration: 0.011166458949446678\n",
      "\tAverage Threat Score so far, 180th iteration: 0.009391692467033863\n",
      "\tAverage Threat Score so far, 210th iteration: 0.00939970649778843\n",
      "\tAverage Threat Score so far, 270th iteration: 0.010379709303379059\n",
      "\tAverage Threat Score so far, 360th iteration: 0.010404213331639767\n",
      "Threshold 0.15, Average threat score: 0.010894774459302425\n",
      "378\n",
      "\tAverage Threat Score so far, 0th iteration: 0.03782699629664421\n",
      "\tAverage Threat Score so far, 90th iteration: 0.012914614751935005\n",
      "\tAverage Threat Score so far, 210th iteration: 0.011300972662866116\n",
      "\tAverage Threat Score so far, 270th iteration: 0.01117057353258133\n",
      "\tAverage Threat Score so far, 360th iteration: 0.012785197235643864\n",
      "Threshold 0.2, Average threat score: 0.012457658536732197\n",
      "378\n",
      "\tAverage Threat Score so far, 0th iteration: 0.022352315485477448\n",
      "\tAverage Threat Score so far, 60th iteration: 0.0076792738400399685\n",
      "\tAverage Threat Score so far, 120th iteration: 0.008532187901437283\n",
      "\tAverage Threat Score so far, 180th iteration: 0.012901545502245426\n",
      "\tAverage Threat Score so far, 210th iteration: 0.012594751082360744\n",
      "\tAverage Threat Score so far, 270th iteration: 0.0134280351921916\n",
      "\tAverage Threat Score so far, 300th iteration: 0.013346141204237938\n",
      "\tAverage Threat Score so far, 360th iteration: 0.013269856572151184\n",
      "Threshold 0.25, Average threat score: 0.01311997976154089\n",
      "378\n",
      "\tAverage Threat Score so far, 0th iteration: 0.0\n",
      "\tAverage Threat Score so far, 90th iteration: 0.008775045163929462\n",
      "\tAverage Threat Score so far, 240th iteration: 0.0133513817563653\n",
      "\tAverage Threat Score so far, 270th iteration: 0.014323098585009575\n",
      "\tAverage Threat Score so far, 300th iteration: 0.014547711238265038\n",
      "Threshold 0.3, Average threat score: 0.01369329821318388\n",
      "378\n",
      "\tAverage Threat Score so far, 30th iteration: 0.013656468130648136\n",
      "\tAverage Threat Score so far, 60th iteration: 0.011039111763238907\n",
      "\tAverage Threat Score so far, 120th iteration: 0.014181961305439472\n",
      "\tAverage Threat Score so far, 210th iteration: 0.011411190032958984\n",
      "\tAverage Threat Score so far, 270th iteration: 0.012927071191370487\n",
      "\tAverage Threat Score so far, 300th iteration: 0.014001434668898582\n",
      "\tAverage Threat Score so far, 330th iteration: 0.014356312341988087\n",
      "Threshold 0.35, Average threat score: 0.014181438833475113\n",
      "378\n",
      "\tAverage Threat Score so far, 120th iteration: 0.01531211193650961\n",
      "\tAverage Threat Score so far, 180th iteration: 0.014171772636473179\n",
      "\tAverage Threat Score so far, 270th iteration: 0.012284091673791409\n",
      "\tAverage Threat Score so far, 330th iteration: 0.013701332733035088\n",
      "\tAverage Threat Score so far, 360th iteration: 0.013219076208770275\n",
      "Threshold 0.4, Average threat score: 0.013928125612437725\n",
      "378\n",
      "\tAverage Threat Score so far, 0th iteration: 0.0\n",
      "\tAverage Threat Score so far, 30th iteration: 0.004203496966511011\n"
     ]
    }
   ],
   "source": [
    "thresholds = [0.1, 0.15, 0.2, 0.25, 0.3, 0.35, 0.4, 0.45]\n",
    "score_threshold = 0\n",
    "for threshold in thresholds:\n",
    "    val_loader = torch.utils.data.DataLoader(labeled_valset, batch_size=1, shuffle=True, collate_fn=collate_fn)\n",
    "\n",
    "    model.eval()\n",
    "\n",
    "    threat_scores = 0\n",
    "    threats = []\n",
    "\n",
    "    print(len(val_loader))\n",
    "\n",
    "    with torch.no_grad():\n",
    "        for i, (sample, bbox_bins, road_maps, bbs, counts, bbox_maps) in enumerate(val_loader):\n",
    "\n",
    "            y_vehicle, y_count = model(sample)\n",
    "\n",
    "            pred_bb_map = torch.sigmoid(y_vehicle)\n",
    "\n",
    "            reconstructed_bb_map = reconstruct_from_bins(pred_bb_map[0], threshold).cpu()\n",
    "\n",
    "            bb_map = reconstructed_bb_map.clone()\n",
    "\n",
    "            bboxes = []\n",
    "            for r in range(0, 800, 10):\n",
    "                for c in range(0, 800, 10):\n",
    "\n",
    "                    top_left = (r, c)\n",
    "                    width = VERT_BLOCK_SIZE\n",
    "                    height = HORIZ_BLOCK_SIZE\n",
    "\n",
    "                    block = bb_map[r:r+VERT_BLOCK_SIZE, c:c+HORIZ_BLOCK_SIZE]\n",
    "                    score = torch.sum(block).item()\n",
    "                    # If more than have the pixels are 1, classify as bbox car\n",
    "                    if score > (BLOCK_AREA) * score_threshold:\n",
    "                        top_left, width, height = go('right', top_left, width, height)\n",
    "                        top_left, width, height = go('left', top_left, width, height)\n",
    "                        top_left, width, height = go('up', top_left, width, height)\n",
    "                        top_left, width, height = go('down', top_left, width, height)\n",
    "                        top_left, width, height = go('left', top_left, width, height)\n",
    "                        top_left, width, height = go('right', top_left, width, height)\n",
    "\n",
    "                        bboxes.append((top_left, width, height))\n",
    "                        bb_map[top_left[0]:top_left[0] + height, top_left[1]:top_left[1] + width] = 0    \n",
    "\n",
    "\n",
    "            new_bboxes = []\n",
    "            for x in bboxes:\n",
    "                _, width, height = x\n",
    "                if width * height > 300:\n",
    "                    if width > 150:\n",
    "                        car_width = 45\n",
    "                        dist = 0\n",
    "                        while dist < width:\n",
    "                            new_bboxes.append(((x[0][0], x[0][1] + dist), car_width, height))\n",
    "                            dist += car_width\n",
    "                    elif width > 120:\n",
    "                        new_bboxes.append((x[0], width * 0.5, height))\n",
    "                        new_bboxes.append(((x[0][0], x[0][1] + (width * 0.5)), width * 0.5, height))\n",
    "                    else:\n",
    "                        new_bboxes.append(x)\n",
    "\n",
    "            bboxes = new_bboxes\n",
    "\n",
    "            if len(bboxes) == 0:\n",
    "                continue\n",
    "\n",
    "            ts_bounding_box = compute_bbox_score(bboxes, bbs, log=False)\n",
    "\n",
    "            threat_scores += ts_bounding_box\n",
    "            threats.append(ts_bounding_box)\n",
    "\n",
    "            if i % 30 == 0:\n",
    "                print(\"\\tAverage Threat Score so far, {}th iteration: {}\".format(i, threat_scores/(i+1)))\n",
    "\n",
    "    print(\"Threshold {}, Average threat score: {}\".format(threshold, threat_scores/len(val_loader)))\n",
    "            \n",
    " "
   ]
  },
  {
   "cell_type": "code",
   "execution_count": null,
   "metadata": {},
   "outputs": [],
   "source": [
    "# Doing front_left. Best avg_threat_score: 0.01357"
   ]
  },
  {
   "cell_type": "code",
   "execution_count": null,
   "metadata": {},
   "outputs": [],
   "source": []
  }
 ],
 "metadata": {
  "kernelspec": {
   "display_name": "Python 3",
   "language": "python",
   "name": "python3"
  },
  "language_info": {
   "codemirror_mode": {
    "name": "ipython",
    "version": 3
   },
   "file_extension": ".py",
   "mimetype": "text/x-python",
   "name": "python",
   "nbconvert_exporter": "python",
   "pygments_lexer": "ipython3",
   "version": "3.6.3"
  }
 },
 "nbformat": 4,
 "nbformat_minor": 2
}
