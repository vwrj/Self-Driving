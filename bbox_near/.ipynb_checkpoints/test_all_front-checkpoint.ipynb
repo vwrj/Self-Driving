{
 "cells": [
  {
   "cell_type": "code",
   "execution_count": 1,
   "metadata": {},
   "outputs": [],
   "source": [
    "import os\n",
    "import random\n",
    "import math\n",
    "import numpy as np\n",
    "from shapely.geometry import Polygon\n",
    "import pandas as pd\n",
    "import pdb\n",
    "from collections import OrderedDict\n",
    "import matplotlib\n",
    "import matplotlib.pyplot as plt\n",
    "from matplotlib import collections  as mc\n",
    "matplotlib.rcParams['figure.figsize'] = [6, 6]\n",
    "matplotlib.rcParams['figure.dpi'] = 200\n",
    "\n",
    "import torch\n",
    "import torch.nn as nn\n",
    "import torch.nn.functional as F\n",
    "import torchvision\n",
    "from torchvision import transforms\n",
    "\n",
    "from data_helper import UnlabeledDataset, LabeledDataset\n",
    "from helper import draw_box\n",
    "\n",
    "# All the images are saved in image_folder\n",
    "# All the labels are saved in the annotation_csv file\n",
    "image_folder = '/scratch/brs426/data'\n",
    "annotation_csv = '/scratch/brs426/data/annotation.csv'\n",
    "\n",
    "# You shouldn't change the unlabeled_scene_index\n",
    "# The first 106 scenes are unlabeled\n",
    "unlabeled_scene_index = np.arange(106)\n",
    "# The scenes from 106 - 133 are labeled\n",
    "# You should devide the labeled_scene_index into two subsets (training and validation)\n",
    "train_labeled_scene_index = np.arange(109, 134)\n",
    "val_labeled_scene_index = np.arange(106, 109)\n",
    "test_labeled_scene_index = np.arange(106, 109)\n",
    "\n",
    "from utils.angles import within_angles"
   ]
  },
  {
   "cell_type": "code",
   "execution_count": 2,
   "metadata": {},
   "outputs": [],
   "source": [
    "VERT_BLOCK_SIZE = 10\n",
    "HORIZ_BLOCK_SIZE = 10\n",
    "BLOCK_AREA = VERT_BLOCK_SIZE * HORIZ_BLOCK_SIZE"
   ]
  },
  {
   "cell_type": "code",
   "execution_count": 3,
   "metadata": {},
   "outputs": [],
   "source": [
    "def collate_fn(batch):\n",
    "    sample_images = []\n",
    "    target = []\n",
    "    road_maps = []\n",
    "    bbox_maps = []\n",
    "    bbox_bins = []\n",
    "    bbs = []\n",
    "    target_counts = []\n",
    "    for x in batch:\n",
    "        \n",
    "        # Get road_image and cast it to float\n",
    "        road_image = torch.as_tensor(x[2]).float()\n",
    "        road_maps.append(road_image)\n",
    "        \n",
    "        # Collect all front-images. Front-left, front, and front-right. \n",
    "        # TODO: Need to cut off the top 100 pixels (that can lead to overfitting)\n",
    "        images = []\n",
    "        images.append(torch.Tensor(x[0][0]))\n",
    "        images.append(torch.Tensor(x[0][1]))\n",
    "        images.append(torch.Tensor(x[0][2]))\n",
    "\n",
    "        \n",
    "        # target\n",
    "        bb_tens = x[1]['bounding_box']\n",
    "        current_bbs = []\n",
    "        bbox_map = torch.zeros((800, 800))\n",
    "        counts = np.zeros(60)\n",
    "        count = 0\n",
    "        \n",
    "        # Create the bounding box map. \n",
    "        for i, corners in enumerate(bb_tens):\n",
    "            \n",
    "            # Grab the current bounding box. \n",
    "            current_bbs.append(corners)\n",
    "            \n",
    "            # Get its four bird's-eye view coordinates. \n",
    "            point_squence = torch.stack([corners[:, 0], corners[:, 1], corners[:, 3], corners[:, 2]])\n",
    "            xs = point_squence.T[0] * 10 + 400\n",
    "            ys = -point_squence.T[1] * 10 + 400\n",
    "            \n",
    "            # xs is horizontal, ys is vertical through. \n",
    "            # But we're doing things row, column way. \n",
    "            \n",
    "            # Only get the bounding boxes that are close-by. On the same road. \n",
    "            # We want to see if the model can fucking predict cars that are close by. \n",
    "            \n",
    "            center_x, center_y = torch.mean(xs).item(), torch.mean(ys).item()\n",
    "            if (within_angles(xs, ys, angle1=274, angle2=360) or \\\n",
    "                within_angles(xs, ys, angle1 = 0, angle2 = 90)) and \\\n",
    "                center_y > 255 and center_y < 500:\n",
    "            \n",
    "                # Grab the top-left coordinates. \n",
    "                r, c = int(torch.min(ys).item()), int(torch.min(xs).item())\n",
    "                r_len, c_len = int(torch.max(ys).item()) - r, int(torch.max(xs).item()) - c\n",
    "\n",
    "                # Fill in the bbox. \n",
    "                bbox_map[r:r+r_len, c:c+c_len] = 1.0\n",
    "\n",
    "                count += 1\n",
    "            \n",
    "        # Convert the bounding box map into classes (5px by 5px bins)\n",
    "        bbox_grid = []\n",
    "        for x_ in range(0, 800, VERT_BLOCK_SIZE):\n",
    "            for y in range(0, 800, HORIZ_BLOCK_SIZE):\n",
    "                block = bbox_map[x_:x_+VERT_BLOCK_SIZE, y:y+HORIZ_BLOCK_SIZE]\n",
    "                score = torch.sum(block).item()\n",
    "                # If more than have the pixels are 1, classify as bbox car\n",
    "                if score > 0.5 * (BLOCK_AREA):\n",
    "                    bbox_grid.append(1.0)\n",
    "                else:\n",
    "                    bbox_grid.append(0.0)\n",
    "                    \n",
    "        bbox_bins.append(torch.Tensor(bbox_grid))\n",
    "              \n",
    "        counts[count] = 1\n",
    "\n",
    "        # Label Smoothing #\n",
    "#         if count > 15 and count < 88:\n",
    "#             counts[count+1] = 0.2\n",
    "#             counts[count-1] = 0.2\n",
    "            \n",
    "        target_counts.append(torch.Tensor(counts))\n",
    "        \n",
    "        bbox_maps.append(bbox_map)\n",
    "\n",
    "        bbs.append(current_bbs)\n",
    "        \n",
    "        sample_images.append(torch.stack(images))\n",
    "                \n",
    "    boom = torch.stack(sample_images), torch.stack(bbox_bins), torch.stack(road_maps), bbs, torch.stack(target_counts), torch.stack(bbox_maps) \n",
    "    return boom"
   ]
  },
  {
   "cell_type": "code",
   "execution_count": 4,
   "metadata": {},
   "outputs": [],
   "source": [
    "val_transform = transforms.ToTensor()\n",
    "\n",
    "labeled_valset = LabeledDataset(image_folder=image_folder,\n",
    "                                  annotation_file=annotation_csv,\n",
    "                                  scene_index=val_labeled_scene_index,\n",
    "                                  transform=val_transform,\n",
    "                                  extra_info=True\n",
    "                                 )"
   ]
  },
  {
   "cell_type": "code",
   "execution_count": 5,
   "metadata": {},
   "outputs": [],
   "source": [
    "# Compute threat scores\n",
    "def reconstruct_from_bins(bins, threshold):\n",
    "    road_map = torch.zeros((800, 800))\n",
    "    idx = 0\n",
    "    for x in range(0, 800, VERT_BLOCK_SIZE):\n",
    "        for y in range(0, 800, HORIZ_BLOCK_SIZE):\n",
    "            road_map[x:x+VERT_BLOCK_SIZE, y:y+HORIZ_BLOCK_SIZE] = bins[idx]\n",
    "            idx += 1\n",
    "    return road_map > threshold"
   ]
  },
  {
   "cell_type": "code",
   "execution_count": 6,
   "metadata": {},
   "outputs": [],
   "source": [
    "def draw_vish_box(ax, class_box, width, height, color):\n",
    "    box_xs = [class_box[1], class_box[1], class_box[1]+width, class_box[1]+width, class_box[1]]\n",
    "    box_ys = [class_box[0], class_box[0]+height, class_box[0]+height, class_box[0], class_box[0]]\n",
    "    ax.plot(box_xs, box_ys, color=color)"
   ]
  },
  {
   "cell_type": "code",
   "execution_count": 7,
   "metadata": {},
   "outputs": [],
   "source": [
    "class SimpleModel(nn.Module):\n",
    "    def __init__(self, count_dim=28):\n",
    "        super(SimpleModel, self).__init__()\n",
    "        \n",
    "        self.encoder = torchvision.models.resnet18()\n",
    "        self.encoder.fc = nn.Identity()\n",
    "        self.concat_dim = 100\n",
    "        self.dropout = nn.Dropout(p = 0.2)\n",
    "        self.bn = nn.BatchNorm1d(self.concat_dim)\n",
    "        \n",
    "        self.compress = nn.Sequential(OrderedDict([\n",
    "            ('linear0', nn.Linear(512, 100)),\n",
    "            ('relu', nn.ReLU()),\n",
    "        ]))\n",
    "        \n",
    "        self.vehicle_map = nn.Sequential(OrderedDict([\n",
    "            ('linear1_vehicle', nn.Linear(self.concat_dim, 6400)),\n",
    "        ]))\n",
    "        \n",
    "        self.counts = nn.Sequential(OrderedDict([\n",
    "            ('count1', nn.Linear(self.concat_dim, count_dim))\n",
    "        ]))\n",
    "        \n",
    "    def forward(self, x):\n",
    "        \n",
    "        batch_size = x.shape[0]\n",
    "        channels = x.shape[1]\n",
    "        height = x.shape[2]\n",
    "        width = x.shape[3]\n",
    "        # Reshape here\n",
    "        x = x.view(-1, channels, height, width)\n",
    "        x = self.encoder(x)\n",
    "        x = self.compress(x)\n",
    "        x = x.view(-1, self.concat_dim)\n",
    "        x = self.bn(x)\n",
    "        x = self.dropout(x)\n",
    "    \n",
    "        return self.vehicle_map(x), self.counts(x)"
   ]
  },
  {
   "cell_type": "code",
   "execution_count": 8,
   "metadata": {},
   "outputs": [
    {
     "data": {
      "text/plain": [
       "<All keys matched successfully>"
      ]
     },
     "execution_count": 8,
     "metadata": {},
     "output_type": "execute_result"
    }
   ],
   "source": [
    "device = torch.device(\"cpu\")\n",
    "fl_model = SimpleModel(count_dim=28).to(device)\n",
    "fl_model.load_state_dict(torch.load('/scratch/vr1059/front_left_image_resnet18_val_new.pt', map_location=device))\n",
    "\n",
    "f_model = SimpleModel(count_dim=28).to(device)\n",
    "f_model.load_state_dict(torch.load('/scratch/vr1059/front_image_resnet18_val_new.pt', map_location=device))\n",
    "\n",
    "fr_model = SimpleModel(count_dim=60).to(device)\n",
    "fr_model.load_state_dict(torch.load('/scratch/vr1059/front_right_image_resnet18_val_new.pt', map_location=device))\n"
   ]
  },
  {
   "cell_type": "code",
   "execution_count": 9,
   "metadata": {},
   "outputs": [
    {
     "name": "stdout",
     "output_type": "stream",
     "text": [
      "done.\n"
     ]
    }
   ],
   "source": [
    "fl_model.eval()\n",
    "f_model.eval()\n",
    "fr_model.eval()\n",
    "print('done.')"
   ]
  },
  {
   "cell_type": "code",
   "execution_count": 10,
   "metadata": {},
   "outputs": [],
   "source": [
    "val_loader = torch.utils.data.DataLoader(labeled_valset, batch_size=15, shuffle=True, collate_fn=collate_fn)"
   ]
  },
  {
   "cell_type": "code",
   "execution_count": 411,
   "metadata": {},
   "outputs": [],
   "source": [
    "sample, bbox_bins, road_maps, bbs, counts, bbox_maps = iter(val_loader).next()"
   ]
  },
  {
   "cell_type": "code",
   "execution_count": 412,
   "metadata": {},
   "outputs": [],
   "source": [
    "fl_vehicle, _ = fl_model(sample[:, 0, :, 130:, :])\n",
    "f_vehicle, _ = f_model(sample[:, 1, :, 130:, :])\n",
    "fr_vehicle, _ = fr_model(sample[:, 2, :, 120:, :])"
   ]
  },
  {
   "cell_type": "code",
   "execution_count": null,
   "metadata": {},
   "outputs": [],
   "source": []
  },
  {
   "cell_type": "code",
   "execution_count": null,
   "metadata": {},
   "outputs": [],
   "source": []
  },
  {
   "cell_type": "code",
   "execution_count": 413,
   "metadata": {},
   "outputs": [],
   "source": [
    "idx = -1"
   ]
  },
  {
   "cell_type": "code",
   "execution_count": 414,
   "metadata": {},
   "outputs": [],
   "source": [
    "idx += 1"
   ]
  },
  {
   "cell_type": "code",
   "execution_count": 415,
   "metadata": {},
   "outputs": [
    {
     "data": {
      "image/png": "[encoded data removed]",
      "text/plain": [
       "<matplotlib.figure.Figure at 0x2b775c0816a0>"
      ]
     },
     "metadata": {
      "needs_background": "light"
     },
     "output_type": "display_data"
    }
   ],
   "source": [
    "%matplotlib inline\n",
    "matplotlib.rcParams['figure.figsize'] = [7,7]\n",
    "plt.imshow(torchvision.utils.make_grid(sample[idx], nrow=3).numpy().transpose(1, 2, 0))\n",
    "plt.axis('off');"
   ]
  },
  {
   "cell_type": "code",
   "execution_count": 416,
   "metadata": {},
   "outputs": [
    {
     "data": {
      "image/png": "[encoded data removed]",
      "text/plain": [
       "<matplotlib.figure.Figure at 0x2b7757692898>"
      ]
     },
     "metadata": {
      "needs_background": "light"
     },
     "output_type": "display_data"
    }
   ],
   "source": [
    "%matplotlib inline\n",
    "matplotlib.rcParams['figure.figsize'] = [3,3]\n",
    "\n",
    "fig, ax = plt.subplots()\n",
    "ax.imshow(road_maps[idx], cmap ='binary');\n",
    "ax.plot(400, 400, 'x', color=\"red\")\n",
    "for bb in bbs[idx]:\n",
    "    draw_box(ax, bb, 'orange')"
   ]
  },
  {
   "cell_type": "code",
   "execution_count": 417,
   "metadata": {},
   "outputs": [
    {
     "data": {
      "text/plain": [
       "[<matplotlib.lines.Line2D at 0x2b7757ec1390>]"
      ]
     },
     "execution_count": 417,
     "metadata": {},
     "output_type": "execute_result"
    },
    {
     "data": {
      "image/png": "[encoded data removed]",
      "text/plain": [
       "<matplotlib.figure.Figure at 0x2b7756fff630>"
      ]
     },
     "metadata": {
      "needs_background": "light"
     },
     "output_type": "display_data"
    }
   ],
   "source": [
    "matplotlib.rcParams['figure.figsize'] = [3,3]\n",
    "fig, ax = plt.subplots()\n",
    "ax.imshow(bbox_maps[idx], cmap ='binary');\n",
    "ax.plot(400, 400, 'x', color=\"red\")"
   ]
  },
  {
   "cell_type": "code",
   "execution_count": 418,
   "metadata": {},
   "outputs": [
    {
     "data": {
      "text/plain": [
       "torch.Size([3, 256, 306])"
      ]
     },
     "execution_count": 418,
     "metadata": {},
     "output_type": "execute_result"
    }
   ],
   "source": [
    "sample[idx][0].shape"
   ]
  },
  {
   "cell_type": "code",
   "execution_count": 419,
   "metadata": {},
   "outputs": [
    {
     "name": "stdout",
     "output_type": "stream",
     "text": [
      "0.9430440664291382\n",
      "0.8648614883422852\n",
      "0.1636057049036026\n"
     ]
    },
    {
     "data": {
      "text/plain": [
       "[None, None, None]"
      ]
     },
     "execution_count": 419,
     "metadata": {},
     "output_type": "execute_result"
    }
   ],
   "source": [
    "fl_pred_map = torch.sigmoid(fl_vehicle[idx])\n",
    "f_pred_map = torch.sigmoid(f_vehicle[idx])\n",
    "fr_pred_map = torch.sigmoid(fr_vehicle[idx])\n",
    "[print(torch.max(x).item()) for x in [fl_pred_map, f_pred_map, fr_pred_map]]"
   ]
  },
  {
   "cell_type": "code",
   "execution_count": 438,
   "metadata": {},
   "outputs": [
    {
     "data": {
      "text/plain": [
       "[<matplotlib.lines.Line2D at 0x2b7739965898>]"
      ]
     },
     "execution_count": 438,
     "metadata": {},
     "output_type": "execute_result"
    },
    {
     "data": {
      "image/png": "[encoded data removed]",
      "text/plain": [
       "<matplotlib.figure.Figure at 0x2b775c6bf908>"
      ]
     },
     "metadata": {
      "needs_background": "light"
     },
     "output_type": "display_data"
    }
   ],
   "source": [
    "%matplotlib inline\n",
    "matplotlib.rcParams['figure.figsize'] = [3,3]\n",
    "threshold = 0.6\n",
    "reconstruct_fl_map = reconstruct_from_bins(fl_pred_map, threshold).cpu()\n",
    "reconstruct_f_map = reconstruct_from_bins(f_pred_map, threshold).cpu()\n",
    "reconstruct_fr_map = reconstruct_from_bins(fr_pred_map, threshold).cpu()\n",
    "\n",
    "reconstruct_map = reconstruct_fl_map + reconstruct_f_map + reconstruct_fr_map\n",
    "\n",
    "fig, ax = plt.subplots()\n",
    "ax.imshow(reconstruct_map, cmap ='binary');\n",
    "ax.plot(400, 400, 'x', color=\"red\")"
   ]
  },
  {
   "cell_type": "code",
   "execution_count": 439,
   "metadata": {},
   "outputs": [],
   "source": [
    "# TODO: Change this to not transpose in the collate_fn and stuff. With the newest model. \n",
    "bb_map = reconstruct_map.clone()\n",
    "\n",
    "def go(direction, top_left, width, height):\n",
    "    threshold = 0.0\n",
    "    r, c = top_left\n",
    "    delta = 10\n",
    "    if direction == 'right':\n",
    "        c = c + width \n",
    "        # now we're at the top-right coordinate. \n",
    "        while c + delta < 800:\n",
    "            block = bb_map[r:r+height, c:c+delta]\n",
    "            score = torch.sum(block).item()\n",
    "            if score > threshold * height * delta:\n",
    "                c = c + delta\n",
    "                width = width + delta\n",
    "            else:\n",
    "                break\n",
    "                \n",
    "        return top_left, width, height\n",
    "                \n",
    "    elif direction == 'left':\n",
    "        # At top-left coordinate. \n",
    "        while c - delta > 0:\n",
    "            block = bb_map[r:r+height, c-delta:c]\n",
    "            score = torch.sum(block).item()\n",
    "            if score > threshold * height * delta:\n",
    "                c = c - delta\n",
    "                width = width + delta\n",
    "            else:\n",
    "                break\n",
    "        \n",
    "        return (r, c), width, height\n",
    "    \n",
    "    elif direction == 'up':\n",
    "        # At top_left coordinate. \n",
    "        while r - delta > 0:\n",
    "            block = bb_map[r-delta:r, c:c+width]\n",
    "            score = torch.sum(block).item()\n",
    "            if score > threshold * width * delta:\n",
    "                r = r - delta\n",
    "                height = height + delta\n",
    "            else:\n",
    "                break\n",
    "        \n",
    "        return (r, c), width, height\n",
    "    \n",
    "    elif direction == 'down':\n",
    "        r = r + delta\n",
    "        # At bottom_left coordinate. \n",
    "        while r + delta < 800:\n",
    "            block = bb_map[r:r+delta, c:c+width]\n",
    "            score = torch.sum(block).item()\n",
    "            if score > threshold * width * delta:\n",
    "                r = r + delta\n",
    "                height = height + delta\n",
    "            else:\n",
    "                break\n",
    "        \n",
    "        return top_left, width, height\n",
    "        \n",
    "\n",
    "score_threshold = 0\n",
    "bboxes = []\n",
    "for r in range(0, 800, 10):\n",
    "    for c in range(0, 800, 10):\n",
    "        \n",
    "        top_left = (r, c)\n",
    "        width = HORIZ_BLOCK_SIZE\n",
    "        height = VERT_BLOCK_SIZE\n",
    "        \n",
    "        block = bb_map[r:r+VERT_BLOCK_SIZE, c:c+HORIZ_BLOCK_SIZE]\n",
    "        score = torch.sum(block).item()\n",
    "        # If more than have the pixels are 1, classify as bbox car\n",
    "        if score > (BLOCK_AREA) * score_threshold:\n",
    "            top_left, width, height = go('right', top_left, width, height)\n",
    "            top_left, width, height = go('left', top_left, width, height)\n",
    "            top_left, width, height = go('up', top_left, width, height)\n",
    "            top_left, width, height = go('down', top_left, width, height)\n",
    "            top_left, width, height = go('left', top_left, width, height)\n",
    "            top_left, width, height = go('right', top_left, width, height)\n",
    "            \n",
    "            bboxes.append((top_left, width, height))\n",
    "            bb_map[top_left[0]:top_left[0] + height, top_left[1]:top_left[1] + width] = 0     "
   ]
  },
  {
   "cell_type": "code",
   "execution_count": 440,
   "metadata": {},
   "outputs": [
    {
     "name": "stdout",
     "output_type": "stream",
     "text": [
      "5\n",
      "4\n"
     ]
    }
   ],
   "source": [
    "print(len(bboxes))\n",
    "new_bboxes = []\n",
    "for x in bboxes:\n",
    "    _, width, height = x\n",
    "    if width * height > 300:\n",
    "        if width > 150:\n",
    "            car_width = 45\n",
    "            dist = 0\n",
    "            while dist < width:\n",
    "                new_bboxes.append(((x[0][0], x[0][1] + dist), car_width, height))\n",
    "                dist += car_width\n",
    "        elif width > 120:\n",
    "            new_bboxes.append((x[0], width * 0.5, height))\n",
    "            new_bboxes.append(((x[0][0], x[0][1] + (width * 0.5)), width * 0.5, height))\n",
    "        else:\n",
    "            new_bboxes.append(x)\n",
    "        \n",
    "bboxes = new_bboxes\n",
    "print(len(bboxes))"
   ]
  },
  {
   "cell_type": "code",
   "execution_count": 441,
   "metadata": {},
   "outputs": [
    {
     "data": {
      "image/png": "[encoded data removed]",
      "text/plain": [
       "<matplotlib.figure.Figure at 0x2b7739994c88>"
      ]
     },
     "metadata": {
      "needs_background": "light"
     },
     "output_type": "display_data"
    }
   ],
   "source": [
    "matplotlib.rcParams['figure.figsize'] = [7,7]\n",
    "\n",
    "fig, ax = plt.subplots()\n",
    "ax.imshow(reconstruct_map, cmap ='binary');\n",
    "ax.plot(400, 400, 'x', color=\"red\")\n",
    "for bb in bboxes:\n",
    "    draw_vish_box(ax, bb[0], bb[1], bb[2], 'orange')"
   ]
  },
  {
   "cell_type": "code",
   "execution_count": 442,
   "metadata": {},
   "outputs": [
    {
     "data": {
      "image/png": "[encoded data removed]",
      "text/plain": [
       "<matplotlib.figure.Figure at 0x2b77399a1dd8>"
      ]
     },
     "metadata": {
      "needs_background": "light"
     },
     "output_type": "display_data"
    }
   ],
   "source": [
    "matplotlib.rcParams['figure.figsize'] = [7,7]\n",
    "fig, ax = plt.subplots()\n",
    "ax.imshow(bbox_maps[idx], cmap ='binary');\n",
    "ax.plot(400, 400, 'x', color=\"red\")\n",
    "for bb in bboxes:\n",
    "    draw_vish_box(ax, bb[0], bb[1], bb[2], 'orange')"
   ]
  },
  {
   "cell_type": "code",
   "execution_count": 443,
   "metadata": {},
   "outputs": [
    {
     "name": "stdout",
     "output_type": "stream",
     "text": [
      "tensor(0.6726)\n"
     ]
    },
    {
     "data": {
      "text/plain": [
       "tensor(0.0497)"
      ]
     },
     "execution_count": 443,
     "metadata": {},
     "output_type": "execute_result"
    }
   ],
   "source": [
    "compute_bbox_score(bboxes, bbs, idx, log=True)"
   ]
  },
  {
   "cell_type": "code",
   "execution_count": null,
   "metadata": {},
   "outputs": [],
   "source": []
  },
  {
   "cell_type": "code",
   "execution_count": null,
   "metadata": {},
   "outputs": [],
   "source": []
  },
  {
   "cell_type": "code",
   "execution_count": null,
   "metadata": {},
   "outputs": [],
   "source": []
  },
  {
   "cell_type": "code",
   "execution_count": 10,
   "metadata": {},
   "outputs": [],
   "source": [
    "def go(direction, top_left, width, height):\n",
    "    threshold = 0.0\n",
    "    r, c = top_left\n",
    "    delta = 10\n",
    "    if direction == 'right':\n",
    "        c = c + width \n",
    "        # now we're at the top-right coordinate. \n",
    "        while c + delta < 800:\n",
    "            block = bb_map[r:r+height, c:c+delta]\n",
    "            score = torch.sum(block).item()\n",
    "            if score > threshold * height * delta:\n",
    "                c = c + delta\n",
    "                width = width + delta\n",
    "            else:\n",
    "                break\n",
    "                \n",
    "        return top_left, width, height\n",
    "                \n",
    "    elif direction == 'left':\n",
    "        # At top-left coordinate. \n",
    "        while c - delta > 0:\n",
    "            block = bb_map[r:r+height, c-delta:c]\n",
    "            score = torch.sum(block).item()\n",
    "            if score > threshold * height * delta:\n",
    "                c = c - delta\n",
    "                width = width + delta\n",
    "            else:\n",
    "                break\n",
    "        \n",
    "        return (r, c), width, height\n",
    "    \n",
    "    elif direction == 'up':\n",
    "        # At top_left coordinate. \n",
    "        while r - delta > 0:\n",
    "            block = bb_map[r-delta:r, c:c+width]\n",
    "            score = torch.sum(block).item()\n",
    "            if score > threshold * width * delta:\n",
    "                r = r - delta\n",
    "                height = height + delta\n",
    "            else:\n",
    "                break\n",
    "        \n",
    "        return (r, c), width, height\n",
    "    \n",
    "    elif direction == 'down':\n",
    "        r = r + delta\n",
    "        # At bottom_left coordinate. \n",
    "        while r + delta < 800:\n",
    "            block = bb_map[r:r+delta, c:c+width]\n",
    "            score = torch.sum(block).item()\n",
    "            if score > threshold * width * delta:\n",
    "                r = r + delta\n",
    "                height = height + delta\n",
    "            else:\n",
    "                break\n",
    "        \n",
    "        return top_left, width, height"
   ]
  },
  {
   "cell_type": "code",
   "execution_count": 11,
   "metadata": {},
   "outputs": [],
   "source": [
    "def compute_ats_bounding_boxes(boxes1, boxes2, log=False):\n",
    "    num_boxes1 = boxes1.size(0)\n",
    "    num_boxes2 = boxes2.size(0)\n",
    "\n",
    "    boxes1_max_x = boxes1[:, 0].max(dim=1)[0]\n",
    "    boxes1_min_x = boxes1[:, 0].min(dim=1)[0]\n",
    "    boxes1_max_y = boxes1[:, 1].max(dim=1)[0]\n",
    "    boxes1_min_y = boxes1[:, 1].min(dim=1)[0]\n",
    "\n",
    "    boxes2_max_x = boxes2[:, 0].max(dim=1)[0]\n",
    "    boxes2_min_x = boxes2[:, 0].min(dim=1)[0]\n",
    "    boxes2_max_y = boxes2[:, 1].max(dim=1)[0]\n",
    "    boxes2_min_y = boxes2[:, 1].min(dim=1)[0]\n",
    "\n",
    "    condition1_matrix = (boxes1_max_x.unsqueeze(1) > boxes2_min_x.unsqueeze(0))\n",
    "    condition2_matrix = (boxes1_min_x.unsqueeze(1) < boxes2_max_x.unsqueeze(0))\n",
    "    condition3_matrix = (boxes1_max_y.unsqueeze(1) > boxes2_min_y.unsqueeze(0))\n",
    "    condition4_matrix = (boxes1_min_y.unsqueeze(1) < boxes2_max_y.unsqueeze(0))\n",
    "    condition_matrix = condition1_matrix * condition2_matrix * condition3_matrix * condition4_matrix\n",
    "\n",
    "    iou_matrix = torch.zeros(num_boxes1, num_boxes2)\n",
    "    for i in range(num_boxes1):\n",
    "        for j in range(num_boxes2):\n",
    "            if condition_matrix[i][j]:\n",
    "                iou_matrix[i][j] = compute_iou(boxes1[i], boxes2[j])\n",
    "\n",
    "    iou_max = iou_matrix.max(dim=0)[0]\n",
    "    if log:\n",
    "        print(torch.max(iou_max))\n",
    "    \n",
    "\n",
    "    iou_thresholds = [0.5, 0.6, 0.7, 0.8, 0.9]\n",
    "    total_threat_score = 0\n",
    "    total_weight = 0\n",
    "    for threshold in iou_thresholds:\n",
    "        tp = (iou_max > threshold).sum()\n",
    "        threat_score = tp * 1.0 / (num_boxes1 + num_boxes2 - tp)\n",
    "        total_threat_score += 1.0 / threshold * threat_score\n",
    "        total_weight += 1.0 / threshold\n",
    "\n",
    "    average_threat_score = total_threat_score / total_weight\n",
    "\n",
    "    return average_threat_score\n",
    "\n",
    "\n",
    "\n",
    "\n",
    "def compute_ts_road_map(road_map1, road_map2):\n",
    "    tp = (road_map1 * road_map2).sum()\n",
    "\n",
    "    return tp * 1.0 / (road_map1.sum() + road_map2.sum() - tp)\n",
    "\n",
    "def compute_iou(box1, box2):\n",
    "    a = Polygon(torch.t(box1)).convex_hull\n",
    "    b = Polygon(torch.t(box2)).convex_hull\n",
    "\n",
    "    return a.intersection(b).area / a.union(b).area"
   ]
  },
  {
   "cell_type": "code",
   "execution_count": 12,
   "metadata": {},
   "outputs": [],
   "source": [
    "def compute_bbox_score(bboxes, bbs, idx = False, log=False):\n",
    "    bb_samples = []\n",
    "\n",
    "    bounding_boxes = []\n",
    "    for bb in bboxes:\n",
    "        top_left, width, height = bb\n",
    "        r, c = top_left\n",
    "        xs = torch.Tensor([c, c+width, c+width, c])\n",
    "        ys = torch.Tensor([r, r, r+height, r+height])\n",
    "\n",
    "        xs = xs - 400\n",
    "        ys = 800 - ys # right-side up\n",
    "        ys = ys - 400\n",
    "\n",
    "        xs /= 10.\n",
    "        ys /= 10.\n",
    "\n",
    "        coords = torch.stack((xs, ys))\n",
    "        bounding_boxes.append(coords)\n",
    "\n",
    "    bounding_boxes = torch.stack(bounding_boxes).double()\n",
    "    bb_samples.append(bounding_boxes)\n",
    "    bb_samples = tuple(bb_samples)\n",
    "    \n",
    "    if type(idx) == int:\n",
    "        return compute_ats_bounding_boxes(bb_samples[0].cpu(), torch.stack(bbs[idx]).cpu(), log=True)\n",
    "    else:\n",
    "        return compute_ats_bounding_boxes(bb_samples[0].cpu(), torch.stack(bbs[0]).cpu(), log=False)"
   ]
  },
  {
   "cell_type": "code",
   "execution_count": null,
   "metadata": {},
   "outputs": [],
   "source": []
  },
  {
   "cell_type": "code",
   "execution_count": null,
   "metadata": {},
   "outputs": [
    {
     "name": "stdout",
     "output_type": "stream",
     "text": [
      "\tAverage Threat Score so far, 0th iteration: 0.010316452942788601\n",
      "\tAverage Threat Score so far, 100th iteration: 0.03739118576049805\n",
      "\tAverage Threat Score so far, 150th iteration: 0.033288657665252686\n",
      "\tAverage Threat Score so far, 200th iteration: 0.03240783512592316\n",
      "\tAverage Threat Score so far, 250th iteration: 0.03392034024000168\n",
      "\tAverage Threat Score so far, 300th iteration: 0.033834826201200485\n",
      "\tAverage Threat Score so far, 350th iteration: 0.03202376142144203\n",
      "Threshold 0.15, Average threat score: 0.023877818137407303\n",
      "\tAverage Threat Score so far, 0th iteration: 0.0\n",
      "\tAverage Threat Score so far, 50th iteration: 0.035266660153865814\n",
      "\tAverage Threat Score so far, 100th iteration: 0.037484489381313324\n",
      "\tAverage Threat Score so far, 150th iteration: 0.03476562350988388\n",
      "\tAverage Threat Score so far, 200th iteration: 0.0357280857861042\n",
      "\tAverage Threat Score so far, 250th iteration: 0.03685808926820755\n",
      "\tAverage Threat Score so far, 300th iteration: 0.036316946148872375\n",
      "\tAverage Threat Score so far, 350th iteration: 0.03558658808469772\n",
      "Threshold 0.2, Average threat score: 0.02595953643321991\n",
      "\tAverage Threat Score so far, 0th iteration: 0.009249233640730381\n",
      "\tAverage Threat Score so far, 50th iteration: 0.03900887444615364\n",
      "\tAverage Threat Score so far, 150th iteration: 0.03441770374774933\n",
      "\tAverage Threat Score so far, 200th iteration: 0.03313006833195686\n",
      "\tAverage Threat Score so far, 300th iteration: 0.03332914784550667\n",
      "\tAverage Threat Score so far, 350th iteration: 0.03609898313879967\n",
      "Threshold 0.25, Average threat score: 0.025385620072484016\n",
      "\tAverage Threat Score so far, 50th iteration: 0.03443632647395134\n",
      "\tAverage Threat Score so far, 100th iteration: 0.03480177000164986\n",
      "\tAverage Threat Score so far, 150th iteration: 0.03577442094683647\n"
     ]
    }
   ],
   "source": [
    "thresholds = [0.15, 0.2, 0.25, 0.3, 0.35, 0.4, 0.5, 0.6]\n",
    "score_threshold = 0\n",
    "\n",
    "\n",
    "device = torch.device(\"cpu\")\n",
    "fl_model = SimpleModel(count_dim=28).to(device)\n",
    "fl_model.load_state_dict(torch.load('/scratch/vr1059/front_left_image_resnet18_val_new.pt', map_location=device))\n",
    "\n",
    "f_model = SimpleModel(count_dim=28).to(device)\n",
    "f_model.load_state_dict(torch.load('/scratch/vr1059/front_image_resnet18_val_new.pt', map_location=device))\n",
    "\n",
    "fr_model = SimpleModel(count_dim=60).to(device)\n",
    "fr_model.load_state_dict(torch.load('/scratch/vr1059/front_right_image_resnet18_val_new.pt', map_location=device))\n",
    "\n",
    "for threshold in thresholds:\n",
    "    val_loader = torch.utils.data.DataLoader(labeled_valset, batch_size=1, shuffle=True, collate_fn=collate_fn)\n",
    "\n",
    "    fl_model.eval()\n",
    "    f_model.eval()\n",
    "    fr_model.eval()\n",
    "\n",
    "    threat_scores = 0\n",
    "    threats = []\n",
    "\n",
    "    with torch.no_grad():\n",
    "        for i, (sample, bbox_bins, road_maps, bbs, counts, bbox_maps) in enumerate(val_loader):\n",
    "            \n",
    "            fl_vehicle, _ = fl_model(sample[0][0][:, 130:, :].unsqueeze(0))\n",
    "            f_vehicle, _ = f_model(sample[0][1][:, 130:, :].unsqueeze(0))\n",
    "            fr_vehicle, _ = fr_model(sample[0][2][:, 120:, :].unsqueeze(0))\n",
    "            \n",
    "            fl_pred_map = torch.sigmoid(fl_vehicle[0])\n",
    "            f_pred_map = torch.sigmoid(f_vehicle[0])\n",
    "            fr_pred_map = torch.sigmoid(fr_vehicle[0])\n",
    "            \n",
    "            reconstruct_fl_map = reconstruct_from_bins(fl_pred_map, 0.35).cpu()\n",
    "            reconstruct_f_map = reconstruct_from_bins(f_pred_map, 0.35).cpu()\n",
    "            reconstruct_fr_map = reconstruct_from_bins(fr_pred_map, threshold).cpu()\n",
    "\n",
    "            reconstruct_map = reconstruct_fl_map + reconstruct_f_map + reconstruct_fr_map\n",
    "                \n",
    "\n",
    "            bb_map = reconstruct_map.clone()\n",
    "\n",
    "            bboxes = []\n",
    "            for r in range(0, 800, 10):\n",
    "                for c in range(0, 800, 10):\n",
    "\n",
    "                    top_left = (r, c)\n",
    "                    width = VERT_BLOCK_SIZE\n",
    "                    height = HORIZ_BLOCK_SIZE\n",
    "\n",
    "                    block = bb_map[r:r+VERT_BLOCK_SIZE, c:c+HORIZ_BLOCK_SIZE]\n",
    "                    score = torch.sum(block).item()\n",
    "                    # If more than have the pixels are 1, classify as bbox car\n",
    "                    if score > (BLOCK_AREA) * score_threshold:\n",
    "                        top_left, width, height = go('right', top_left, width, height)\n",
    "                        top_left, width, height = go('left', top_left, width, height)\n",
    "                        top_left, width, height = go('up', top_left, width, height)\n",
    "                        top_left, width, height = go('down', top_left, width, height)\n",
    "                        top_left, width, height = go('left', top_left, width, height)\n",
    "                        top_left, width, height = go('right', top_left, width, height)\n",
    "\n",
    "                        bboxes.append((top_left, width, height))\n",
    "                        bb_map[top_left[0]:top_left[0] + height, top_left[1]:top_left[1] + width] = 0    \n",
    "\n",
    "\n",
    "            new_bboxes = []\n",
    "            for x in bboxes:\n",
    "                _, width, height = x\n",
    "                if width * height > 300:\n",
    "                    if width > 150:\n",
    "                        car_width = 45\n",
    "                        dist = 0\n",
    "                        while dist < width:\n",
    "                            new_bboxes.append(((x[0][0], x[0][1] + dist), car_width, height))\n",
    "                            dist += car_width\n",
    "                    elif width > 120:\n",
    "                        new_bboxes.append((x[0], width * 0.5, height))\n",
    "                        new_bboxes.append(((x[0][0], x[0][1] + (width * 0.5)), width * 0.5, height))\n",
    "                    else:\n",
    "                        new_bboxes.append(x)\n",
    "\n",
    "            bboxes = new_bboxes\n",
    "\n",
    "            if len(bboxes) == 0:\n",
    "                continue\n",
    "\n",
    "            ts_bounding_box = compute_bbox_score(bboxes, bbs, log=False)\n",
    "\n",
    "            threat_scores += ts_bounding_box\n",
    "            threats.append(ts_bounding_box)\n",
    "\n",
    "            if i % 50 == 0:\n",
    "                print(\"\\tAverage Threat Score so far, {}th iteration: {}\".format(i, np.mean(threats)))\n",
    "\n",
    "    print(\"Threshold {}, Average threat score: {}\".format(threshold, threat_scores/len(val_loader)))\n",
    "            \n",
    " "
   ]
  },
  {
   "cell_type": "code",
   "execution_count": 1,
   "metadata": {},
   "outputs": [],
   "source": [
    "# 0.0257 best validation threat score so far\n",
    "\n"
   ]
  },
  {
   "cell_type": "code",
   "execution_count": null,
   "metadata": {},
   "outputs": [],
   "source": []
  }
 ],
 "metadata": {
  "kernelspec": {
   "display_name": "Python 3",
   "language": "python",
   "name": "python3"
  },
  "language_info": {
   "codemirror_mode": {
    "name": "ipython",
    "version": 3
   },
   "file_extension": ".py",
   "mimetype": "text/x-python",
   "name": "python",
   "nbconvert_exporter": "python",
   "pygments_lexer": "ipython3",
   "version": "3.6.3"
  }
 },
 "nbformat": 4,
 "nbformat_minor": 2
}
