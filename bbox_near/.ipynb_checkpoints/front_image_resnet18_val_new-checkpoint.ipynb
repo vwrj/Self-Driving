{
 "cells": [
  {
   "cell_type": "code",
   "execution_count": 1,
   "metadata": {},
   "outputs": [],
   "source": [
    "import os\n",
    "import random\n",
    "import math\n",
    "import kornia\n",
    "import numpy as np\n",
    "import pandas as pd\n",
    "import pdb\n",
    "from collections import OrderedDict\n",
    "import matplotlib\n",
    "import matplotlib.pyplot as plt\n",
    "from matplotlib import collections  as mc\n",
    "matplotlib.rcParams['figure.figsize'] = [6, 6]\n",
    "matplotlib.rcParams['figure.dpi'] = 200\n",
    "\n",
    "import torch\n",
    "import torch.nn as nn\n",
    "import torch.nn.functional as F\n",
    "import torchvision\n",
    "from torchvision import transforms\n",
    "\n",
    "from data_helper import UnlabeledDataset, LabeledDataset\n",
    "from helper import draw_box\n",
    "\n",
    "# random.seed(0)\n",
    "# np.random.seed(0)\n",
    "# torch.manual_seed(0);\n",
    "\n",
    "# All the images are saved in image_folder\n",
    "# All the labels are saved in the annotation_csv file\n",
    "image_folder = '/scratch/brs426/data'\n",
    "annotation_csv = '/scratch/brs426/data/annotation.csv'\n",
    "\n",
    "# You shouldn't change the unlabeled_scene_index\n",
    "# The first 106 scenes are unlabeled\n",
    "unlabeled_scene_index = np.arange(106)\n",
    "# The scenes from 106 - 133 are labeled\n",
    "# You should devide the labeled_scene_index into two subsets (training and validation)\n",
    "train_labeled_scene_index = np.arange(109, 134)\n",
    "val_labeled_scene_index = np.arange(106, 109)\n",
    "test_labeled_scene_index = np.arange(106, 109)\n",
    "\n",
    "from helper import compute_ats_bounding_boxes, compute_ts_road_map\n",
    "from utils.angles import within_angles"
   ]
  },
  {
   "cell_type": "code",
   "execution_count": 2,
   "metadata": {},
   "outputs": [],
   "source": [
    "VERT_BLOCK_SIZE = 10\n",
    "HORIZ_BLOCK_SIZE = 10\n",
    "BLOCK_AREA = VERT_BLOCK_SIZE * HORIZ_BLOCK_SIZE"
   ]
  },
  {
   "cell_type": "code",
   "execution_count": 3,
   "metadata": {},
   "outputs": [],
   "source": [
    "def blur(img):\n",
    "    img = img.unsqueeze(0)\n",
    "    blurred = kornia.filters.gaussian_blur2d(img, kernel_size=(1, 1), sigma=(9.5, 9.5))\n",
    "    return blurred.squeeze(0)"
   ]
  },
  {
   "cell_type": "code",
   "execution_count": 4,
   "metadata": {},
   "outputs": [],
   "source": [
    "def collate_fn(batch):\n",
    "    left_images = []\n",
    "    target = []\n",
    "    road_maps = []\n",
    "    bbox_maps = []\n",
    "    bbox_bins = []\n",
    "    bbs = []\n",
    "    target_counts = []\n",
    "    for x in batch:\n",
    "        \n",
    "        # Get road_image and cast it to float\n",
    "        road_image = torch.as_tensor(x[2]).float()\n",
    "        road_maps.append(road_image)\n",
    "        \n",
    "        # Collect front-left image.  \n",
    "        # Try cutting off the top 130 pixels (that can lead to overfitting)\n",
    "        image = torch.Tensor(x[0][1])[:, 135:, :]\n",
    "        left_images.append(image)\n",
    "        \n",
    "        # target\n",
    "        bb_tens = x[1]['bounding_box']\n",
    "        current_bbs = []\n",
    "        bbox_map = torch.zeros((800, 800))\n",
    "        counts = np.zeros(28)\n",
    "        count = 0\n",
    "        \n",
    "        # Create the bounding box map. \n",
    "        for i, corners in enumerate(bb_tens):\n",
    "            \n",
    "            # Grab the current bounding box. \n",
    "            current_bbs.append(corners)\n",
    "            \n",
    "            # Get its four bird's-eye view coordinates. \n",
    "            point_squence = torch.stack([corners[:, 0], corners[:, 1], corners[:, 3], corners[:, 2]])\n",
    "            xs = point_squence.T[0] * 10 + 400\n",
    "            ys = -point_squence.T[1] * 10 + 400\n",
    "            \n",
    "            # xs is horizontal, ys is vertical through. \n",
    "            # But we're doing things row, column way. \n",
    "            \n",
    "            # Only get the bounding boxes that are close-by. On the same road. \n",
    "            # We want to see if the model can fucking predict cars that are close by. \n",
    "            \n",
    "            center_x, center_y = torch.mean(xs).item(), torch.mean(ys).item()\n",
    "            if (within_angles(xs, ys, angle1=330, angle2=360) or \\\n",
    "                within_angles(xs, ys, angle1=0, angle2=32)) and \\\n",
    "                center_y > 290 and center_y < 500:\n",
    "            \n",
    "                # Grab the top-left coordinates. \n",
    "                r, c = int(torch.min(ys).item()), int(torch.min(xs).item())\n",
    "                r_len, c_len = int(torch.max(ys).item()) - r, int(torch.max(xs).item()) - c\n",
    "\n",
    "                # Fill in the bbox. \n",
    "                bbox_map[r:r+r_len, c:c+c_len] = 1.0\n",
    "\n",
    "                count += 1\n",
    "            \n",
    "        # Convert the bounding box map into classes (5px by 5px bins)\n",
    "        bbox_grid = []\n",
    "        for x_ in range(0, 800, VERT_BLOCK_SIZE):\n",
    "            for y in range(0, 800, HORIZ_BLOCK_SIZE):\n",
    "                block = bbox_map[x_:x_+VERT_BLOCK_SIZE, y:y+HORIZ_BLOCK_SIZE]\n",
    "                score = torch.sum(block).item()\n",
    "                # If more than have the pixels are 1, classify as bbox car\n",
    "                if score > 0.5 * (BLOCK_AREA):\n",
    "                    bbox_grid.append(1.0)\n",
    "                else:\n",
    "                    bbox_grid.append(0.0)\n",
    "                    \n",
    "        bbox_bins.append(torch.Tensor(bbox_grid))\n",
    "              \n",
    "        counts[count] = 1\n",
    "\n",
    "        # Label Smoothing #\n",
    "#         if count > 15 and count < 88:\n",
    "#             counts[count+1] = 0.2\n",
    "#             counts[count-1] = 0.2\n",
    "            \n",
    "        target_counts.append(torch.Tensor(counts))\n",
    "        \n",
    "        bbox_maps.append(bbox_map)\n",
    "\n",
    "        bbs.append(current_bbs)\n",
    "                \n",
    "    boom = torch.stack(left_images), torch.stack(bbox_bins), torch.stack(road_maps), bbs, torch.stack(target_counts), torch.stack(bbox_maps) \n",
    "    return boom"
   ]
  },
  {
   "cell_type": "code",
   "execution_count": 5,
   "metadata": {},
   "outputs": [],
   "source": [
    "val_transform = transforms.ToTensor()\n",
    "\n",
    "train_transform = transforms.Compose([\n",
    "    transforms.ColorJitter(brightness = 0.5, contrast = 0.5, saturation = 0.4, hue = (-0.5, 0.5)),\n",
    "    transforms.RandomApply([\n",
    "        transforms.Grayscale(3),\n",
    "#         transforms.RandomAffine(1),\n",
    "    ]),\n",
    "    transforms.ToTensor(),\n",
    "    transforms.RandomApply([\n",
    "        transforms.Lambda(lambda img: blur(img)),\n",
    "    ])\n",
    "])\n",
    "\n",
    "labeled_trainset = LabeledDataset(image_folder=image_folder,\n",
    "                                  annotation_file=annotation_csv,\n",
    "                                  scene_index=train_labeled_scene_index,\n",
    "                                  transform=train_transform,\n",
    "                                  extra_info=True\n",
    "                                 )\n",
    "\n",
    "labeled_valset = LabeledDataset(image_folder=image_folder,\n",
    "                                  annotation_file=annotation_csv,\n",
    "                                  scene_index=val_labeled_scene_index,\n",
    "                                  transform=val_transform,\n",
    "                                  extra_info=True\n",
    "                                 )"
   ]
  },
  {
   "cell_type": "markdown",
   "metadata": {},
   "source": [
    "#### Testing"
   ]
  },
  {
   "cell_type": "code",
   "execution_count": 43,
   "metadata": {},
   "outputs": [],
   "source": [
    "train_loader = torch.utils.data.DataLoader(labeled_trainset, batch_size=16, shuffle=True, collate_fn=collate_fn)"
   ]
  },
  {
   "cell_type": "code",
   "execution_count": 44,
   "metadata": {},
   "outputs": [],
   "source": [
    "# Compute threat scores\n",
    "def reconstruct_from_bins(bins, threshold):\n",
    "    print(bins.shape)\n",
    "    road_map = torch.zeros((800, 800))\n",
    "    idx = 0\n",
    "    for x in range(0, 800, VERT_BLOCK_SIZE):\n",
    "        for y in range(0, 800, HORIZ_BLOCK_SIZE):\n",
    "            road_map[x:x+VERT_BLOCK_SIZE, y:y+HORIZ_BLOCK_SIZE] = bins[idx]\n",
    "            idx += 1\n",
    "    return road_map > threshold"
   ]
  },
  {
   "cell_type": "code",
   "execution_count": 45,
   "metadata": {},
   "outputs": [],
   "source": [
    "sample, bbox_bins, road_maps, bbs, counts, bbox_maps  = iter(train_loader).next()"
   ]
  },
  {
   "cell_type": "code",
   "execution_count": 46,
   "metadata": {},
   "outputs": [],
   "source": [
    "idx = -1"
   ]
  },
  {
   "cell_type": "code",
   "execution_count": 47,
   "metadata": {},
   "outputs": [],
   "source": [
    "idx += 1"
   ]
  },
  {
   "cell_type": "code",
   "execution_count": 48,
   "metadata": {},
   "outputs": [
    {
     "name": "stdout",
     "output_type": "stream",
     "text": [
      "tensor(4)\n"
     ]
    },
    {
     "data": {
      "image/png": "[encoded data removed]",
      "text/plain": [
       "<matplotlib.figure.Figure at 0x2b4f5a7aea90>"
      ]
     },
     "metadata": {
      "needs_background": "light"
     },
     "output_type": "display_data"
    }
   ],
   "source": [
    "print(torch.argmax(counts[idx]))\n",
    "matplotlib.rcParams['figure.figsize'] = [10,10]\n",
    "plt.imshow(sample[idx].numpy().transpose(1, 2, 0))\n",
    "plt.axis('off');"
   ]
  },
  {
   "cell_type": "code",
   "execution_count": 49,
   "metadata": {},
   "outputs": [
    {
     "data": {
      "image/png": "[encoded data removed]",
      "text/plain": [
       "<matplotlib.figure.Figure at 0x2b4f5b201f60>"
      ]
     },
     "metadata": {
      "needs_background": "light"
     },
     "output_type": "display_data"
    }
   ],
   "source": [
    "%matplotlib inline\n",
    "matplotlib.rcParams['figure.figsize'] = [3,3]\n",
    "fig, ax = plt.subplots()\n",
    "ax.imshow(road_maps[idx], cmap ='binary');\n",
    "ax.plot(400, 400, 'x', color=\"red\")\n",
    "for bb in bbs[idx]:\n",
    "    draw_box(ax, bb, 'orange')"
   ]
  },
  {
   "cell_type": "code",
   "execution_count": 50,
   "metadata": {},
   "outputs": [
    {
     "name": "stdout",
     "output_type": "stream",
     "text": [
      "torch.Size([6400])\n"
     ]
    },
    {
     "data": {
      "text/plain": [
       "[<matplotlib.lines.Line2D at 0x2b4f5af89b70>]"
      ]
     },
     "execution_count": 50,
     "metadata": {},
     "output_type": "execute_result"
    },
    {
     "data": {
      "image/png": "[encoded data removed]",
      "text/plain": [
       "<matplotlib.figure.Figure at 0x2b4f5af66160>"
      ]
     },
     "metadata": {
      "needs_background": "light"
     },
     "output_type": "display_data"
    }
   ],
   "source": [
    "threshold = 0.5\n",
    "road_map = reconstruct_from_bins(bbox_bins[idx], threshold)\n",
    "fig, ax = plt.subplots()\n",
    "ax.imshow(road_map, cmap ='binary');\n",
    "ax.plot(400, 400, 'x', color=\"red\")"
   ]
  },
  {
   "cell_type": "markdown",
   "metadata": {},
   "source": [
    "### Model"
   ]
  },
  {
   "cell_type": "code",
   "execution_count": 6,
   "metadata": {},
   "outputs": [],
   "source": [
    "class SimpleModel(nn.Module):\n",
    "    def __init__(self):\n",
    "        super(SimpleModel, self).__init__()\n",
    "        \n",
    "        self.encoder = torchvision.models.resnet18()\n",
    "        self.encoder.fc = nn.Identity()\n",
    "        self.concat_dim = 100\n",
    "        self.dropout = nn.Dropout(p = 0.2)\n",
    "        self.bn = nn.BatchNorm1d(self.concat_dim)\n",
    "        \n",
    "        self.compress = nn.Sequential(OrderedDict([\n",
    "            ('linear0', nn.Linear(512, 100)),\n",
    "            ('relu', nn.ReLU()),\n",
    "        ]))\n",
    "        \n",
    "        self.vehicle_map = nn.Sequential(OrderedDict([\n",
    "            ('linear1_vehicle', nn.Linear(self.concat_dim, 6400)),\n",
    "        ]))\n",
    "        \n",
    "        self.counts = nn.Sequential(OrderedDict([\n",
    "            ('count1', nn.Linear(self.concat_dim, 28))\n",
    "        ]))\n",
    "        \n",
    "    def forward(self, x):\n",
    "        \n",
    "        batch_size = x.shape[0]\n",
    "        channels = x.shape[1]\n",
    "        height = x.shape[2]\n",
    "        width = x.shape[3]\n",
    "        # Reshape here\n",
    "        x = x.view(-1, channels, height, width)\n",
    "        x = self.encoder(x)\n",
    "        x = self.compress(x)\n",
    "        x = x.view(-1, self.concat_dim)\n",
    "        x = self.bn(x)\n",
    "        x = self.dropout(x)\n",
    "    \n",
    "        return self.vehicle_map(x), self.counts(x)"
   ]
  },
  {
   "cell_type": "code",
   "execution_count": 7,
   "metadata": {},
   "outputs": [],
   "source": [
    "device = torch.device(\"cuda\" if torch.cuda.is_available() else \"cpu\")\n",
    "model = SimpleModel()\n",
    "model.load_state_dict(torch.load('/scratch/vr1059/front_image_resnet18_val_new_gauss_1_top_135.pt'))\n",
    "model = model.to(device)\n",
    "map_criterion = nn.BCEWithLogitsLoss()\n",
    "count_criterion = nn.BCEWithLogitsLoss()\n",
    "optimizer = torch.optim.Adam(model.parameters(), lr=2e-4)\n",
    "best_val_loss = 100"
   ]
  },
  {
   "cell_type": "code",
   "execution_count": 8,
   "metadata": {},
   "outputs": [],
   "source": [
    "def train():\n",
    "    model.train()\n",
    "    labeled_trainset = LabeledDataset(image_folder=image_folder,\n",
    "                                  annotation_file=annotation_csv,\n",
    "                                  scene_index=train_labeled_scene_index,\n",
    "                                  transform=train_transform,\n",
    "                                  extra_info=True\n",
    "                                 )\n",
    "    train_loader = torch.utils.data.DataLoader(labeled_trainset, batch_size=15, num_workers=15, shuffle=True, collate_fn=collate_fn)\n",
    "    \n",
    "    train_losses = []\n",
    "    map_losses = []\n",
    "    count_losses = []\n",
    "    f = open(log_file_path, \"a+\")\n",
    "    for i, (sample, bbox_bins, road_maps, bbs, target_count, _) in enumerate(train_loader):\n",
    "        optimizer.zero_grad()\n",
    "\n",
    "        sample = sample.to(device)\n",
    "        bbox_bins = bbox_bins.to(device)\n",
    "        target_count = target_count.to(device)\n",
    "        \n",
    "        y_vehicle, y_count = model(sample)\n",
    "        \n",
    "        map_loss = map_criterion(y_vehicle, bbox_bins.float())\n",
    "        count_loss = count_criterion(y_count, target_count.float())\n",
    "        loss = 0.99 * map_loss + 0.01 * count_loss\n",
    "        \n",
    "        loss.backward()\n",
    "        optimizer.step()\n",
    "        \n",
    "        train_losses.append(loss.item())\n",
    "        map_losses.append(map_loss.item())\n",
    "        count_losses.append(count_loss.item())\n",
    "        if i % 50 == 0:\n",
    "            print('Train Epoch: {} [{}/{} ({:.0f}%)]\\tLoss: {:.6f}'.format(\n",
    "                epoch, i * len(sample), len(train_loader.dataset),\n",
    "                50. * i / len(train_loader), loss.item()))\n",
    "            \n",
    "    print(\"\\nAverage Train Epoch Loss: \", np.mean(train_losses))\n",
    "    print(\"Average Train Map Loss: \", np.mean(map_losses))\n",
    "    print(\"Average Train Count Epoch Loss: \", np.mean(count_losses))\n",
    "    \n",
    "    f.write(\"\\nAverage Train Epoch Loss: {}\".format(np.mean(train_losses)))\n",
    "    f.write(\"Average Train Map Loss: {}\".format(np.mean(map_losses)))\n",
    "    f.write(\"Average Train Count Epoch Loss: {}\".format(np.mean(count_losses)))\n",
    "    \n",
    "    f.close()\n",
    "    \n",
    "            \n",
    "def val():\n",
    "    \n",
    "    val_loader = torch.utils.data.DataLoader(labeled_valset, batch_size=15, num_workers=5, shuffle=True, collate_fn=collate_fn)\n",
    "    model.eval()\n",
    "    val_losses = []\n",
    "    map_losses = []\n",
    "    count_losses = []\n",
    "    \n",
    "    f = open(log_file_path, \"a+\")\n",
    "    \n",
    "    for i, (sample, bbox_bins, road_maps, bbs, target_count, _) in enumerate(val_loader):\n",
    "\n",
    "        model.eval()\n",
    "\n",
    "        sample = sample.to(device)\n",
    "        bbox_bins = bbox_bins.to(device)\n",
    "        target_count = target_count.to(device)\n",
    "\n",
    "        with torch.no_grad():\n",
    "            y_vehicle, y_count = model(sample)\n",
    "        \n",
    "            map_loss = map_criterion(y_vehicle, bbox_bins.float())\n",
    "            count_loss = count_criterion(y_count, target_count.float())\n",
    "            loss = 0.99 * map_loss + 0.01 * count_loss\n",
    "            \n",
    "            val_losses.append(loss.item())\n",
    "            map_losses.append(map_loss.item())\n",
    "            count_losses.append(count_loss.item())\n",
    "            \n",
    "    print(\"\\tAverage Validation Epoch Loss: \", np.mean(val_losses))\n",
    "    print(\"\\tAverage Validation Map Epoch Loss: \", np.mean(map_losses))\n",
    "    print(\"\\tAverage Validation Count Epoch Loss: \", np.mean(count_losses))\n",
    "    \n",
    "    f.write(\"\\nAverage Validation Epoch Loss: {}\".format(np.mean(val_losses)))\n",
    "    f.write(\"\\tAverage Validation Map Epoch Loss: {}\".format(np.mean(map_losses)))\n",
    "    f.write(\"\\tAverage Validation Count Epoch Loss: {}\".format(np.mean(count_losses)))\n",
    "\n",
    "    global best_val_loss\n",
    "    if np.mean(map_losses) < best_val_loss:\n",
    "        best_val_loss = np.mean(map_losses)\n",
    "        f.write(\"\\n best_val_loss so far: {}\".format(best_val_loss))\n",
    "        torch.save(model.state_dict(), '/scratch/vr1059/front_image_resnet18_val_new_gauss_1_top_135.pt')\n",
    "        \n",
    "    f.close()"
   ]
  },
  {
   "cell_type": "code",
   "execution_count": 9,
   "metadata": {},
   "outputs": [],
   "source": [
    "log_file_path = \"front_image_resnet_18_val_new_gauss_1_top_135.log\""
   ]
  },
  {
   "cell_type": "code",
   "execution_count": null,
   "metadata": {},
   "outputs": [
    {
     "name": "stdout",
     "output_type": "stream",
     "text": [
      "Train Epoch: 0 [0/3150 (0%)]\tLoss: 0.012103\n",
      "Train Epoch: 0 [750/3150 (12%)]\tLoss: 0.009704\n",
      "Train Epoch: 0 [1500/3150 (24%)]\tLoss: 0.012541\n",
      "Train Epoch: 0 [2250/3150 (36%)]\tLoss: 0.012973\n",
      "Train Epoch: 0 [3000/3150 (48%)]\tLoss: 0.010881\n",
      "\n",
      "Average Train Epoch Loss:  0.010374080691309202\n",
      "Average Train Map Loss:  0.009676470221685511\n",
      "Average Train Count Epoch Loss:  0.07943751238996075\n",
      "\tAverage Validation Epoch Loss:  0.011774897754478913\n",
      "\tAverage Validation Map Epoch Loss:  0.010902532000237932\n",
      "\tAverage Validation Count Epoch Loss:  0.09813910608108227\n",
      "Train Epoch: 1 [0/3150 (0%)]\tLoss: 0.010383\n",
      "Train Epoch: 1 [750/3150 (12%)]\tLoss: 0.014109\n",
      "Train Epoch: 1 [1500/3150 (24%)]\tLoss: 0.012889\n",
      "Train Epoch: 1 [3000/3150 (48%)]\tLoss: 0.012438\n",
      "\n",
      "Average Train Epoch Loss:  0.010179984150454402\n",
      "Average Train Map Loss:  0.009491550753868762\n",
      "Average Train Count Epoch Loss:  0.07833488152495452\n",
      "\tAverage Validation Epoch Loss:  0.011969669435459834\n",
      "\tAverage Validation Map Epoch Loss:  0.01109952425870758\n",
      "\tAverage Validation Count Epoch Loss:  0.09811403802954234\n",
      "Train Epoch: 2 [0/3150 (0%)]\tLoss: 0.010928\n",
      "Train Epoch: 2 [750/3150 (12%)]\tLoss: 0.009011\n",
      "Train Epoch: 2 [1500/3150 (24%)]\tLoss: 0.009972\n",
      "Train Epoch: 2 [2250/3150 (36%)]\tLoss: 0.013685\n",
      "Train Epoch: 2 [3000/3150 (48%)]\tLoss: 0.010152\n",
      "\n",
      "Average Train Epoch Loss:  0.00992976494931749\n",
      "Average Train Map Loss:  0.009252580421577608\n",
      "Average Train Count Epoch Loss:  0.0769710213832912\n",
      "\tAverage Validation Epoch Loss:  0.012493718594599228\n",
      "\tAverage Validation Map Epoch Loss:  0.011457292148127006\n",
      "\tAverage Validation Count Epoch Loss:  0.11509993901619545\n",
      "Train Epoch: 3 [0/3150 (0%)]\tLoss: 0.012517\n",
      "Train Epoch: 3 [750/3150 (12%)]\tLoss: 0.008022\n",
      "Train Epoch: 3 [1500/3150 (24%)]\tLoss: 0.008851\n",
      "Train Epoch: 3 [2250/3150 (36%)]\tLoss: 0.013622\n",
      "Train Epoch: 3 [3000/3150 (48%)]\tLoss: 0.011513\n",
      "\n",
      "Average Train Epoch Loss:  0.009766493400647527\n",
      "Average Train Map Loss:  0.009093159202131487\n",
      "Average Train Count Epoch Loss:  0.07642657150115285\n",
      "\tAverage Validation Epoch Loss:  0.01213601091876626\n",
      "\tAverage Validation Map Epoch Loss:  0.011236805056866545\n",
      "\tAverage Validation Count Epoch Loss:  0.10115738470966999\n",
      "Train Epoch: 4 [0/3150 (0%)]\tLoss: 0.008028\n",
      "Train Epoch: 4 [750/3150 (12%)]\tLoss: 0.009589\n",
      "Train Epoch: 4 [1500/3150 (24%)]\tLoss: 0.009799\n",
      "Train Epoch: 4 [2250/3150 (36%)]\tLoss: 0.007858\n",
      "Train Epoch: 4 [3000/3150 (48%)]\tLoss: 0.010046\n",
      "\n",
      "Average Train Epoch Loss:  0.00945948532649449\n",
      "Average Train Map Loss:  0.008800043351948261\n",
      "Average Train Count Epoch Loss:  0.07474423160865193\n",
      "\tAverage Validation Epoch Loss:  0.011842300148250965\n",
      "\tAverage Validation Map Epoch Loss:  0.01093071847795867\n",
      "\tAverage Validation Count Epoch Loss:  0.10208889154287484\n",
      "Train Epoch: 5 [0/3150 (0%)]\tLoss: 0.007617\n",
      "Train Epoch: 5 [750/3150 (12%)]\tLoss: 0.009003\n",
      "Train Epoch: 5 [1500/3150 (24%)]\tLoss: 0.008816\n",
      "Train Epoch: 5 [2250/3150 (36%)]\tLoss: 0.009857\n",
      "Train Epoch: 5 [3000/3150 (48%)]\tLoss: 0.008908\n",
      "\n",
      "Average Train Epoch Loss:  0.009281699964776634\n",
      "Average Train Map Loss:  0.008627973995836717\n",
      "Average Train Count Epoch Loss:  0.0740005676590261\n",
      "\tAverage Validation Epoch Loss:  0.01189153021774613\n",
      "\tAverage Validation Map Epoch Loss:  0.011017052564196862\n",
      "\tAverage Validation Count Epoch Loss:  0.09846481652213977\n",
      "Train Epoch: 6 [0/3150 (0%)]\tLoss: 0.008481\n",
      "Train Epoch: 6 [750/3150 (12%)]\tLoss: 0.008752\n",
      "Train Epoch: 6 [1500/3150 (24%)]\tLoss: 0.006881\n",
      "Train Epoch: 6 [2250/3150 (36%)]\tLoss: 0.009159\n",
      "Train Epoch: 6 [3000/3150 (48%)]\tLoss: 0.008494\n",
      "\n",
      "Average Train Epoch Loss:  0.009085647347161458\n",
      "Average Train Map Loss:  0.008448717215408881\n",
      "Average Train Count Epoch Loss:  0.07214172512647651\n",
      "\tAverage Validation Epoch Loss:  0.012102811131626368\n",
      "\tAverage Validation Map Epoch Loss:  0.011175773966197785\n",
      "\tAverage Validation Count Epoch Loss:  0.10387948155403137\n",
      "Train Epoch: 7 [0/3150 (0%)]\tLoss: 0.008101\n",
      "Train Epoch: 7 [750/3150 (12%)]\tLoss: 0.006389\n",
      "Train Epoch: 7 [1500/3150 (24%)]\tLoss: 0.008658\n"
     ]
    }
   ],
   "source": [
    "epochs = 8\n",
    "for epoch in range(epochs):\n",
    "    train()\n",
    "    val()"
   ]
  },
  {
   "cell_type": "code",
   "execution_count": 60,
   "metadata": {},
   "outputs": [],
   "source": [
    "# 0.01164 so far. \n",
    "\n",
    "# 0.01038"
   ]
  },
  {
   "cell_type": "code",
   "execution_count": null,
   "metadata": {},
   "outputs": [],
   "source": []
  },
  {
   "cell_type": "code",
   "execution_count": null,
   "metadata": {},
   "outputs": [],
   "source": []
  }
 ],
 "metadata": {
  "kernelspec": {
   "display_name": "Python 3",
   "language": "python",
   "name": "python3"
  },
  "language_info": {
   "codemirror_mode": {
    "name": "ipython",
    "version": 3
   },
   "file_extension": ".py",
   "mimetype": "text/x-python",
   "name": "python",
   "nbconvert_exporter": "python",
   "pygments_lexer": "ipython3",
   "version": "3.6.3"
  }
 },
 "nbformat": 4,
 "nbformat_minor": 2
}
