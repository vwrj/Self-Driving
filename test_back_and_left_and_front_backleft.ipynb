{
 "cells": [
  {
   "cell_type": "code",
   "execution_count": 1,
   "metadata": {},
   "outputs": [],
   "source": [
    "import os\n",
    "import random\n",
    "import math\n",
    "import numpy as np\n",
    "from shapely.geometry import Polygon\n",
    "import pandas as pd\n",
    "import pdb\n",
    "from collections import OrderedDict\n",
    "import matplotlib\n",
    "import matplotlib.pyplot as plt\n",
    "from matplotlib import collections  as mc\n",
    "matplotlib.rcParams['figure.figsize'] = [6, 6]\n",
    "matplotlib.rcParams['figure.dpi'] = 200\n",
    "\n",
    "import torch\n",
    "import torch.nn as nn\n",
    "import torch.nn.functional as F\n",
    "import torchvision\n",
    "from torchvision import transforms\n",
    "\n",
    "from data_helper import UnlabeledDataset, LabeledDataset\n",
    "from helper import draw_box\n",
    "\n",
    "# All the images are saved in image_folder\n",
    "# All the labels are saved in the annotation_csv file\n",
    "image_folder = '/scratch/brs426/data'\n",
    "annotation_csv = '/scratch/brs426/data/annotation.csv'\n",
    "\n",
    "# You shouldn't change the unlabeled_scene_index\n",
    "# The first 106 scenes are unlabeled\n",
    "unlabeled_scene_index = np.arange(106)\n",
    "# The scenes from 106 - 133 are labeled\n",
    "# You should devide the labeled_scene_index into two subsets (training and validation)\n",
    "train_labeled_scene_index = np.arange(106, 132)\n",
    "val_labeled_scene_index = np.arange(132, 134)\n",
    "test_labeled_scene_index = np.arange(132, 134)\n",
    "\n",
    "from utils.angles import within_angles"
   ]
  },
  {
   "cell_type": "code",
   "execution_count": 2,
   "metadata": {},
   "outputs": [],
   "source": [
    "VERT_BLOCK_SIZE = 10\n",
    "HORIZ_BLOCK_SIZE = 10\n",
    "BLOCK_AREA = VERT_BLOCK_SIZE * HORIZ_BLOCK_SIZE"
   ]
  },
  {
   "cell_type": "code",
   "execution_count": 3,
   "metadata": {},
   "outputs": [],
   "source": [
    "def collate_fn(batch):\n",
    "    sample_images = []\n",
    "    target = []\n",
    "    road_maps = []\n",
    "    bbox_maps = []\n",
    "    bbox_bins = []\n",
    "    bbs = []\n",
    "    target_counts = []\n",
    "    for x in batch:\n",
    "        \n",
    "        # Get road_image and cast it to float\n",
    "        road_image = torch.as_tensor(x[2]).float()\n",
    "        road_maps.append(road_image)\n",
    "        \n",
    "        # Collect back, front-left, front images, and back-left respectively. \n",
    "        # TODO: Try cutting off the top 100 pixels (that can lead to overfitting)\n",
    "        images = []\n",
    "        image = torch.Tensor(x[0][4])\n",
    "        images.append(image)\n",
    "        image = torch.Tensor(x[0][0])\n",
    "        images.append(image)\n",
    "        image = torch.Tensor(x[0][1])\n",
    "        images.append(image)\n",
    "        image = torch.Tensor(x[0][3])\n",
    "        images.append(image)\n",
    "        \n",
    "        # target\n",
    "        bb_tens = x[1]['bounding_box']\n",
    "        current_bbs = []\n",
    "        bbox_map = torch.zeros((800, 800))\n",
    "        counts = np.zeros(28)\n",
    "        count = 0\n",
    "        \n",
    "        # Create the bounding box map. \n",
    "        for i, corners in enumerate(bb_tens):\n",
    "            \n",
    "            # Grab the current bounding box. \n",
    "            current_bbs.append(corners)\n",
    "            \n",
    "            # Get its four bird's-eye view coordinates. \n",
    "            point_squence = torch.stack([corners[:, 0], corners[:, 1], corners[:, 3], corners[:, 2]])\n",
    "            xs = point_squence.T[0] * 10 + 400\n",
    "            ys = -point_squence.T[1] * 10 + 400\n",
    "            \n",
    "            # xs is horizontal, ys is vertical through. \n",
    "            # But we're doing things row, column way. \n",
    "            \n",
    "            # Only get the bounding boxes that are close-by. On the same road. \n",
    "            # We want to see if the model can fucking predict cars that are close by. \n",
    "            \n",
    "            center_x, center_y = torch.mean(xs).item(), torch.mean(ys).item()\n",
    "            if (within_angles(xs, ys, angle1=215, angle2=274) or \\\n",
    "                within_angles(xs, ys, angle1 = 148, angle2 = 215) or \\\n",
    "                within_angles(xs, ys, angle1 = 274, angle2 = 330) or \\\n",
    "                within_angles(xs, ys, angle1=0, angle2=32) or \\\n",
    "                within_angles(xs, ys, angle1=330, angle2=360)) and \\\n",
    "                center_y > 255 and center_y < 500:\n",
    "            \n",
    "                # Grab the top-left coordinates. \n",
    "                r, c = int(torch.min(ys).item()), int(torch.min(xs).item())\n",
    "                r_len, c_len = int(torch.max(ys).item()) - r, int(torch.max(xs).item()) - c\n",
    "\n",
    "                # Fill in the bbox. \n",
    "                bbox_map[r:r+r_len, c:c+c_len] = 1.0\n",
    "\n",
    "                count += 1\n",
    "            \n",
    "        # Convert the bounding box map into classes (5px by 5px bins)\n",
    "        bbox_grid = []\n",
    "        for x_ in range(0, 800, VERT_BLOCK_SIZE):\n",
    "            for y in range(0, 800, HORIZ_BLOCK_SIZE):\n",
    "                block = bbox_map[x_:x_+VERT_BLOCK_SIZE, y:y+HORIZ_BLOCK_SIZE]\n",
    "                score = torch.sum(block).item()\n",
    "                # If more than have the pixels are 1, classify as bbox car\n",
    "                if score > 0.5 * (BLOCK_AREA):\n",
    "                    bbox_grid.append(1.0)\n",
    "                else:\n",
    "                    bbox_grid.append(0.0)\n",
    "                    \n",
    "        bbox_bins.append(torch.Tensor(bbox_grid))\n",
    "              \n",
    "        counts[count] = 1\n",
    "\n",
    "        # Label Smoothing #\n",
    "#         if count > 15 and count < 88:\n",
    "#             counts[count+1] = 0.2\n",
    "#             counts[count-1] = 0.2\n",
    "            \n",
    "        target_counts.append(torch.Tensor(counts))\n",
    "        \n",
    "        bbox_maps.append(bbox_map)\n",
    "\n",
    "        bbs.append(current_bbs)\n",
    "        \n",
    "        sample_images.append(torch.stack(images))\n",
    "                \n",
    "    boom = torch.stack(sample_images), torch.stack(bbox_bins), torch.stack(road_maps), bbs, torch.stack(target_counts), torch.stack(bbox_maps) \n",
    "    return boom"
   ]
  },
  {
   "cell_type": "code",
   "execution_count": 4,
   "metadata": {},
   "outputs": [],
   "source": [
    "val_transform = transforms.ToTensor()\n",
    "\n",
    "labeled_valset = LabeledDataset(image_folder=image_folder,\n",
    "                                  annotation_file=annotation_csv,\n",
    "                                  scene_index=val_labeled_scene_index,\n",
    "                                  transform=val_transform,\n",
    "                                  extra_info=True\n",
    "                                 )"
   ]
  },
  {
   "cell_type": "code",
   "execution_count": 5,
   "metadata": {},
   "outputs": [],
   "source": [
    "# Compute threat scores\n",
    "def reconstruct_from_bins(bins, threshold):\n",
    "    road_map = torch.zeros((800, 800))\n",
    "    idx = 0\n",
    "    for x in range(0, 800, VERT_BLOCK_SIZE):\n",
    "        for y in range(0, 800, HORIZ_BLOCK_SIZE):\n",
    "            road_map[x:x+VERT_BLOCK_SIZE, y:y+HORIZ_BLOCK_SIZE] = bins[idx]\n",
    "            idx += 1\n",
    "    return road_map > threshold"
   ]
  },
  {
   "cell_type": "code",
   "execution_count": 6,
   "metadata": {},
   "outputs": [],
   "source": [
    "def draw_vish_box(ax, class_box, width, height, color):\n",
    "    box_xs = [class_box[1], class_box[1], class_box[1]+width, class_box[1]+width, class_box[1]]\n",
    "    box_ys = [class_box[0], class_box[0]+height, class_box[0]+height, class_box[0], class_box[0]]\n",
    "    ax.plot(box_xs, box_ys, color=color)"
   ]
  },
  {
   "cell_type": "code",
   "execution_count": 7,
   "metadata": {},
   "outputs": [],
   "source": [
    "class SimpleModel(nn.Module):\n",
    "    def __init__(self, count_dim=28):\n",
    "        super(SimpleModel, self).__init__()\n",
    "        \n",
    "        self.encoder = torchvision.models.resnet34()\n",
    "        self.encoder.fc = nn.Identity()\n",
    "        self.concat_dim = 100\n",
    "        self.dropout = nn.Dropout(p = 0.2)\n",
    "        self.bn = nn.BatchNorm1d(self.concat_dim)\n",
    "        \n",
    "        self.compress = nn.Sequential(OrderedDict([\n",
    "            ('linear0', nn.Linear(512, 100)),\n",
    "            ('relu', nn.ReLU()),\n",
    "        ]))\n",
    "        \n",
    "        self.vehicle_map = nn.Sequential(OrderedDict([\n",
    "            ('linear1_vehicle', nn.Linear(self.concat_dim, 6400)),\n",
    "        ]))\n",
    "        \n",
    "        self.counts = nn.Sequential(OrderedDict([\n",
    "            ('count1', nn.Linear(self.concat_dim, count_dim))\n",
    "        ]))\n",
    "        \n",
    "    def forward(self, x):\n",
    "        \n",
    "        batch_size = x.shape[0]\n",
    "        channels = x.shape[1]\n",
    "        height = x.shape[2]\n",
    "        width = x.shape[3]\n",
    "        # Reshape here\n",
    "        x = x.view(-1, channels, height, width)\n",
    "        x = self.encoder(x)\n",
    "        x = self.compress(x)\n",
    "        x = x.view(-1, self.concat_dim)\n",
    "        x = self.bn(x)\n",
    "        x = self.dropout(x)\n",
    "    \n",
    "        return self.vehicle_map(x), self.counts(x)"
   ]
  },
  {
   "cell_type": "code",
   "execution_count": 8,
   "metadata": {},
   "outputs": [
    {
     "data": {
      "text/plain": [
       "<All keys matched successfully>"
      ]
     },
     "execution_count": 8,
     "metadata": {},
     "output_type": "execute_result"
    }
   ],
   "source": [
    "device = torch.device(\"cpu\")\n",
    "back_model = SimpleModel(count_dim=28).to(device)\n",
    "back_model.load_state_dict(torch.load('/scratch/vr1059/back_image_resnet34_10_by_10.pt', map_location=device))"
   ]
  },
  {
   "cell_type": "code",
   "execution_count": 10,
   "metadata": {},
   "outputs": [
    {
     "data": {
      "text/plain": [
       "<All keys matched successfully>"
      ]
     },
     "execution_count": 10,
     "metadata": {},
     "output_type": "execute_result"
    }
   ],
   "source": [
    "left_model = SimpleModel(count_dim=8).to(device)\n",
    "left_model.load_state_dict(torch.load('/scratch/vr1059/left_image_resnet34_10_by_10.pt', map_location=device))"
   ]
  },
  {
   "cell_type": "code",
   "execution_count": 11,
   "metadata": {},
   "outputs": [
    {
     "data": {
      "text/plain": [
       "<All keys matched successfully>"
      ]
     },
     "execution_count": 11,
     "metadata": {},
     "output_type": "execute_result"
    }
   ],
   "source": [
    "front_model = SimpleModel(count_dim=28).to(device)\n",
    "front_model.load_state_dict(torch.load('/scratch/vr1059/front_image_resnet34_10_by_10.pt', map_location=device))"
   ]
  },
  {
   "cell_type": "code",
   "execution_count": null,
   "metadata": {},
   "outputs": [],
   "source": [
    "back_left_model = SimpleModel(count_dim=8).to(device)\n",
    "back_left_model.load_state_dict(torch.load('/scratch/vr1059/back_left_image_resnet34_10_by_10.pt', map_location=device))"
   ]
  },
  {
   "cell_type": "code",
   "execution_count": 11,
   "metadata": {},
   "outputs": [
    {
     "name": "stdout",
     "output_type": "stream",
     "text": [
      "done.\n"
     ]
    }
   ],
   "source": [
    "left_model.eval()\n",
    "back_model.eval()\n",
    "front_model.eval()\n",
    "back_left_model.eval()\n",
    "print('done.')"
   ]
  },
  {
   "cell_type": "code",
   "execution_count": 15,
   "metadata": {},
   "outputs": [],
   "source": [
    "val_loader = torch.utils.data.DataLoader(labeled_valset, batch_size=15, shuffle=True, collate_fn=collate_fn)"
   ]
  },
  {
   "cell_type": "code",
   "execution_count": 16,
   "metadata": {},
   "outputs": [],
   "source": [
    "sample, bbox_bins, road_maps, bbs, counts, bbox_maps = iter(val_loader).next()"
   ]
  },
  {
   "cell_type": "code",
   "execution_count": 17,
   "metadata": {},
   "outputs": [],
   "source": [
    "back_vehicle, _ = back_model(sample[:, 0, :, 125:, :])\n",
    "left_vehicle, _ = left_model(sample[:, 1, :, 130:, :])\n",
    "front_vehicle, _ =front_model(sample[:, 2, :, 130:, :])"
   ]
  },
  {
   "cell_type": "code",
   "execution_count": null,
   "metadata": {},
   "outputs": [],
   "source": []
  },
  {
   "cell_type": "code",
   "execution_count": null,
   "metadata": {},
   "outputs": [],
   "source": []
  },
  {
   "cell_type": "code",
   "execution_count": 18,
   "metadata": {},
   "outputs": [],
   "source": [
    "idx = -1"
   ]
  },
  {
   "cell_type": "code",
   "execution_count": 315,
   "metadata": {},
   "outputs": [],
   "source": [
    "idx += 1"
   ]
  },
  {
   "cell_type": "code",
   "execution_count": 316,
   "metadata": {},
   "outputs": [
    {
     "data": {
      "image/png": "[encoded data removed]",
      "text/plain": [
       "<matplotlib.figure.Figure at 0x2b81b71f16d8>"
      ]
     },
     "metadata": {
      "needs_background": "light"
     },
     "output_type": "display_data"
    }
   ],
   "source": [
    "%matplotlib inline\n",
    "matplotlib.rcParams['figure.figsize'] = [7,7]\n",
    "plt.imshow(torchvision.utils.make_grid(sample[idx], nrow=3).numpy().transpose(1, 2, 0))\n",
    "plt.axis('off');"
   ]
  },
  {
   "cell_type": "code",
   "execution_count": 317,
   "metadata": {},
   "outputs": [
    {
     "data": {
      "image/png": "[encoded data removed]",
      "text/plain": [
       "<matplotlib.figure.Figure at 0x2b81b74deb00>"
      ]
     },
     "metadata": {
      "needs_background": "light"
     },
     "output_type": "display_data"
    }
   ],
   "source": [
    "%matplotlib inline\n",
    "matplotlib.rcParams['figure.figsize'] = [3,3]\n",
    "\n",
    "fig, ax = plt.subplots()\n",
    "ax.imshow(road_maps[idx], cmap ='binary');\n",
    "ax.plot(400, 400, 'x', color=\"red\")\n",
    "for bb in bbs[idx]:\n",
    "    draw_box(ax, bb, 'orange')"
   ]
  },
  {
   "cell_type": "code",
   "execution_count": 318,
   "metadata": {},
   "outputs": [
    {
     "data": {
      "text/plain": [
       "[<matplotlib.lines.Line2D at 0x2b81bef03ef0>]"
      ]
     },
     "execution_count": 318,
     "metadata": {},
     "output_type": "execute_result"
    },
    {
     "data": {
      "image/png": "[encoded data removed]",
      "text/plain": [
       "<matplotlib.figure.Figure at 0x2b81b75d5860>"
      ]
     },
     "metadata": {
      "needs_background": "light"
     },
     "output_type": "display_data"
    }
   ],
   "source": [
    "matplotlib.rcParams['figure.figsize'] = [3,3]\n",
    "fig, ax = plt.subplots()\n",
    "ax.imshow(bbox_maps[idx], cmap ='binary');\n",
    "ax.plot(400, 400, 'x', color=\"red\")"
   ]
  },
  {
   "cell_type": "code",
   "execution_count": 319,
   "metadata": {},
   "outputs": [
    {
     "data": {
      "text/plain": [
       "torch.Size([3, 256, 306])"
      ]
     },
     "execution_count": 319,
     "metadata": {},
     "output_type": "execute_result"
    }
   ],
   "source": [
    "sample[idx][0].shape"
   ]
  },
  {
   "cell_type": "code",
   "execution_count": 320,
   "metadata": {},
   "outputs": [
    {
     "name": "stdout",
     "output_type": "stream",
     "text": [
      "0.8685490489006042\n",
      "0.9228717684745789\n",
      "0.9777387976646423\n"
     ]
    },
    {
     "data": {
      "text/plain": [
       "[None, None, None]"
      ]
     },
     "execution_count": 320,
     "metadata": {},
     "output_type": "execute_result"
    }
   ],
   "source": [
    "back_pred_map = torch.sigmoid(back_vehicle[idx])\n",
    "left_pred_map = torch.sigmoid(left_vehicle[idx])\n",
    "front_pred_map = torch.sigmoid(front_vehicle[idx])\n",
    "[print(torch.max(x).item()) for x in [back_pred_map, left_pred_map, front_pred_map]]\n",
    "# print(torch.max(back_pred_map), torch.max(left_pred_map), torch.max(front_pred_map))"
   ]
  },
  {
   "cell_type": "code",
   "execution_count": null,
   "metadata": {},
   "outputs": [],
   "source": []
  },
  {
   "cell_type": "code",
   "execution_count": 335,
   "metadata": {},
   "outputs": [
    {
     "data": {
      "text/plain": [
       "[<matplotlib.lines.Line2D at 0x2b81bf071748>]"
      ]
     },
     "execution_count": 335,
     "metadata": {},
     "output_type": "execute_result"
    },
    {
     "data": {
      "image/png": "[encoded data removed]",
      "text/plain": [
       "<matplotlib.figure.Figure at 0x2b81bf17f7f0>"
      ]
     },
     "metadata": {
      "needs_background": "light"
     },
     "output_type": "display_data"
    }
   ],
   "source": [
    "%matplotlib inline\n",
    "matplotlib.rcParams['figure.figsize'] = [3,3]\n",
    "threshold = 0.3\n",
    "reconstruct_back_map = reconstruct_from_bins(back_pred_map, threshold).cpu()\n",
    "reconstruct_left_map = reconstruct_from_bins(left_pred_map, threshold).cpu()\n",
    "reconstruct_front_map = reconstruct_from_bins(front_pred_map, 0.4).cpu()\n",
    "\n",
    "reconstruct_map = reconstruct_back_map + reconstruct_left_map + reconstruct_front_map\n",
    "\n",
    "fig, ax = plt.subplots()\n",
    "ax.imshow(reconstruct_map, cmap ='binary');\n",
    "ax.plot(400, 400, 'x', color=\"red\")"
   ]
  },
  {
   "cell_type": "code",
   "execution_count": 336,
   "metadata": {},
   "outputs": [],
   "source": [
    "# TODO: Change this to not transpose in the collate_fn and stuff. With the newest model. \n",
    "bb_map = reconstruct_map.clone()\n",
    "\n",
    "def go(direction, top_left, width, height):\n",
    "    threshold = 0.0\n",
    "    r, c = top_left\n",
    "    delta = 5\n",
    "    if direction == 'right':\n",
    "        c = c + width \n",
    "        # now we're at the top-right coordinate. \n",
    "        while c + delta < 800:\n",
    "            block = bb_map[r:r+height, c:c+delta]\n",
    "            score = torch.sum(block).item()\n",
    "            if score > threshold * height * delta:\n",
    "                c = c + delta\n",
    "                width = width + delta\n",
    "            else:\n",
    "                break\n",
    "                \n",
    "        return top_left, width, height\n",
    "                \n",
    "    elif direction == 'left':\n",
    "        # At top-left coordinate. \n",
    "        while c - delta > 0:\n",
    "            block = bb_map[r:r+height, c-delta:c]\n",
    "            score = torch.sum(block).item()\n",
    "            if score > threshold * height * delta:\n",
    "                c = c - delta\n",
    "                width = width + delta\n",
    "            else:\n",
    "                break\n",
    "        \n",
    "        return (r, c), width, height\n",
    "    \n",
    "    elif direction == 'up':\n",
    "        # At top_left coordinate. \n",
    "        while r - delta > 0:\n",
    "            block = bb_map[r-delta:r, c:c+width]\n",
    "            score = torch.sum(block).item()\n",
    "            if score > threshold * width * delta:\n",
    "                r = r - delta\n",
    "                height = height + delta\n",
    "            else:\n",
    "                break\n",
    "        \n",
    "        return (r, c), width, height\n",
    "    \n",
    "    elif direction == 'down':\n",
    "        r = r + delta\n",
    "        # At bottom_left coordinate. \n",
    "        while r + delta < 800:\n",
    "            block = bb_map[r:r+delta, c:c+width]\n",
    "            score = torch.sum(block).item()\n",
    "            if score > threshold * width * delta:\n",
    "                r = r + delta\n",
    "                height = height + delta\n",
    "            else:\n",
    "                break\n",
    "        \n",
    "        return top_left, width, height\n",
    "        \n",
    "\n",
    "score_threshold = 0\n",
    "bboxes = []\n",
    "for r in range(0, 800, 10):\n",
    "    for c in range(0, 800, 10):\n",
    "        \n",
    "        top_left = (r, c)\n",
    "        width = HORIZ_BLOCK_SIZE\n",
    "        height = VERT_BLOCK_SIZE\n",
    "        \n",
    "        block = bb_map[r:r+VERT_BLOCK_SIZE, c:c+HORIZ_BLOCK_SIZE]\n",
    "        score = torch.sum(block).item()\n",
    "        # If more than have the pixels are 1, classify as bbox car\n",
    "        if score > (BLOCK_AREA) * score_threshold:\n",
    "            top_left, width, height = go('right', top_left, width, height)\n",
    "            top_left, width, height = go('left', top_left, width, height)\n",
    "            top_left, width, height = go('up', top_left, width, height)\n",
    "            top_left, width, height = go('down', top_left, width, height)\n",
    "            top_left, width, height = go('right', top_left, width, height)\n",
    "            \n",
    "            bboxes.append((top_left, width, height))\n",
    "            bb_map[top_left[0]:top_left[0] + height, top_left[1]:top_left[1] + width] = 0     "
   ]
  },
  {
   "cell_type": "code",
   "execution_count": 337,
   "metadata": {},
   "outputs": [
    {
     "name": "stdout",
     "output_type": "stream",
     "text": [
      "5\n",
      "4\n"
     ]
    }
   ],
   "source": [
    "print(len(bboxes))\n",
    "new_bboxes = []\n",
    "for x in bboxes:\n",
    "    _, width, height = x\n",
    "    if width * height > 300:\n",
    "        new_bboxes.append(x)\n",
    "        \n",
    "bboxes = new_bboxes\n",
    "print(len(bboxes))"
   ]
  },
  {
   "cell_type": "code",
   "execution_count": 338,
   "metadata": {},
   "outputs": [
    {
     "data": {
      "image/png": "[encoded data removed]",
      "text/plain": [
       "<matplotlib.figure.Figure at 0x2b81beff13c8>"
      ]
     },
     "metadata": {
      "needs_background": "light"
     },
     "output_type": "display_data"
    }
   ],
   "source": [
    "matplotlib.rcParams['figure.figsize'] = [3,3]\n",
    "threshold = 0.3\n",
    "\n",
    "fig, ax = plt.subplots()\n",
    "ax.imshow(reconstruct_map, cmap ='binary');\n",
    "ax.plot(400, 400, 'x', color=\"red\")\n",
    "for bb in bboxes:\n",
    "    draw_vish_box(ax, bb[0], bb[1], bb[2], 'orange')"
   ]
  },
  {
   "cell_type": "code",
   "execution_count": 339,
   "metadata": {},
   "outputs": [
    {
     "data": {
      "image/png": "[encoded data removed]",
      "text/plain": [
       "<matplotlib.figure.Figure at 0x2b81bef7ff98>"
      ]
     },
     "metadata": {
      "needs_background": "light"
     },
     "output_type": "display_data"
    }
   ],
   "source": [
    "matplotlib.rcParams['figure.figsize'] = [7,7]\n",
    "fig, ax = plt.subplots()\n",
    "ax.imshow(bbox_maps[idx], cmap ='binary');\n",
    "ax.plot(400, 400, 'x', color=\"red\")\n",
    "for bb in bboxes:\n",
    "    draw_vish_box(ax, bb[0], bb[1], bb[2], 'orange')"
   ]
  },
  {
   "cell_type": "code",
   "execution_count": 340,
   "metadata": {},
   "outputs": [
    {
     "name": "stdout",
     "output_type": "stream",
     "text": [
      "tensor(0.6061)\n"
     ]
    },
    {
     "data": {
      "text/plain": [
       "tensor(0.1097)"
      ]
     },
     "execution_count": 340,
     "metadata": {},
     "output_type": "execute_result"
    }
   ],
   "source": [
    "compute_bbox_score(bboxes, bbs, idx, log=True)"
   ]
  },
  {
   "cell_type": "code",
   "execution_count": null,
   "metadata": {},
   "outputs": [],
   "source": []
  },
  {
   "cell_type": "code",
   "execution_count": null,
   "metadata": {},
   "outputs": [],
   "source": []
  },
  {
   "cell_type": "code",
   "execution_count": null,
   "metadata": {},
   "outputs": [],
   "source": []
  },
  {
   "cell_type": "code",
   "execution_count": 9,
   "metadata": {},
   "outputs": [],
   "source": [
    "def go(direction, top_left, width, height):\n",
    "    threshold = 0.0\n",
    "    r, c = top_left\n",
    "    delta = 10\n",
    "    if direction == 'right':\n",
    "        c = c + width \n",
    "        # now we're at the top-right coordinate. \n",
    "        while c + delta < 800:\n",
    "            block = bb_map[r:r+height, c:c+delta]\n",
    "            score = torch.sum(block).item()\n",
    "            if score > threshold * height * delta:\n",
    "                c = c + delta\n",
    "                width = width + delta\n",
    "            else:\n",
    "                break\n",
    "                \n",
    "        return top_left, width, height\n",
    "                \n",
    "    elif direction == 'left':\n",
    "        # At top-left coordinate. \n",
    "        while c - delta > 0:\n",
    "            block = bb_map[r:r+height, c-delta:c]\n",
    "            score = torch.sum(block).item()\n",
    "            if score > threshold * height * delta:\n",
    "                c = c - delta\n",
    "                width = width + delta\n",
    "            else:\n",
    "                break\n",
    "        \n",
    "        return (r, c), width, height\n",
    "    \n",
    "    elif direction == 'up':\n",
    "        # At top_left coordinate. \n",
    "        while r - delta > 0:\n",
    "            block = bb_map[r-delta:r, c:c+width]\n",
    "            score = torch.sum(block).item()\n",
    "            if score > threshold * width * delta:\n",
    "                r = r - delta\n",
    "                height = height + delta\n",
    "            else:\n",
    "                break\n",
    "        \n",
    "        return (r, c), width, height\n",
    "    \n",
    "    elif direction == 'down':\n",
    "        r = r + delta\n",
    "        # At bottom_left coordinate. \n",
    "        while r + delta < 800:\n",
    "            block = bb_map[r:r+delta, c:c+width]\n",
    "            score = torch.sum(block).item()\n",
    "            if score > threshold * width * delta:\n",
    "                r = r + delta\n",
    "                height = height + delta\n",
    "            else:\n",
    "                break\n",
    "        \n",
    "        return top_left, width, height"
   ]
  },
  {
   "cell_type": "code",
   "execution_count": 10,
   "metadata": {},
   "outputs": [],
   "source": [
    "def compute_ats_bounding_boxes(boxes1, boxes2, log=False):\n",
    "    num_boxes1 = boxes1.size(0)\n",
    "    num_boxes2 = boxes2.size(0)\n",
    "\n",
    "    boxes1_max_x = boxes1[:, 0].max(dim=1)[0]\n",
    "    boxes1_min_x = boxes1[:, 0].min(dim=1)[0]\n",
    "    boxes1_max_y = boxes1[:, 1].max(dim=1)[0]\n",
    "    boxes1_min_y = boxes1[:, 1].min(dim=1)[0]\n",
    "\n",
    "    boxes2_max_x = boxes2[:, 0].max(dim=1)[0]\n",
    "    boxes2_min_x = boxes2[:, 0].min(dim=1)[0]\n",
    "    boxes2_max_y = boxes2[:, 1].max(dim=1)[0]\n",
    "    boxes2_min_y = boxes2[:, 1].min(dim=1)[0]\n",
    "\n",
    "    condition1_matrix = (boxes1_max_x.unsqueeze(1) > boxes2_min_x.unsqueeze(0))\n",
    "    condition2_matrix = (boxes1_min_x.unsqueeze(1) < boxes2_max_x.unsqueeze(0))\n",
    "    condition3_matrix = (boxes1_max_y.unsqueeze(1) > boxes2_min_y.unsqueeze(0))\n",
    "    condition4_matrix = (boxes1_min_y.unsqueeze(1) < boxes2_max_y.unsqueeze(0))\n",
    "    condition_matrix = condition1_matrix * condition2_matrix * condition3_matrix * condition4_matrix\n",
    "\n",
    "    iou_matrix = torch.zeros(num_boxes1, num_boxes2)\n",
    "    for i in range(num_boxes1):\n",
    "        for j in range(num_boxes2):\n",
    "            if condition_matrix[i][j]:\n",
    "                iou_matrix[i][j] = compute_iou(boxes1[i], boxes2[j])\n",
    "\n",
    "    iou_max = iou_matrix.max(dim=0)[0]\n",
    "    if log:\n",
    "        print(torch.max(iou_max))\n",
    "    \n",
    "\n",
    "    iou_thresholds = [0.5, 0.6, 0.7, 0.8, 0.9]\n",
    "    total_threat_score = 0\n",
    "    total_weight = 0\n",
    "    for threshold in iou_thresholds:\n",
    "        tp = (iou_max > threshold).sum()\n",
    "        threat_score = tp * 1.0 / (num_boxes1 + num_boxes2 - tp)\n",
    "        total_threat_score += 1.0 / threshold * threat_score\n",
    "        total_weight += 1.0 / threshold\n",
    "\n",
    "    average_threat_score = total_threat_score / total_weight\n",
    "\n",
    "    return average_threat_score\n",
    "\n",
    "\n",
    "\n",
    "\n",
    "def compute_ts_road_map(road_map1, road_map2):\n",
    "    tp = (road_map1 * road_map2).sum()\n",
    "\n",
    "    return tp * 1.0 / (road_map1.sum() + road_map2.sum() - tp)\n",
    "\n",
    "def compute_iou(box1, box2):\n",
    "    a = Polygon(torch.t(box1)).convex_hull\n",
    "    b = Polygon(torch.t(box2)).convex_hull\n",
    "\n",
    "    return a.intersection(b).area / a.union(b).area"
   ]
  },
  {
   "cell_type": "code",
   "execution_count": 11,
   "metadata": {},
   "outputs": [],
   "source": [
    "def compute_bbox_score(bboxes, bbs, idx = False, log=False):\n",
    "    bb_samples = []\n",
    "\n",
    "    bounding_boxes = []\n",
    "    for bb in bboxes:\n",
    "        top_left, width, height = bb\n",
    "        r, c = top_left\n",
    "        xs = torch.Tensor([c, c+width, c+width, c])\n",
    "        ys = torch.Tensor([r, r, r+height, r+height])\n",
    "\n",
    "        xs = xs - 400\n",
    "        ys = 800 - ys # right-side up\n",
    "        ys = ys - 400\n",
    "\n",
    "        xs /= 10.\n",
    "        ys /= 10.\n",
    "\n",
    "        coords = torch.stack((xs, ys))\n",
    "        bounding_boxes.append(coords)\n",
    "\n",
    "    bounding_boxes = torch.stack(bounding_boxes).double()\n",
    "    bb_samples.append(bounding_boxes)\n",
    "    bb_samples = tuple(bb_samples)\n",
    "    \n",
    "    if type(idx) == int:\n",
    "        return compute_ats_bounding_boxes(bb_samples[0].cpu(), torch.stack(bbs[idx]).cpu(), log=True)\n",
    "    else:\n",
    "        return compute_ats_bounding_boxes(bb_samples[0].cpu(), torch.stack(bbs[0]).cpu(), log=False)"
   ]
  },
  {
   "cell_type": "code",
   "execution_count": null,
   "metadata": {},
   "outputs": [],
   "source": []
  },
  {
   "cell_type": "code",
   "execution_count": 12,
   "metadata": {},
   "outputs": [
    {
     "name": "stdout",
     "output_type": "stream",
     "text": [
      "\tAverage Threat Score so far, 0th iteration: 0.02413313090801239\n",
      "\tAverage Threat Score so far, 30th iteration: 0.03231164067983627\n",
      "\tAverage Threat Score so far, 60th iteration: 0.03558046743273735\n",
      "\tAverage Threat Score so far, 90th iteration: 0.03847479447722435\n",
      "\tAverage Threat Score so far, 120th iteration: 0.03663632646203041\n",
      "\tAverage Threat Score so far, 150th iteration: 0.040305886417627335\n",
      "\tAverage Threat Score so far, 180th iteration: 0.03908953443169594\n",
      "\tAverage Threat Score so far, 210th iteration: 0.03818256035447121\n",
      "\tAverage Threat Score so far, 240th iteration: 0.03718893602490425\n",
      "Threshold 0.15, Average threat score: 0.03843117132782936\n",
      "\tAverage Threat Score so far, 0th iteration: 0.0\n",
      "\tAverage Threat Score so far, 30th iteration: 0.03145509958267212\n",
      "\tAverage Threat Score so far, 60th iteration: 0.03831355273723602\n",
      "\tAverage Threat Score so far, 90th iteration: 0.04343250021338463\n",
      "\tAverage Threat Score so far, 120th iteration: 0.04681360349059105\n",
      "\tAverage Threat Score so far, 150th iteration: 0.04767951741814613\n",
      "\tAverage Threat Score so far, 180th iteration: 0.04826819524168968\n",
      "\tAverage Threat Score so far, 210th iteration: 0.045731086283922195\n",
      "\tAverage Threat Score so far, 240th iteration: 0.04675791785120964\n",
      "Threshold 0.2, Average threat score: 0.04690799117088318\n",
      "\tAverage Threat Score so far, 0th iteration: 0.04058704525232315\n",
      "\tAverage Threat Score so far, 30th iteration: 0.05806456878781319\n",
      "\tAverage Threat Score so far, 60th iteration: 0.060166072100400925\n",
      "\tAverage Threat Score so far, 90th iteration: 0.053557559847831726\n",
      "\tAverage Threat Score so far, 120th iteration: 0.053263138979673386\n",
      "\tAverage Threat Score so far, 150th iteration: 0.05244768410921097\n",
      "\tAverage Threat Score so far, 180th iteration: 0.052396923303604126\n",
      "\tAverage Threat Score so far, 210th iteration: 0.05026446655392647\n",
      "\tAverage Threat Score so far, 240th iteration: 0.05135435611009598\n",
      "Threshold 0.25, Average threat score: 0.05072077736258507\n",
      "\tAverage Threat Score so far, 0th iteration: 0.05554211512207985\n",
      "\tAverage Threat Score so far, 30th iteration: 0.06472641229629517\n",
      "\tAverage Threat Score so far, 60th iteration: 0.06753309071063995\n",
      "\tAverage Threat Score so far, 90th iteration: 0.06076761707663536\n",
      "\tAverage Threat Score so far, 120th iteration: 0.05824971944093704\n",
      "\tAverage Threat Score so far, 150th iteration: 0.056323468685150146\n",
      "\tAverage Threat Score so far, 180th iteration: 0.05552053079009056\n",
      "\tAverage Threat Score so far, 210th iteration: 0.055560097098350525\n",
      "\tAverage Threat Score so far, 240th iteration: 0.05488431453704834\n",
      "Threshold 0.3, Average threat score: 0.0543893426656723\n",
      "\tAverage Threat Score so far, 0th iteration: 0.0\n",
      "\tAverage Threat Score so far, 90th iteration: 0.061147384345531464\n",
      "\tAverage Threat Score so far, 120th iteration: 0.05875454097986221\n",
      "\tAverage Threat Score so far, 150th iteration: 0.060007885098457336\n",
      "\tAverage Threat Score so far, 180th iteration: 0.054423511028289795\n",
      "\tAverage Threat Score so far, 210th iteration: 0.053740520030260086\n",
      "\tAverage Threat Score so far, 240th iteration: 0.05495815351605415\n",
      "Threshold 0.35, Average threat score: 0.05392185598611832\n"
     ]
    }
   ],
   "source": [
    "thresholds = [0.15, 0.2, 0.25, 0.3, 0.35]\n",
    "score_threshold = 0\n",
    "\n",
    "\n",
    "back_model = SimpleModel(count_dim=28).to(device)\n",
    "back_model.load_state_dict(torch.load('/scratch/vr1059/back_image_resnet34_10_by_10.pt', map_location=device))\n",
    "left_model = SimpleModel(count_dim=8).to(device)\n",
    "left_model.load_state_dict(torch.load('/scratch/vr1059/left_image_resnet34_10_by_10.pt', map_location=device))\n",
    "front_model = SimpleModel(count_dim=28).to(device)\n",
    "front_model.load_state_dict(torch.load('/scratch/vr1059/front_image_resnet34_10_by_10.pt', map_location=device))\n",
    "back_left_model = SimpleModel(count_dim=8).to(device)\n",
    "back_left_model.load_state_dict(torch.load('/scratch/vr1059/back_left_image_resnet34_10_by_10.pt', map_location=device))\n",
    "\n",
    "for threshold in thresholds:\n",
    "    val_loader = torch.utils.data.DataLoader(labeled_valset, batch_size=1, shuffle=True, collate_fn=collate_fn)\n",
    "\n",
    "    back_model.eval()\n",
    "    left_model.eval()\n",
    "    front_model.eval()\n",
    "    back_left_model.eval()\n",
    "\n",
    "    threat_scores = 0\n",
    "    threats = []\n",
    "\n",
    "#     print(len(val_loader))\n",
    "\n",
    "    with torch.no_grad():\n",
    "        for i, (sample, bbox_bins, road_maps, bbs, counts, bbox_maps) in enumerate(val_loader):\n",
    "                        \n",
    "            back_vehicle, _ = back_model(sample[0][0][:, 125:, :].unsqueeze(0))\n",
    "            left_vehicle, _ = left_model(sample[0][1][:, 130:, :].unsqueeze(0))\n",
    "            front_vehicle, _ = front_model(sample[0][2][:, 130:, :].unsqueeze(0))\n",
    "            back_left_vehicle, _ = back_left_model(sample[0][3][:, 130:, :].unsqueeze(0))\n",
    "            \n",
    "            back_pred_map = torch.sigmoid(back_vehicle[0])\n",
    "            left_pred_map = torch.sigmoid(left_vehicle[0])\n",
    "            front_pred_map = torch.sigmoid(front_vehicle[0])\n",
    "            back_left_pred_map = torch.sigmoid(back_left_vehicle[0])\n",
    "            \n",
    "            reconstruct_back_map = reconstruct_from_bins(back_pred_map, threshold).cpu()\n",
    "            reconstruct_left_map = reconstruct_from_bins(left_pred_map, threshold).cpu()\n",
    "            \n",
    "            if torch.max(front_pred_map).item() > 0.93:\n",
    "                reconstruct_front_map = reconstruct_from_bins(front_pred_map, 0.35).cpu()\n",
    "            elif torch.max(front_pred_map).item() < 0.2:\n",
    "                reconstruct_front_map = reconstruct_from_bins(front_pred_map, 0.1).cpu()\n",
    "            else:\n",
    "                reconstruct_front_map = reconstruct_from_bins(front_pred_map, 0.25).cpu()\n",
    "                \n",
    "            reconstruct_back_left_map = reconstruct_from_bins(back_left_pred_map, threshold).cpu()\n",
    "\n",
    "            reconstruct_map = reconstruct_back_map + reconstruct_left_map + reconstruct_front_map + reconstruct_back_left_map\n",
    "\n",
    "            bb_map = reconstruct_map.clone()\n",
    "\n",
    "            bboxes = []\n",
    "            for r in range(0, 800, 10):\n",
    "                for c in range(0, 800, 10):\n",
    "\n",
    "                    top_left = (r, c)\n",
    "                    width = VERT_BLOCK_SIZE\n",
    "                    height = HORIZ_BLOCK_SIZE\n",
    "\n",
    "                    block = bb_map[r:r+VERT_BLOCK_SIZE, c:c+HORIZ_BLOCK_SIZE]\n",
    "                    score = torch.sum(block).item()\n",
    "                    # If more than have the pixels are 1, classify as bbox car\n",
    "                    if score > (BLOCK_AREA) * score_threshold:\n",
    "                        top_left, width, height = go('right', top_left, width, height)\n",
    "                        top_left, width, height = go('left', top_left, width, height)\n",
    "                        top_left, width, height = go('up', top_left, width, height)\n",
    "                        top_left, width, height = go('down', top_left, width, height)\n",
    "\n",
    "                        bboxes.append((top_left, width, height))\n",
    "                        bb_map[top_left[0]:top_left[0] + height, top_left[1]:top_left[1] + width] = 0    \n",
    "\n",
    "\n",
    "            new_bboxes = []\n",
    "            for x in bboxes:\n",
    "                _, width, height = x\n",
    "                if width * height > 300:\n",
    "                    new_bboxes.append(x)\n",
    "\n",
    "            bboxes = new_bboxes\n",
    "\n",
    "            if len(bboxes) == 0:\n",
    "                continue\n",
    "\n",
    "            ts_bounding_box = compute_bbox_score(bboxes, bbs, log=False)\n",
    "\n",
    "            threat_scores += ts_bounding_box\n",
    "            threats.append(ts_bounding_box)\n",
    "\n",
    "            if i % 30 == 0:\n",
    "                print(\"\\tAverage Threat Score so far, {}th iteration: {}\".format(i, np.mean(threats)))\n",
    "\n",
    "    print(\"Threshold {}, Average threat score: {}\".format(threshold, threat_scores/len(val_loader)))\n",
    "            \n",
    " "
   ]
  },
  {
   "cell_type": "code",
   "execution_count": 1,
   "metadata": {},
   "outputs": [],
   "source": [
    "# 0.041 best validation threat score (bbox) for test_back_and_left. \n",
    "# 0.046 best validation threat score (bbox) for test_back_and_left_and front.\n",
    "# 0.054 best validation threat score (bbox) for test_back_and_left_and front and back_left.\n",
    "\n",
    "# Next step: low-hanging fruit: front-right, back-right, back-left views. \n",
    "# Perhaps need to add parked cars on side of the road, chop them up? \n",
    "\n",
    "# ALl right so I think I have to do 10 by 10, probably. \n",
    "# The left one seems fine, the back one not so much. \n",
    "# I'll try resnet-34 for the back one, and I'll also try 125. "
   ]
  },
  {
   "cell_type": "code",
   "execution_count": null,
   "metadata": {},
   "outputs": [],
   "source": []
  }
 ],
 "metadata": {
  "kernelspec": {
   "display_name": "Python 3",
   "language": "python",
   "name": "python3"
  },
  "language_info": {
   "codemirror_mode": {
    "name": "ipython",
    "version": 3
   },
   "file_extension": ".py",
   "mimetype": "text/x-python",
   "name": "python",
   "nbconvert_exporter": "python",
   "pygments_lexer": "ipython3",
   "version": "3.6.3"
  }
 },
 "nbformat": 4,
 "nbformat_minor": 2
}
