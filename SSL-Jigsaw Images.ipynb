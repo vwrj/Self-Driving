{
 "cells": [
  {
   "cell_type": "code",
   "execution_count": 1,
   "metadata": {},
   "outputs": [],
   "source": [
    "import os\n",
    "import random\n",
    "\n",
    "from PIL import Image\n",
    "\n",
    "import numpy as np\n",
    "import pandas as pd\n",
    "\n",
    "import matplotlib\n",
    "import matplotlib.pyplot as plt\n",
    "matplotlib.rcParams['figure.figsize'] = [5, 5]\n",
    "matplotlib.rcParams['figure.dpi'] = 200\n",
    "\n",
    "import random\n",
    "import itertools\n",
    "import torch\n",
    "import torch.optim as optim \n",
    "import torch.nn as nn\n",
    "import torch.nn.functional as F\n",
    "import torchvision\n",
    "import torchvision.models as models"
   ]
  },
  {
   "cell_type": "code",
   "execution_count": 2,
   "metadata": {},
   "outputs": [],
   "source": [
    "random.seed(0)\n",
    "np.random.seed(0)\n",
    "torch.manual_seed(0);\n",
    "\n",
    "cuda = torch.cuda.is_available()\n",
    "device = torch.device(\"cuda:0\" if cuda else \"cpu\")"
   ]
  },
  {
   "cell_type": "markdown",
   "metadata": {},
   "source": [
    "### Dataset Creation"
   ]
  },
  {
   "cell_type": "code",
   "execution_count": 5,
   "metadata": {},
   "outputs": [],
   "source": [
    "# Constants taken from data_helper.py\n",
    "NUM_SAMPLE_PER_SCENE = 126\n",
    "NUM_IMAGE_PER_SAMPLE = 6\n",
    "image_names = [\n",
    "    'CAM_FRONT_LEFT.jpeg',\n",
    "    'CAM_FRONT.jpeg',\n",
    "    'CAM_FRONT_RIGHT.jpeg',\n",
    "    'CAM_BACK_LEFT.jpeg',\n",
    "    'CAM_BACK.jpeg',\n",
    "    'CAM_BACK_RIGHT.jpeg',\n",
    "    ]\n",
    "\n",
    "# Unlabeled scenes\n",
    "val_unlabeled_scene_index = np.arange(80,106)\n",
    "train_unlabeled_scene_index = np.arange(80)\n",
    "\n",
    "# Image folder\n",
    "image_folder = '/scratch/brs426/data'\n",
    "first_dim = 'image'\n",
    "\n",
    "# Option 1\n",
    "CROP_SIZE = 225\n",
    "PATCH_SIZE = 64\n",
    "\n",
    "# Option 2\n",
    "# CROP_SIZE = 150\n",
    "# PATCH_SIZE = 32\n",
    "\n",
    "# Transforms\n",
    "transform = torchvision.transforms.Compose([torchvision.transforms.RandomCrop(CROP_SIZE),torchvision.transforms.ToTensor()])"
   ]
  },
  {
   "cell_type": "code",
   "execution_count": null,
   "metadata": {},
   "outputs": [],
   "source": [
    "# Get maximal Hamming permutations\n",
    "# N is the number of permutations to return (subsample size)\n",
    "# k are the permutations (k!)\n",
    "# TODO: Speed up\n",
    "def get_maximal_Hamming_permutation_set(N,k):\n",
    "    # Generate all permutations and convert to matrix\n",
    "    perms = list(itertools.permutations(range(k)))\n",
    "    perms = np.array(perms).T\n",
    "    \n",
    "    # Get random index\n",
    "    idx = np.random.randint(0, len(perms))\n",
    "    \n",
    "    # Counter\n",
    "    i = 1\n",
    "    \n",
    "    # Get corresponding permutation and reshape to be 3d for broadcasting\n",
    "    p = perms[:, idx].T\n",
    "    p = p.reshape(i, k, -1)\n",
    "    \n",
    "    # Remove permutation to prevent resampling\n",
    "    perms = np.concatenate((perms[:, 0:idx],perms[:, idx+1:]), axis=1)\n",
    "    \n",
    "    # Compute Hamming distance where resulting matrix is num_perms x num_remaining_perms\n",
    "    while i <= N-1:\n",
    "        # Compute Hamming distance\n",
    "        hamming_dist = np.count_nonzero(p != perms, axis=1)\n",
    "        ones = np.ones(i)\n",
    "        dist = np.dot(ones, hamming_dist)\n",
    "        # Get next index\n",
    "        idx = np.argmax(dist)\n",
    "        # Get corresponding permutation\n",
    "        new_p = perms[:, idx].T\n",
    "        # Reshape and append\n",
    "        new_p = new_p.reshape(1, k, -1)\n",
    "        p = np.append(p, new_p, axis=0)\n",
    "        # Increment\n",
    "        i += 1\n",
    "        # Remove\n",
    "        perms = np.concatenate((perms[:, 0:idx], perms[:, idx+1:]), axis=1)\n",
    "    p = p.reshape(N, k).tolist()\n",
    "    return p"
   ]
  },
  {
   "cell_type": "code",
   "execution_count": null,
   "metadata": {},
   "outputs": [],
   "source": [
    "PERMUTATION_LIMIT = 100\n",
    "permutations = get_maximal_Hamming_permutation_set(PERMUTATION_LIMIT, 9)"
   ]
  },
  {
   "cell_type": "code",
   "execution_count": 6,
   "metadata": {},
   "outputs": [],
   "source": [
    "# Based off of the UnlabeledDataset in data_helper.py\n",
    "# Creates: grid_size x grid_size of cells that have cell_size x cell_size\n",
    "# In each cell, we randomly extract a patch of patch_size x patch_size\n",
    "# TODO: Make sure crop_size, grid_size, cell_size, and patch_size are compatible\n",
    "# TODO: Probably need to clean up a little. Especially patch creation.\n",
    "class JigsawPredictionDataset(torch.utils.data.Dataset):\n",
    "    def __init__(self, image_folder, scene_index, transform, patch_size, cell_size, grid_size, permutations):\n",
    "        \"\"\"\n",
    "        Args:\n",
    "            image_folder (string): the location of the image folder\n",
    "            scene_index (list): a list of scene indices for the unlabeled data \n",
    "            first_dim ({'sample', 'image'}):\n",
    "                'sample' will return [batch_size, NUM_IMAGE_PER_SAMPLE, 3, H, W]\n",
    "                'image' will return [batch_size, 3, H, W] and the index of the camera [0 - 5]\n",
    "                    CAM_FRONT_LEFT: 0\n",
    "                    CAM_FRONT: 1\n",
    "                    CAM_FRONT_RIGHT: 2\n",
    "                    CAM_BACK_LEFT: 3\n",
    "                    CAM_BACK.jpeg: 4\n",
    "                    CAM_BACK_RIGHT: 5\n",
    "            transform (Transform): The function to process the image\n",
    "        \"\"\"\n",
    "\n",
    "        self.image_folder = image_folder\n",
    "        self.scene_index = scene_index\n",
    "        self.transform = transform\n",
    "        self.patch_size = patch_size\n",
    "        self.cell_size = cell_size\n",
    "        self.grid_size = grid_size\n",
    "        assert first_dim in ['sample', 'image']\n",
    "        self.first_dim = first_dim\n",
    "        self.permutations = permutations\n",
    "        \n",
    "        # Number of examples\n",
    "        self.length = self.scene_index.size * NUM_SAMPLE_PER_SCENE * NUM_IMAGE_PER_SAMPLE\n",
    "        \n",
    "        # Differential between patch_size and grid cell size\n",
    "        self.diff = self.cell_size - self.patch_size\n",
    "        \n",
    "        # List to store differentials to get patches from cells.\n",
    "        # Set differentials so none of patches will be on the boundary\n",
    "        self.x_diff = [random.randint(1, self.diff-2) for i in range(self.length)]\n",
    "        self.y_diff = [random.randint(1, self.diff-2) for i in range(self.length)]\n",
    "        \n",
    "        # List to store the permutation for each image\n",
    "        self.idx_permutations = [random.randint(0, len(self.permutations)-1) for i in range(self.length)]\n",
    "\n",
    "    def __len__(self):\n",
    "        return self.scene_index.size * NUM_SAMPLE_PER_SCENE * NUM_IMAGE_PER_SAMPLE\n",
    "    \n",
    "    def __getitem__(self, index):\n",
    "        scene_id = self.scene_index[index // (NUM_SAMPLE_PER_SCENE * NUM_IMAGE_PER_SAMPLE)]\n",
    "        sample_id = (index % (NUM_SAMPLE_PER_SCENE * NUM_IMAGE_PER_SAMPLE)) // NUM_IMAGE_PER_SAMPLE\n",
    "        image_name = image_names[index % NUM_IMAGE_PER_SAMPLE]\n",
    "\n",
    "        image_path = os.path.join(self.image_folder, f'scene_{scene_id}', f'sample_{sample_id}', image_name) \n",
    "        image = Image.open(image_path)\n",
    "        image = self.transform(image)\n",
    "        patches = []\n",
    "        diff_x = self.x_diff[index]\n",
    "        diff_y = self.y_diff[index]\n",
    "        permutation = self.permutations[self.idx_permutations[index]]\n",
    "        # Create random patch from grid cell\n",
    "        for i in range(self.grid_size):\n",
    "            for j in range(self.grid_size):\n",
    "                patch = image[:, self.cell_size*j:self.cell_size*(j+1), self.cell_size*i:self.cell_size*(i+1)]\n",
    "                patch = patch[:, diff_x:diff_x+self.patch_size, diff_y:diff_y+self.patch_size]\n",
    "                patches.append(patch)\n",
    "        patch_tensor = torch.stack(patches)\n",
    "        # Permute\n",
    "        patch_tensor = patch_tensor[permutation, :, :, :]\n",
    "        \n",
    "        # Return patch tensor and permutation\n",
    "        return patch_tensor, self.idx_permutations[index]"
   ]
  },
  {
   "cell_type": "code",
   "execution_count": 7,
   "metadata": {},
   "outputs": [],
   "source": [
    "train_jigsaw = JigsawPredictionDataset(image_folder, train_unlabeled_scene_index, transform, patch_size=64, cell_size=75, grid_size=3, permutations=permutations)\n",
    "val_jigsaw = JigsawPredictionDataset(image_folder, val_unlabeled_scene_index, transform, patch_size=64, cell_size=75, grid_size=3, permutations=permutations)"
   ]
  },
  {
   "cell_type": "code",
   "execution_count": 8,
   "metadata": {},
   "outputs": [],
   "source": [
    "jigsaw_train_loader = torch.utils.data.DataLoader(train_jigsaw, batch_size=64, shuffle=True, num_workers=4)\n",
    "jigsaw_val_loader = torch.utils.data.DataLoader(val_jigsaw, batch_size=64, shuffle=True, num_workers=4)"
   ]
  },
  {
   "cell_type": "markdown",
   "metadata": {},
   "source": [
    "### Model Architecture"
   ]
  },
  {
   "cell_type": "code",
   "execution_count": 37,
   "metadata": {},
   "outputs": [],
   "source": [
    "# Create resnet-based model\n",
    "# Resnet outputs unnormalized scores for 1000 class classification problem\n",
    "# Specify any of the available ResNet models and load them in\n",
    "class ResNetModel(nn.Module):\n",
    "    def __init__(self, resnet, num_classes, hidden_size):\n",
    "        super(ResNetModel, self).__init__()\n",
    "        if resnet not in [18, 34, 50, 101, 152]:\n",
    "            raise Excpetion(\"Invalid resnet size\")\n",
    "        self.resnet = getattr(models, \"resnet{}\".format(resnet))()\n",
    "        self.fc1 = nn.Linear(1000, hidden_size)\n",
    "        # Mutliply by 9 because we are concatenating the representations for each image together\n",
    "        self.fc2 = nn.Linear(9 * hidden_size, num_classes)\n",
    "    \n",
    "    def forward(self, x):\n",
    "        # Input x is (Batch x Number of Images x Channels x Height x Width)\n",
    "        batch = x.shape[0]\n",
    "        channels = x.shape[2]\n",
    "        height = x.shape[3]\n",
    "        width = x.shape[4]\n",
    "        x = x.reshape(-1, channels, height, width)\n",
    "        # Now our input is ((Batch x Number of Images) x Channels x Height x Width)\n",
    "        x = F.relu(self.resnet(x))\n",
    "        x = F.relu(self.fc1(x))\n",
    "        # Now we need to recast to have original batch size (should double check this)\n",
    "        x = x.reshape(batch, -1)\n",
    "        x = self.fc2(x)\n",
    "        return x"
   ]
  },
  {
   "cell_type": "markdown",
   "metadata": {},
   "source": [
    "### Training Logic"
   ]
  },
  {
   "cell_type": "code",
   "execution_count": 31,
   "metadata": {},
   "outputs": [],
   "source": [
    "# Train logic, return average loss over training set after each epoch\n",
    "def train(model, device, train_loader, optimizer, epoch, log_interval = 250):\n",
    "    # Set model to training mode\n",
    "    model.train()\n",
    "    \n",
    "    # Number correct for accuracy\n",
    "    num_correct = 0\n",
    "    \n",
    "    # Train loss\n",
    "    train_loss = 0\n",
    "    \n",
    "    # Loop through examples\n",
    "    for batch_idx, (data, target) in enumerate(train_loader):\n",
    "        \n",
    "        # Send data and target to device\n",
    "        data, target = data.to(device), target.to(device)\n",
    "        \n",
    "        # Zero out optimizer\n",
    "        optimizer.zero_grad()\n",
    "        \n",
    "        # Pass data through model\n",
    "        output = model(data)\n",
    "        predictions = torch.argmax(output, 1)\n",
    "        num_correct += torch.sum(predictions == target).item()\n",
    "        \n",
    "        # Compute the loss\n",
    "        loss = F.cross_entropy(output, target)\n",
    "        train_loss += loss.item()\n",
    "        \n",
    "        # Backpropagate loss\n",
    "        loss.backward()\n",
    "        \n",
    "        # Make a step with the optimizer\n",
    "        optimizer.step()\n",
    "        \n",
    "        # Print loss (uncomment lines below once implemented)\n",
    "        if batch_idx % log_interval == 0:\n",
    "            print('Train Epoch: {} [{}/{} ({:.0f}%)]\\tLoss: {:.6f}'.format(\n",
    "                epoch, batch_idx * len(data), len(train_loader.dataset),\n",
    "                100. * batch_idx / len(train_loader), loss.item()))\n",
    "    \n",
    "    \n",
    "    # Average train loss\n",
    "    average_train_loss = train_loss / len(train_loader)\n",
    "    # Print loss (uncomment lines below once implemented)\n",
    "    print('\\nTrain set: Average loss: {:.4f}, Accuracy: {}/{} ({:.0f}%)\\n'.format(\n",
    "        average_train_loss, num_correct, len(train_loader.dataset),\n",
    "        100. * num_correct / len(train_loader.dataset)))"
   ]
  },
  {
   "cell_type": "markdown",
   "metadata": {},
   "source": [
    "### Validation Logic"
   ]
  },
  {
   "cell_type": "code",
   "execution_count": 32,
   "metadata": {},
   "outputs": [],
   "source": [
    "# Define test method\n",
    "def test(model, device, test_loader):\n",
    "    # Set model to evaluation mode\n",
    "    model.eval()\n",
    "    # Variable for the total loss \n",
    "    test_loss = 0\n",
    "    # Counter for the correct predictions\n",
    "    num_correct = 0\n",
    "    \n",
    "    # don't need autograd for eval\n",
    "    with torch.no_grad():\n",
    "        # Loop through data points\n",
    "        for data, target in test_loader:\n",
    "            pass # remove once implemented\n",
    "        \n",
    "            # Send data to device\n",
    "            data, target = data.to(device), target.to(device)\n",
    "            \n",
    "            # Pass data through model\n",
    "            output = model(data)\n",
    "            \n",
    "            # Compute the negative log likelihood loss with reduction='sum' and add to total test_loss\n",
    "            loss = F.cross_entropy(output, target, reduction='sum')\n",
    "            test_loss += loss.item()\n",
    "            \n",
    "            # Get predictions from the model for each data point\n",
    "            predictions = torch.argmax(output, 1)\n",
    "\n",
    "            # Add number of correct predictions to total num_correct \n",
    "            num_correct += torch.sum(predictions == target).item()\n",
    "            \n",
    "    \n",
    "    # Compute the average test_loss\n",
    "    # avg_test_loss = TODO\n",
    "    avg_test_loss = test_loss / len(test_loader.dataset)\n",
    "    \n",
    "    # Print loss (uncomment lines below once implemented)\n",
    "    print('\\nTest set: Average loss: {:.4f}, Accuracy: {}/{} ({:.0f}%)\\n'.format(\n",
    "        avg_test_loss, num_correct, len(test_loader.dataset),\n",
    "        100. * num_correct / len(test_loader.dataset)))\n",
    "    \n",
    "    return avg_test_loss"
   ]
  },
  {
   "cell_type": "code",
   "execution_count": 38,
   "metadata": {},
   "outputs": [],
   "source": [
    "# ResNet model\n",
    "res = ResNetModel(50,1000, 256).to(device)\n",
    "\n",
    "# Optimizer\n",
    "optimizer = optim.Adam(res.parameters(), lr=3e-4)"
   ]
  },
  {
   "cell_type": "code",
   "execution_count": null,
   "metadata": {},
   "outputs": [
    {
     "name": "stdout",
     "output_type": "stream",
     "text": [
      "Train Epoch: 1 [0/60480 (0%)]\tLoss: 6.890244\n",
      "Train Epoch: 1 [16000/60480 (26%)]\tLoss: 1.647320\n",
      "Train Epoch: 1 [32000/60480 (53%)]\tLoss: 1.057196\n",
      "Train Epoch: 1 [48000/60480 (79%)]\tLoss: 0.803101\n",
      "\n",
      "Train set: Average loss: 2.1807, Accuracy: 31462/60480 (52%)\n",
      "\n",
      "\n",
      "Test set: Average loss: 1.1862, Accuracy: 12168/19656 (62%)\n",
      "\n",
      "Train Epoch: 2 [0/60480 (0%)]\tLoss: 0.746082\n",
      "Train Epoch: 2 [16000/60480 (26%)]\tLoss: 0.800040\n",
      "Train Epoch: 2 [32000/60480 (53%)]\tLoss: 0.529827\n",
      "Train Epoch: 2 [48000/60480 (79%)]\tLoss: 0.503506\n",
      "\n",
      "Train set: Average loss: 0.6384, Accuracy: 45656/60480 (75%)\n",
      "\n",
      "\n",
      "Test set: Average loss: 0.7035, Accuracy: 14977/19656 (76%)\n",
      "\n",
      "Train Epoch: 3 [0/60480 (0%)]\tLoss: 0.473989\n",
      "Train Epoch: 3 [16000/60480 (26%)]\tLoss: 0.665672\n",
      "Train Epoch: 3 [32000/60480 (53%)]\tLoss: 0.509801\n",
      "Train Epoch: 3 [48000/60480 (79%)]\tLoss: 0.363237\n",
      "\n",
      "Train set: Average loss: 0.4269, Accuracy: 50912/60480 (84%)\n",
      "\n",
      "\n",
      "Test set: Average loss: 0.5185, Accuracy: 16306/19656 (83%)\n",
      "\n",
      "Train Epoch: 4 [0/60480 (0%)]\tLoss: 0.233987\n",
      "Train Epoch: 4 [16000/60480 (26%)]\tLoss: 0.251172\n",
      "Train Epoch: 4 [32000/60480 (53%)]\tLoss: 0.342566\n",
      "Train Epoch: 4 [48000/60480 (79%)]\tLoss: 0.377004\n",
      "\n",
      "Train set: Average loss: 0.3133, Accuracy: 53605/60480 (89%)\n",
      "\n",
      "\n",
      "Test set: Average loss: 0.4344, Accuracy: 16861/19656 (86%)\n",
      "\n",
      "Train Epoch: 5 [0/60480 (0%)]\tLoss: 0.184494\n",
      "Train Epoch: 5 [16000/60480 (26%)]\tLoss: 0.280597\n",
      "Train Epoch: 5 [32000/60480 (53%)]\tLoss: 0.249928\n",
      "Train Epoch: 5 [48000/60480 (79%)]\tLoss: 0.368945\n",
      "\n",
      "Train set: Average loss: 0.2507, Accuracy: 54827/60480 (91%)\n",
      "\n",
      "\n",
      "Test set: Average loss: 0.3433, Accuracy: 17364/19656 (88%)\n",
      "\n",
      "Train Epoch: 6 [0/60480 (0%)]\tLoss: 0.279959\n",
      "Train Epoch: 6 [16000/60480 (26%)]\tLoss: 0.241337\n",
      "Train Epoch: 6 [32000/60480 (53%)]\tLoss: 0.279544\n",
      "Train Epoch: 6 [48000/60480 (79%)]\tLoss: 0.205566\n",
      "\n",
      "Train set: Average loss: 0.2126, Accuracy: 55525/60480 (92%)\n",
      "\n",
      "\n",
      "Test set: Average loss: 0.3011, Accuracy: 17598/19656 (90%)\n",
      "\n",
      "Train Epoch: 7 [0/60480 (0%)]\tLoss: 0.171468\n",
      "Train Epoch: 7 [16000/60480 (26%)]\tLoss: 0.340849\n",
      "Train Epoch: 7 [32000/60480 (53%)]\tLoss: 0.434692\n",
      "Train Epoch: 7 [48000/60480 (79%)]\tLoss: 0.115727\n",
      "\n",
      "Train set: Average loss: 0.1922, Accuracy: 55958/60480 (93%)\n",
      "\n",
      "\n",
      "Test set: Average loss: 0.5012, Accuracy: 16561/19656 (84%)\n",
      "\n",
      "Train Epoch: 8 [0/60480 (0%)]\tLoss: 0.236405\n",
      "Train Epoch: 8 [16000/60480 (26%)]\tLoss: 0.118922\n",
      "Train Epoch: 8 [32000/60480 (53%)]\tLoss: 0.174001\n",
      "Train Epoch: 8 [48000/60480 (79%)]\tLoss: 0.203595\n",
      "\n",
      "Train set: Average loss: 0.1725, Accuracy: 56273/60480 (93%)\n",
      "\n",
      "\n",
      "Test set: Average loss: 0.2439, Accuracy: 17964/19656 (91%)\n",
      "\n",
      "Train Epoch: 9 [0/60480 (0%)]\tLoss: 0.128299\n",
      "Train Epoch: 9 [16000/60480 (26%)]\tLoss: 0.164581\n",
      "Train Epoch: 9 [32000/60480 (53%)]\tLoss: 0.163557\n",
      "Train Epoch: 9 [48000/60480 (79%)]\tLoss: 0.081844\n",
      "\n",
      "Train set: Average loss: 0.1531, Accuracy: 56709/60480 (94%)\n",
      "\n",
      "\n",
      "Test set: Average loss: 0.2545, Accuracy: 17928/19656 (91%)\n",
      "\n",
      "Train Epoch: 10 [0/60480 (0%)]\tLoss: 0.078647\n",
      "Train Epoch: 10 [16000/60480 (26%)]\tLoss: 0.074031\n",
      "Train Epoch: 10 [32000/60480 (53%)]\tLoss: 0.150886\n",
      "Train Epoch: 10 [48000/60480 (79%)]\tLoss: 0.200585\n",
      "\n",
      "Train set: Average loss: 0.1490, Accuracy: 56846/60480 (94%)\n",
      "\n",
      "\n",
      "Test set: Average loss: 0.2172, Accuracy: 18230/19656 (93%)\n",
      "\n",
      "Train Epoch: 11 [0/60480 (0%)]\tLoss: 0.249782\n",
      "Train Epoch: 11 [16000/60480 (26%)]\tLoss: 0.300849\n",
      "Train Epoch: 11 [32000/60480 (53%)]\tLoss: 0.048806\n",
      "Train Epoch: 11 [48000/60480 (79%)]\tLoss: 0.146733\n",
      "\n",
      "Train set: Average loss: 0.1367, Accuracy: 57097/60480 (94%)\n",
      "\n",
      "\n",
      "Test set: Average loss: 0.3566, Accuracy: 17346/19656 (88%)\n",
      "\n",
      "Train Epoch: 12 [0/60480 (0%)]\tLoss: 0.077082\n",
      "Train Epoch: 12 [16000/60480 (26%)]\tLoss: 0.094944\n",
      "Train Epoch: 12 [32000/60480 (53%)]\tLoss: 0.035261\n",
      "Train Epoch: 12 [48000/60480 (79%)]\tLoss: 0.073119\n",
      "\n",
      "Train set: Average loss: 0.1280, Accuracy: 57291/60480 (95%)\n",
      "\n",
      "\n",
      "Test set: Average loss: 0.3245, Accuracy: 17629/19656 (90%)\n",
      "\n",
      "Train Epoch: 13 [0/60480 (0%)]\tLoss: 0.120296\n"
     ]
    }
   ],
   "source": [
    "best_val_loss = None\n",
    "save_path = \"/scratch/brs426/ben_models/resnet50_jigsaw_single_image_1000_permutations_SSL_checkpoint.p\"\n",
    "epochs = 20\n",
    "for epoch in range(1, epochs + 1):\n",
    "    # Train model\n",
    "    train(res, device, jigsaw_train_loader, optimizer, epoch)\n",
    "    val_loss = test(res, device, jigsaw_val_loader)\n",
    "    # Save model\n",
    "    if best_val_loss is None:\n",
    "        torch.save({'model_state_dict': res.state_dict(),\n",
    "                   'optimizer_state_dict': optimizer.state_dict(),\n",
    "                   'loss': val_loss}, save_path)\n",
    "        best_val_loss = val_loss"
   ]
  },
  {
   "cell_type": "code",
   "execution_count": 51,
   "metadata": {},
   "outputs": [
    {
     "name": "stdout",
     "output_type": "stream",
     "text": [
      "6\n",
      "5\n",
      "0\n",
      "3\n",
      "0\n",
      "0\n",
      "8\n",
      "9\n",
      "1\n",
      "3\n",
      "1\n",
      "9\n",
      "3\n",
      "4\n",
      "4\n",
      "2\n",
      "1\n",
      "7\n"
     ]
    },
    {
     "data": {
      "text/plain": [
       "<matplotlib.image.AxesImage at 0x2b9a44e35550>"
      ]
     },
     "execution_count": 51,
     "metadata": {},
     "output_type": "execute_result"
    },
    {
     "data": {
      "image/png": "[encoded data removed]",
      "text/plain": [
       "<Figure size 1000x1000 with 1 Axes>"
      ]
     },
     "metadata": {
      "needs_background": "light"
     },
     "output_type": "display_data"
    }
   ],
   "source": [
    "# Generation of maximal Hamming distance permutation set\n"
   ]
  },
  {
   "cell_type": "code",
   "execution_count": 52,
   "metadata": {},
   "outputs": [
    {
     "data": {
      "text/plain": [
       "<matplotlib.image.AxesImage at 0x2b9a458c4b20>"
      ]
     },
     "execution_count": 52,
     "metadata": {},
     "output_type": "execute_result"
    },
    {
     "data": {
      "image/png": "[encoded data removed]",
      "text/plain": [
       "<Figure size 1000x1000 with 9 Axes>"
      ]
     },
     "metadata": {
      "needs_background": "light"
     },
     "output_type": "display_data"
    }
   ],
   "source": [
    "fig, (ax1, ax2, ax3, ax4 ,ax5, ax6, ax7, ax8, ax9) = plt.subplots(9,1)\n",
    "ax1.imshow(patches[0].numpy().transpose(1,2,0))\n",
    "ax2.imshow(patches[1].numpy().transpose(1,2,0))\n",
    "ax3.imshow(patches[2].numpy().transpose(1,2,0))\n",
    "ax4.imshow(patches[3].numpy().transpose(1,2,0))\n",
    "ax5.imshow(patches[4].numpy().transpose(1,2,0))\n",
    "ax6.imshow(patches[5].numpy().transpose(1,2,0))\n",
    "ax7.imshow(patches[6].numpy().transpose(1,2,0))\n",
    "ax8.imshow(patches[7].numpy().transpose(1,2,0))\n",
    "ax9.imshow(patches[8].numpy().transpose(1,2,0))"
   ]
  },
  {
   "cell_type": "code",
   "execution_count": 36,
   "metadata": {},
   "outputs": [
    {
     "data": {
      "text/plain": [
       "<matplotlib.image.AxesImage at 0x2b9a1ffe1580>"
      ]
     },
     "execution_count": 36,
     "metadata": {},
     "output_type": "execute_result"
    }
   ],
   "source": [
    "ax1.imshow(patches[0].numpy().transpose(1,2,0))\n",
    "ax2.imshow(patches[1].numpy().transpose(1,2,0))"
   ]
  },
  {
   "cell_type": "code",
   "execution_count": null,
   "metadata": {},
   "outputs": [],
   "source": []
  }
 ],
 "metadata": {
  "kernelspec": {
   "display_name": "Python [conda env:pDL] *",
   "language": "python",
   "name": "conda-env-pDL-py"
  },
  "language_info": {
   "codemirror_mode": {
    "name": "ipython",
    "version": 3
   },
   "file_extension": ".py",
   "mimetype": "text/x-python",
   "name": "python",
   "nbconvert_exporter": "python",
   "pygments_lexer": "ipython3",
   "version": "3.8.2"
  }
 },
 "nbformat": 4,
 "nbformat_minor": 4
}
